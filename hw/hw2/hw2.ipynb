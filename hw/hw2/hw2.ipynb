{
 "cells": [
  {
   "cell_type": "markdown",
   "metadata": {},
   "source": [
    "# Домашнее задание 2 (20 + 40 = 60 pts )"
   ]
  },
  {
   "cell_type": "markdown",
   "metadata": {},
   "source": [
    "## Задача 1 (20 pts)\n",
    "\n",
    "- (5 pts) Докажите, что $\\mathrm{vec}(AXB) = (B^\\top \\otimes A)\\, \\mathrm{vec}(X)$, если $\\mathrm{vec}(X)$ векторизация матрицы по столбцам. Что и почему изменится, если использовать векторизацию по строкам? \n",
    "\n",
    "- (2 pts) Какова сложность наивного вычислени $(A \\otimes B) x$ и почему она такова? Покажите, как она может быть снижена.\n",
    "\n",
    "- (3 pts) Пусть матрицы $A$ и $B$ имеют спектральные разложения $A = S_A\\Lambda_A S_A^{-1}$ и $B = S_B\\Lambda_B S^{-1}_B$. Найдите собственные векторы и собственные значения у матрицы $A\\otimes I + I \\otimes B$.\n",
    "\n",
    "- (10 pts) Пусть $A = \\mathrm{diag}\\left(\\frac{1}{1000},\\frac{2}{1000},\\dots \\frac{999}{1000}, 1, 1000 \\right)$. Оцените аналитически число итераций необходимых для решения линейной системы с матрицей $A$ с относительной точностью $10^{-4}$ используя\n",
    "    - метод Ричардсона с оптимальным параметром (используйте евклидову норму)\n",
    "    - метод Чебышёва (используйте евклидову норму)\n",
    "    - метод сопряжённых градиентов (используйте $A$-норму)."
   ]
  },
  {
   "cell_type": "code",
   "execution_count": 1,
   "metadata": {},
   "outputs": [],
   "source": [
    "# Место для Вашего решения"
   ]
  },
  {
   "cell_type": "markdown",
   "metadata": {
    "slideshow": {
     "slide_type": "fragment"
    }
   },
   "source": [
    "## Задача 2 (40 pts)\n",
    "\n",
    "### Спектральное разбиение графа и обратнеая итерация\n",
    "\n",
    "\n",
    "Дан связный граф $G$ и соответствующий ему лапласиан $L = D - A$ с собственными значениями  $0=\\lambda_1, \\lambda_2, ..., \\lambda_n$, где $D$ диагональная матрица со степенями вершин на диагонали, а $A$ – матрица смежности.\n",
    "Вектор Фидлера – это собственный вектор, соответствующий собственному значению $\\lambda_2$ матрицы $L$. Этот вектор может быть использован для разбиения графа: положитенльные значения соответствуют одной части графа, отрицательные – другой."
   ]
  },
  {
   "cell_type": "markdown",
   "metadata": {},
   "source": [
    "### Метод обратной итерации (15 pts)\n",
    "\n",
    "Для поиска вектора Фидлера мы будем использовать метод Релеяю.\n",
    "\n",
    "* (5 pts) Выпишите матрицу ортопроектора на подпространство ортогональное собственному вектору матрице $L$, соответствующему собственному значению $0$ и докажите (аналитически), что это действительно ортопроектор.\n",
    " \n",
    "* (5 pts) Реализуйте функцию спектрального разделения графа ```partition```:"
   ]
  },
  {
   "cell_type": "code",
   "execution_count": 3,
   "metadata": {},
   "outputs": [],
   "source": [
    "# INPUT:\n",
    "# A - adjacency matrix (scipy.sparse.csr_matrix)\n",
    "# num_iter_fix - number of iterations with fixed shift (float)\n",
    "# shift - (float number)\n",
    "# num_iter_adapt - number of iterations with adaptive shift (int) -- Rayleigh quotient iteration steps\n",
    "# x0 - initial guess (1D numpy.ndarray)\n",
    "# OUTPUT:\n",
    "# x - normalized Fiedler vector (1D numpy.ndarray)\n",
    "# eigs - eigenvalue estimations at each step (1D numpy.ndarray)\n",
    "# eps - relative tolerance (float)\n",
    "def partition(A, shift, num_iter_fix, num_iter_adapt, x0, eps):\n",
    "    raise NotImplementedError()"
   ]
  },
  {
   "cell_type": "markdown",
   "metadata": {},
   "source": [
    "Алгоритм должен останавливаться спустя `num_iter_fix + num_iter_adapt` итераций или если выполнено следующее соотношение\n",
    "\n",
    "$$ \\boxed{\\|\\lambda_k - \\lambda_{k-1}\\|_2 / \\|\\lambda_k\\|_2 \\leq \\varepsilon} \\text{ на некотором шаге } k.$$\n",
    "\n",
    "Do not forget to use the orthogonal projection from above in the iterative process to get the correct eigenvector.\n",
    "It is also a good idea to use ```shift=0``` before the adaptive stragy is used. This, however, is not possible since the matrix $L$ is singular, and sparse decompositions in ```scipy``` does not work in this case. Therefore, we first use a very small shift instead.\n",
    "\n",
    "* (3 pts) Сгенерируйте случайный `lollipop_graph`, используя библиотеку `networkx`, и найдите его разбиение. [Нарисуйте](https://networkx.github.io/documentation/networkx-1.9/examples/drawing/labels_and_colors.html) этот граф с вершинами окрашенными в соответствии с разбиением.\n",
    "\n",
    "* (2 pts) Запустите метод со случайного начального приближение ```x0```, установите ```num_iter_fix=0``` и объясните, почему метод может сойтись к неверному собственному значению?"
   ]
  },
  {
   "cell_type": "code",
   "execution_count": null,
   "metadata": {},
   "outputs": [],
   "source": [
    "# Место для Вашего решения"
   ]
  },
  {
   "cell_type": "markdown",
   "metadata": {},
   "source": [
    "### Спектральные свойства графа (15 pts)\n",
    "\n",
    "* (5 pts) Докажите, что кратность собственного значения $0$ в спектре лапласиана графа равна числу связных компонент.\n",
    "* (10 pts) Второе наименьшее собственное значение $L(G)$, $\\lambda_2(L(G))$, часто называется алгебраической связностью графа $G$. \n",
    "За подобным использованием этого термина стоят следующие рассуждения: граф с большей алгебраической связностью обычно имеет больше рёбер и следовательно его можно считать \"более связным\".  \n",
    "Для проверки этого утверждения создайте несколько графов с одинаковым числом вершин. \n",
    "Одним из них должен быть простой циклический граф $C_{30}$, а другим – полный граф $K_{30}$. (Вы также можете менять число вершин в ваших эксипериментах, если это имеет смысл, но не делайте его слишком маленьким). Используйте библиотку ```networkx``` для создания графов.\n",
    "    * Найдите алгебраическую связность для каждого графа, используя метод обратной итерации (с переключением на метод Релея)\n",
    "    * Нарисуйте зависимость $\\lambda_2(G_i)$ от $|E_i|$ – количества вершин.\n",
    "    * Нарисуйте разбиение нескольких графов из множества сгенерированных\n",
    "    * Прокомментируйте результаты"
   ]
  },
  {
   "cell_type": "code",
   "execution_count": 4,
   "metadata": {},
   "outputs": [],
   "source": [
    "# Место для Вашего решения"
   ]
  },
  {
   "cell_type": "markdown",
   "metadata": {
    "slideshow": {
     "slide_type": "fragment"
    }
   },
   "source": [
    "### Разбиение изображения на две части (10 pts)\n",
    "\n",
    "Рассмотрим граф, полученный из бинаризованного изображения. Вершинами графа являются только пиксели, в которых стоит $1$. Также каждая вершина имеет не более 8 соседей, то есть степень каждой вершины графа ограничена 8.\n",
    "* (3 pts) Найдите изображение минимального размера $(256, 256)$ и бинаризуйте его так, чтобы граф, построенный на основе чёрных пикселей имел в точности одну связную компоненту.\n",
    "* (5 pts) Напишите функцию для построения разреженной матрицы смежности из бинаризованного изображения, имея в виду вышеописанные правила\n",
    "* (2 pts) Найдите разбиение итогового графа и нарисуйте изображение в соответствии с этим разбиением. Объясните результат."
   ]
  },
  {
   "cell_type": "code",
   "execution_count": 2,
   "metadata": {},
   "outputs": [],
   "source": [
    "# Место для Вашего решения"
   ]
  }
 ],
 "metadata": {
  "kernelspec": {
   "display_name": "Python 3",
   "language": "python",
   "name": "python3"
  },
  "language_info": {
   "codemirror_mode": {
    "name": "ipython",
    "version": 3
   },
   "file_extension": ".py",
   "mimetype": "text/x-python",
   "name": "python",
   "nbconvert_exporter": "python",
   "pygments_lexer": "ipython3",
   "version": "3.6.9"
  }
 },
 "nbformat": 4,
 "nbformat_minor": 2
}
