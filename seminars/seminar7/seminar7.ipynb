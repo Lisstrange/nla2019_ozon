{
 "cells": [
  {
   "cell_type": "markdown",
   "metadata": {
    "slideshow": {
     "slide_type": "slide"
    }
   },
   "source": [
    "# Семинар 7\n",
    "\n",
    "# Введение в итерационные методы"
   ]
  },
  {
   "cell_type": "markdown",
   "metadata": {
    "slideshow": {
     "slide_type": "slide"
    }
   },
   "source": [
    "## Степенной метод: напоминание\n",
    "\n",
    "- Задача поиска максимального по модулю собственного значения\n",
    "- Сходимость линейная, коэффициент $\\frac{|\\lambda_2|}{|\\lambda_1|}$\n",
    "- Может не сходится. В каком случае?\n",
    "- Сложность пропорциональна сложности умножения матрицы на вектор"
   ]
  },
  {
   "cell_type": "markdown",
   "metadata": {
    "slideshow": {
     "slide_type": "slide"
    }
   },
   "source": [
    "## Сдвиги для ускорения сходимости степенного метода\n",
    "\n",
    "- Метод обратной итерации со сдвигами\n",
    "\n",
    "\\begin{align*}\n",
    "& x_{k+1} = (A - \\sigma I)^{-1} x_k\\\\\n",
    "& x_{k+1} := \\frac{x_{k+1}}{\\|x_{k+1}\\|}\n",
    "\\end{align*}\n",
    "\n",
    "- Куда сойдётся?"
   ]
  },
  {
   "cell_type": "code",
   "execution_count": 2,
   "metadata": {
    "slideshow": {
     "slide_type": "slide"
    }
   },
   "outputs": [],
   "source": [
    "import numpy as np\n",
    "import matplotlib.pyplot as plt\n",
    "%matplotlib inline\n",
    "import seaborn as sns\n",
    "sns.set_context(\"talk\")\n",
    "import scipy.linalg as splin\n",
    "\n",
    "def shift_inverse_iteration(A, x0, num_iter, shift=0.):\n",
    "    x = x0.copy()\n",
    "    conv = [x]\n",
    "    for i in range(num_iter):\n",
    "        x = np.linalg.solve(A - shift * np.eye(n), x)\n",
    "        x = x / np.linalg.norm(x)\n",
    "        conv.append(x)\n",
    "    return x, conv\n",
    "\n",
    "def shift_inverse_iteration_fast(A, x0, num_iter, shift=0.):\n",
    "    x = x0.copy()\n",
    "    conv = [x]\n",
    "    lu_factor = splin.lu_factor(A - shift * np.eye(n))\n",
    "    for i in range(num_iter):\n",
    "        x = splin.lu_solve(lu_factor, x)\n",
    "        x = x / np.linalg.norm(x)\n",
    "        conv.append(x)\n",
    "    return x, conv"
   ]
  },
  {
   "cell_type": "code",
   "execution_count": 3,
   "metadata": {
    "slideshow": {
     "slide_type": "slide"
    }
   },
   "outputs": [
    {
     "name": "stdout",
     "output_type": "stream",
     "text": [
      "[ 1.00129089  1.14452777  1.72651117  4.27990214  5.59525073  8.50188201\n",
      " 12.20387858 13.17684228 15.93954198 32.29176751]\n"
     ]
    }
   ],
   "source": [
    "n = 10\n",
    "A = np.random.randn(n, n)\n",
    "A = A.T @ A + np.eye(n)\n",
    "# A = A + A.T\n",
    "true_spectrum = np.linalg.eigvals(A)\n",
    "print(np.sort(true_spectrum))\n",
    "x0 = np.random.randn(n)\n",
    "num_iter = 40"
   ]
  },
  {
   "cell_type": "code",
   "execution_count": 4,
   "metadata": {
    "slideshow": {
     "slide_type": "slide"
    }
   },
   "outputs": [
    {
     "name": "stdout",
     "output_type": "stream",
     "text": [
      "1.0012950263476652\n"
     ]
    }
   ],
   "source": [
    "# smallest_eigv, conv_sm = shift_inverse_iteration(A, x0, num_iter)\n",
    "# print(smallest_eigv @ A @ smallest_eigv)\n",
    "smallest_eigv, conv_sm = shift_inverse_iteration_fast(A, x0, num_iter)\n",
    "print(smallest_eigv @ A @ smallest_eigv)"
   ]
  },
  {
   "cell_type": "code",
   "execution_count": 5,
   "metadata": {
    "slideshow": {
     "slide_type": "slide"
    }
   },
   "outputs": [
    {
     "data": {
      "text/plain": [
       "[<matplotlib.lines.Line2D at 0x1a26fbf208>]"
      ]
     },
     "execution_count": 5,
     "metadata": {},
     "output_type": "execute_result"
    },
    {
     "data": {
      "image/png": "[encoded data removed]",
      "text/plain": [
       "<Figure size 432x288 with 1 Axes>"
      ]
     },
     "metadata": {
      "needs_background": "light"
     },
     "output_type": "display_data"
    }
   ],
   "source": [
    "plt.semilogy([np.linalg.norm(A @ x - (x @ A @ x) * x) for x in conv_sm])"
   ]
  },
  {
   "cell_type": "code",
   "execution_count": 6,
   "metadata": {
    "slideshow": {
     "slide_type": "slide"
    }
   },
   "outputs": [
    {
     "name": "stdout",
     "output_type": "stream",
     "text": [
      "2.7309762959740826\n"
     ]
    }
   ],
   "source": [
    "shift = 3\n",
    "middle_eigv, conv_m = shift_inverse_iteration(A, x0, num_iter, shift)\n",
    "print(middle_eigv @ A @ middle_eigv)"
   ]
  },
  {
   "cell_type": "code",
   "execution_count": 7,
   "metadata": {
    "slideshow": {
     "slide_type": "slide"
    }
   },
   "outputs": [
    {
     "data": {
      "text/plain": [
       "[<matplotlib.lines.Line2D at 0x1a273a4860>]"
      ]
     },
     "execution_count": 7,
     "metadata": {},
     "output_type": "execute_result"
    },
    {
     "data": {
      "image/png": "[encoded data removed]",
      "text/plain": [
       "<Figure size 432x288 with 1 Axes>"
      ]
     },
     "metadata": {
      "needs_background": "light"
     },
     "output_type": "display_data"
    }
   ],
   "source": [
    "plt.semilogy([np.linalg.norm(A @ x - (x @ A @ x) * x) for x in conv_m])"
   ]
  },
  {
   "cell_type": "code",
   "execution_count": 8,
   "metadata": {
    "slideshow": {
     "slide_type": "slide"
    }
   },
   "outputs": [
    {
     "name": "stdout",
     "output_type": "stream",
     "text": [
      "32.29176750885745\n"
     ]
    }
   ],
   "source": [
    "shift = 30\n",
    "large_eigv, conv_l = shift_inverse_iteration(A, x0, num_iter, shift)\n",
    "print(large_eigv @ A @ large_eigv)"
   ]
  },
  {
   "cell_type": "code",
   "execution_count": 9,
   "metadata": {
    "slideshow": {
     "slide_type": "slide"
    }
   },
   "outputs": [
    {
     "data": {
      "text/plain": [
       "[<matplotlib.lines.Line2D at 0x1a273a4940>]"
      ]
     },
     "execution_count": 9,
     "metadata": {},
     "output_type": "execute_result"
    },
    {
     "data": {
      "image/png": "[encoded data removed]",
      "text/plain": [
       "<Figure size 432x288 with 1 Axes>"
      ]
     },
     "metadata": {
      "needs_background": "light"
     },
     "output_type": "display_data"
    }
   ],
   "source": [
    "res = np.array([np.linalg.norm(A @ x - (x @ A @ x) * x) for x in conv_l])\n",
    "plt.semilogy(res)"
   ]
  },
  {
   "cell_type": "markdown",
   "metadata": {
    "slideshow": {
     "slide_type": "slide"
    }
   },
   "source": [
    "## Метод Релея\n",
    "\n",
    "- Адаптивный сдвиг на каждой итерации\n",
    "\n",
    "$$ \\sigma_k = \\frac{(Ax_k, x_k)}{(x_k, x_k)} $$"
   ]
  },
  {
   "cell_type": "code",
   "execution_count": 10,
   "metadata": {
    "slideshow": {
     "slide_type": "slide"
    }
   },
   "outputs": [],
   "source": [
    "def rayleigh_quotient_iteration(A, x0, num_iter):\n",
    "    x = x0.copy()\n",
    "    x = x / np.linalg.norm(x)\n",
    "    conv = [x]\n",
    "    \n",
    "    for i in range(num_iter):\n",
    "        lam = x @ A @ x\n",
    "        x = np.linalg.solve(A - lam * np.eye(n), x)\n",
    "        x = x / np.linalg.norm(x)\n",
    "        conv.append(x)\n",
    "    return x, conv"
   ]
  },
  {
   "cell_type": "code",
   "execution_count": 11,
   "metadata": {
    "slideshow": {
     "slide_type": "slide"
    }
   },
   "outputs": [],
   "source": [
    "eigv_rq, conv_rq = rayleigh_quotient_iteration(A, x0**2, num_iter)"
   ]
  },
  {
   "cell_type": "code",
   "execution_count": 12,
   "metadata": {
    "slideshow": {
     "slide_type": "slide"
    }
   },
   "outputs": [
    {
     "name": "stdout",
     "output_type": "stream",
     "text": [
      "4.279902142247673\n",
      "[ 1.00129089  1.14452777  1.72651117  4.27990214  5.59525073  8.50188201\n",
      " 12.20387858 13.17684228 15.93954198 32.29176751]\n",
      "[-0.66949928  0.47543029  0.88485231 -0.14937946 -1.50683479  0.50107061\n",
      " -1.98957823 -0.20772708 -1.4726692   0.74007251]\n"
     ]
    }
   ],
   "source": [
    "print(eigv_rq @ A @ eigv_rq)\n",
    "print(np.sort(np.linalg.eigvals(A)))\n",
    "print(x0)"
   ]
  },
  {
   "cell_type": "code",
   "execution_count": 13,
   "metadata": {
    "slideshow": {
     "slide_type": "slide"
    }
   },
   "outputs": [
    {
     "data": {
      "text/plain": [
       "<matplotlib.legend.Legend at 0x1a27370470>"
      ]
     },
     "execution_count": 13,
     "metadata": {},
     "output_type": "execute_result"
    },
    {
     "data": {
      "image/png": "[encoded data removed]",
      "text/plain": [
       "<Figure size 432x288 with 1 Axes>"
      ]
     },
     "metadata": {
      "needs_background": "light"
     },
     "output_type": "display_data"
    }
   ],
   "source": [
    "res = np.array([np.linalg.norm(A @ x - (x @ A @ x) * x) for x in conv_rq])\n",
    "plt.semilogy(res, label=\"RQ\")\n",
    "plt.semilogy([np.linalg.norm(A @ x - (x @ A @ x) * x) for x in conv_l], label=\"Shift iter\")\n",
    "plt.legend()"
   ]
  },
  {
   "cell_type": "markdown",
   "metadata": {
    "slideshow": {
     "slide_type": "slide"
    }
   },
   "source": [
    "## Как найти другие собственные значения?\n",
    "\n"
   ]
  },
  {
   "cell_type": "code",
   "execution_count": 14,
   "metadata": {
    "slideshow": {
     "slide_type": "slide"
    }
   },
   "outputs": [
    {
     "name": "stdout",
     "output_type": "stream",
     "text": [
      "[-1.71428299e-15  1.00129089e+00  1.14452777e+00  1.72651117e+00\n",
      "  5.59525073e+00  8.50188201e+00  1.22038786e+01  1.31768423e+01\n",
      "  1.59395420e+01  3.22917675e+01]\n"
     ]
    }
   ],
   "source": [
    "B = A - eigv_rq @ (A @ eigv_rq) * np.outer(eigv_rq, eigv_rq)\n",
    "print(np.sort(np.linalg.eigvals(B)))"
   ]
  },
  {
   "cell_type": "code",
   "execution_count": 15,
   "metadata": {
    "slideshow": {
     "slide_type": "slide"
    }
   },
   "outputs": [
    {
     "name": "stdout",
     "output_type": "stream",
     "text": [
      "1.726511169331873\n"
     ]
    }
   ],
   "source": [
    "eigv_rq_B, conv_rq_B = rayleigh_quotient_iteration(B, x0, num_iter)\n",
    "print(eigv_rq_B @ B @ eigv_rq_B)"
   ]
  },
  {
   "cell_type": "code",
   "execution_count": 16,
   "metadata": {
    "slideshow": {
     "slide_type": "slide"
    }
   },
   "outputs": [
    {
     "name": "stdout",
     "output_type": "stream",
     "text": [
      "[-1.56067399e-15  3.01144918e-15  1.00129089e+00  1.14452777e+00\n",
      "  5.59525073e+00  8.50188201e+00  1.22038786e+01  1.31768423e+01\n",
      "  1.59395420e+01  3.22917675e+01]\n"
     ]
    }
   ],
   "source": [
    "C = B - eigv_rq_B @ (A @ eigv_rq_B) * np.outer(eigv_rq_B, eigv_rq_B)\n",
    "print(np.sort(np.linalg.eigvals(C)))"
   ]
  },
  {
   "cell_type": "code",
   "execution_count": 17,
   "metadata": {
    "slideshow": {
     "slide_type": "slide"
    }
   },
   "outputs": [
    {
     "name": "stdout",
     "output_type": "stream",
     "text": [
      "1.0012908945395032\n"
     ]
    }
   ],
   "source": [
    "eigv_rq_C, conv_rq_C = rayleigh_quotient_iteration(C, x0, num_iter)\n",
    "print(eigv_rq_C @ C @ eigv_rq_C)"
   ]
  },
  {
   "cell_type": "markdown",
   "metadata": {
    "slideshow": {
     "slide_type": "slide"
    }
   },
   "source": [
    "### И так далее для других собственных векторов....\n",
    "\n",
    "- Какая правильная стратегия использования метода Релея?"
   ]
  },
  {
   "cell_type": "markdown",
   "metadata": {
    "slideshow": {
     "slide_type": "slide"
    }
   },
   "source": [
    "## Оптимальный шаг в методе Ричардсона\n",
    "\n",
    "- Решение линейной системы \n",
    "\n",
    "$$ Ax = b $$\n",
    "\n",
    "- Метод Ричардсона \n",
    "\n",
    "$$ x_{k+1} = x_k - \\tau (Ax_k - b) = (I - \\tau A)x_k + \\tau b$$\n",
    "\n",
    "- Оптимальный $\\tau$ для $A = A^* \\succ 0$\n",
    "\n",
    "$$ \\tau^* = \\frac{2}{\\lambda_{\\max} + \\lambda_{\\min}} $$"
   ]
  },
  {
   "cell_type": "markdown",
   "metadata": {
    "slideshow": {
     "slide_type": "slide"
    }
   },
   "source": [
    "#### Как его получить?\n",
    "\n",
    "- Найдём минимум $\\| I - \\tau A \\|_2 = \\lambda_{\\max}(I - \\tau A) = \\max (|1 - \\tau \\lambda_{\\max}(A)|, |1 - \\tau \\lambda_{\\min} (A)|)$\n",
    "- Две \"v\" образные функции\n",
    "- Нарисуем функцию максимум от них\n",
    "- Минимум максимума – это точка в которое они равны!\n",
    "- $1 - \\tau^* \\lambda_{\\max}(A) = -1 + \\tau^* \\lambda_{\\min}(A)$\n",
    "- Получаем ответ!"
   ]
  },
  {
   "cell_type": "markdown",
   "metadata": {
    "slideshow": {
     "slide_type": "slide"
    }
   },
   "source": [
    "## Метод сопряжённых градиентов: напоминание\n",
    "\n",
    "- Главный метод решения большой разреженной линейной системы с симметричной положительно-определённой матрицей\n",
    "- Требует знания процедуры умножения матрицы на вектор\n",
    "- Чувствителен к кластеризации спектра – чем менее равномерен спектр, тем лучше сходимость"
   ]
  },
  {
   "cell_type": "code",
   "execution_count": 24,
   "metadata": {
    "slideshow": {
     "slide_type": "slide"
    }
   },
   "outputs": [
    {
     "name": "stdout",
     "output_type": "stream",
     "text": [
      "A is normal matrix: ||AA* - A*A|| = 0.0\n",
      "Condition number = 396.57461187799817\n"
     ]
    }
   ],
   "source": [
    "import numpy as np\n",
    "n = 1000\n",
    "\n",
    "\n",
    "# Random\n",
    "A = np.random.randn(n, n)\n",
    "mu = 10\n",
    "A = A.T.dot(A) + mu * np.eye(n)\n",
    "\n",
    "# Clustered eigenvalues\n",
    "# A = np.diagflat([np.ones(n//4), 10 * np.ones(n//4), 100*np.ones(n//4), 1000* np.ones(n//4)])\n",
    "# U = np.random.rand(n, n)\n",
    "# Q, _ = np.linalg.qr(U)\n",
    "# A = Q.dot(A).dot(Q.T)\n",
    "\n",
    "# A = (A + A.T) * 0.5\n",
    "print(\"A is normal matrix: ||AA* - A*A|| =\", np.linalg.norm(A.dot(A.T) - A.T.dot(A)))\n",
    "print(\"Condition number = {}\".format(np.linalg.cond(A)))\n",
    "\n",
    "b = np.random.randn(n)\n",
    "\n",
    "# Hilbert matrix\n",
    "# A = np.array([[1.0 / (i+j - 1) for i in range(1, n+1)] for j in range(1, n+1)])\n",
    "# b = np.ones(n)"
   ]
  },
  {
   "cell_type": "code",
   "execution_count": 25,
   "metadata": {
    "scrolled": true,
    "slideshow": {
     "slide_type": "slide"
    }
   },
   "outputs": [
    {
     "data": {
      "image/png": "[encoded data removed]",
      "text/plain": [
       "<Figure size 432x288 with 1 Axes>"
      ]
     },
     "metadata": {
      "needs_background": "light"
     },
     "output_type": "display_data"
    }
   ],
   "source": [
    "eigs = np.linalg.eigvals(A)\n",
    "# print(eigs)\n",
    "plt.semilogy(np.unique(eigs))\n",
    "plt.ylabel(\"Eigenvalues\", fontsize=20)\n",
    "plt.xticks(fontsize=18)\n",
    "_ = plt.yticks(fontsize=18)"
   ]
  },
  {
   "cell_type": "code",
   "execution_count": 26,
   "metadata": {
    "slideshow": {
     "slide_type": "slide"
    }
   },
   "outputs": [
    {
     "name": "stdout",
     "output_type": "stream",
     "text": [
      "3.059164723442146e-09\n",
      "0\n"
     ]
    }
   ],
   "source": [
    "import scipy.sparse.linalg as spsplin\n",
    "\n",
    "res_hist = []\n",
    "def callback(x):\n",
    "    res_hist.append(np.linalg.norm(A @ x - b))\n",
    "    \n",
    "x, info = spsplin.cg(A, b, tol=1e-10, callback=callback)\n",
    "print(np.linalg.norm(A @ x - b))\n",
    "print(info)"
   ]
  },
  {
   "cell_type": "code",
   "execution_count": 27,
   "metadata": {
    "slideshow": {
     "slide_type": "slide"
    }
   },
   "outputs": [
    {
     "name": "stdout",
     "output_type": "stream",
     "text": [
      "226\n"
     ]
    },
    {
     "data": {
      "image/png": "[encoded data removed]",
      "text/plain": [
       "<Figure size 432x288 with 1 Axes>"
      ]
     },
     "metadata": {
      "needs_background": "light"
     },
     "output_type": "display_data"
    }
   ],
   "source": [
    "plt.semilogy(res_hist)\n",
    "print(len(res_hist))"
   ]
  },
  {
   "cell_type": "markdown",
   "metadata": {
    "slideshow": {
     "slide_type": "slide"
    }
   },
   "source": [
    "## Регуляризация задачи наименьших квадратов\n",
    "\n",
    "$$ \\| Ax - b \\|_2^2 + \\lambda \\|x\\|_2^2 \\to \\min_x $$ \n",
    "\n",
    "- Решение записывается аналогично\n",
    "\n",
    "$$ (A^{\\top}A + \\lambda I)x = A^{\\top}b $$\n",
    "\n",
    "- Каким свойством теперь обладает матрица по сравнению с исходной постановкой без регуляризации?"
   ]
  },
  {
   "cell_type": "code",
   "execution_count": 28,
   "metadata": {
    "slideshow": {
     "slide_type": "slide"
    }
   },
   "outputs": [],
   "source": [
    "m, n = 1000, 10\n",
    "A = np.random.randn(m, n)\n",
    "x_true = np.random.randn(n)\n",
    "b = A @ x_true + 0.01 * np.random.randn(m)"
   ]
  },
  {
   "cell_type": "code",
   "execution_count": 29,
   "metadata": {
    "slideshow": {
     "slide_type": "slide"
    }
   },
   "outputs": [
    {
     "name": "stdout",
     "output_type": "stream",
     "text": [
      "7.69988931780442\n"
     ]
    }
   ],
   "source": [
    "lam = 1\n",
    "x = spsplin.lsmr(A, b, damp=lam)[0]\n",
    "print(np.linalg.norm(A @ x - b)**2 + lam * np.linalg.norm(x)**2)"
   ]
  },
  {
   "cell_type": "code",
   "execution_count": 30,
   "metadata": {
    "slideshow": {
     "slide_type": "slide"
    }
   },
   "outputs": [
    {
     "name": "stdout",
     "output_type": "stream",
     "text": [
      "7.699889338125373\n"
     ]
    }
   ],
   "source": [
    "lin_op = spsplin.LinearOperator((n, n), \n",
    "        matvec=lambda x: lam * x + A.T @ (A @ x))\n",
    "x_cg, _ = spsplin.cg(lin_op, A.T @ b)\n",
    "print(np.linalg.norm(A @ x_cg - b)**2 + lam * np.linalg.norm(x_cg)**2)"
   ]
  }
 ],
 "metadata": {
  "celltoolbar": "Slideshow",
  "kernelspec": {
   "display_name": "Python 3",
   "language": "python",
   "name": "python3"
  },
  "language_info": {
   "codemirror_mode": {
    "name": "ipython",
    "version": 3
   },
   "file_extension": ".py",
   "mimetype": "text/x-python",
   "name": "python",
   "nbconvert_exporter": "python",
   "pygments_lexer": "ipython3",
   "version": "3.6.9"
  }
 },
 "nbformat": 4,
 "nbformat_minor": 2
}
