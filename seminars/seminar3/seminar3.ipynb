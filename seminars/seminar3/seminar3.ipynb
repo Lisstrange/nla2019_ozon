{
 "cells": [
  {
   "cell_type": "markdown",
   "metadata": {
    "slideshow": {
     "slide_type": "slide"
    }
   },
   "source": [
    "# Семинар 3\n",
    "\n",
    "## Линейная задача наименьших квадратов, решение линейных систем и QR разложение"
   ]
  },
  {
   "cell_type": "markdown",
   "metadata": {
    "slideshow": {
     "slide_type": "slide"
    }
   },
   "source": [
    "## Кластеризация и матричные разложения\n",
    "\n",
    "- Задача кластеризации относится к классу задач обучения без учителя, в которой требуется разбить наборы объектов на группы, в которых содержатся похожие объекты\n",
    "\n",
    "<img src=\"./clustering_demo.png\">\n",
    "\n",
    "Картинка из [этого](https://towardsdatascience.com/semantic-similarity-classifier-and-clustering-sentences-based-on-semantic-similarity-a5a564e22304) поста.\n",
    "\n",
    "- Отличие от классификации - меток объектов нет\n",
    "- Классический алгоритм решения такой задачи называется *k-means* или метод $k$-средних"
   ]
  },
  {
   "cell_type": "markdown",
   "metadata": {
    "slideshow": {
     "slide_type": "slide"
    }
   },
   "source": [
    "### $k$-means\n",
    "\n",
    "- Выбираем число кластеров $k$\n",
    "- Выбираем так называемые центры клатеров\n",
    "- Повторяем до сходимости\n",
    "    - Размечаем объекты на основании того, к какому центру они ближе\n",
    "    - Обновляем центр как среднее значение точек из каждого кластера\n",
    "\n",
    "- Подробности будут в курсе по машинному обучению"
   ]
  },
  {
   "cell_type": "markdown",
   "metadata": {
    "slideshow": {
     "slide_type": "slide"
    }
   },
   "source": [
    "### Визуализация\n",
    "\n",
    "<img width=400 src=\"./K-means_convergence.gif\">"
   ]
  },
  {
   "cell_type": "markdown",
   "metadata": {
    "slideshow": {
     "slide_type": "slide"
    }
   },
   "source": [
    "### Причём тут матричные разложения?\n",
    "\n",
    "- Пусть дано $N$ объектов, каждый из которых описывается $n$ числами.\n",
    "- Данные $N$ объектов уложены по столбцам в матрицу $X$\n",
    "- **Утверждение.** Алгоритм $k$-means решает следующую задачу оптимизации\n",
    "\n",
    "$$ \\| X - ZC\\|^2_F \\to \\min, $$\n",
    " \n",
    "где $X \\in \\mathbb{R}^{n \\times N}$, $Z \\in \\mathbb{R}^{n \\times k}$ и $C$ размера $k \\times N$\n",
    "- Матрица $C$ обладает следующим свойством\n",
    "\n",
    "$$ C_{ij} = \\begin{cases} 1, & x_j \\in \\mathcal{C}_i \\\\ 0, & \\text{иначе}, \\end{cases} $$\n",
    "\n",
    "где $\\mathcal{C}_i$ обозначает $i$-ый кластер, а $x_j$ – $j$-ый объект.\n",
    "\n",
    "- В каждом столбце матрицы $C$ ровно одна 1\n",
    "\n",
    "**Q:** что такое матрица $Z$?\n",
    "\n",
    "**Q:** какая интерпретация у столбцов матрицы $X - ZC$?"
   ]
  },
  {
   "cell_type": "markdown",
   "metadata": {
    "slideshow": {
     "slide_type": "slide"
    }
   },
   "source": [
    "## Постановка линейной задачи наименьших квадратов: напоминание\n",
    "\n",
    "- Дана переопределённая система линейных уравнений с матрицей $A$, в которой строк больше, чем столбцов, и правой частью $b$\n",
    "- Задача решения такой системы в смысле наименьших квадратов записывается в виде\n",
    "\n",
    "\n",
    "$$\\Vert A x - b \\Vert_2 \\rightarrow \\min_{x}$$\n",
    "\n",
    "- Нормальное уравнение\n",
    "\n",
    "$$ A^* A x = A^* b $$"
   ]
  },
  {
   "cell_type": "markdown",
   "metadata": {
    "slideshow": {
     "slide_type": "slide"
    }
   },
   "source": [
    "## Решение и метод вычисления\n",
    "\n",
    "- Псевдообратная матрица \n",
    "\n",
    "$$A^{\\dagger} = \\lim_{\\alpha \\rightarrow 0}(\\alpha I + A^* A)^{-1} A^*$$ \n",
    "\n",
    "- Решение записывается как \n",
    "\n",
    "$$ x = A^{\\dagger}b $$\n",
    "\n",
    "- Вычисление псевдообратной матрицы из SVD\n",
    "\n",
    "    Пусть $A = U \\Sigma V^*$ SVD матрицы $A$. Тогда,\n",
    "\n",
    "    $$A^{\\dagger} = V \\Sigma^{\\dagger} U^*,$$\n",
    "\n",
    "    где $\\Sigma^{\\dagger}$ состоит из обращённых ненулевых сингулярных чисел матрицы $A$.\n",
    "\n",
    "- Решение вычисляется с помощью QR разложения матрицы $A$\n",
    "\n",
    "$$\n",
    "Rx = Q^* b.\n",
    "$$"
   ]
  },
  {
   "cell_type": "markdown",
   "metadata": {
    "slideshow": {
     "slide_type": "slide"
    }
   },
   "source": [
    "### Сравнение методов решения нормального уравнения\n",
    "\n",
    "- Метод Гаусса\n",
    "- QR разложение"
   ]
  },
  {
   "cell_type": "code",
   "execution_count": 1,
   "metadata": {
    "slideshow": {
     "slide_type": "slide"
    }
   },
   "outputs": [],
   "source": [
    "import numpy as np\n",
    "import scipy.linalg as splin\n",
    "\n",
    "def lsqr_solver(A, b):\n",
    "    Q, R = np.linalg.qr(A)\n",
    "    return splin.solve_triangular(R, Q.T @ b, lower=False)\n",
    "#     return np.linalg.solve(R, Q.T @ b)\n",
    "\n",
    "def ls_gramm_solver(A, b):\n",
    "    gram_mat = A.T @ A\n",
    "    return np.linalg.solve(gram_mat, A.T @ b)"
   ]
  },
  {
   "cell_type": "code",
   "execution_count": 78,
   "metadata": {
    "slideshow": {
     "slide_type": "slide"
    }
   },
   "outputs": [
    {
     "name": "stdout",
     "output_type": "stream",
     "text": [
      "0.0951368347355132\n",
      "0.09513683473549624\n"
     ]
    }
   ],
   "source": [
    "n = 1000\n",
    "m = 10*n\n",
    "A = np.random.randn(m, n)\n",
    "x_true = np.random.randn(n)\n",
    "b = A @ x_true + 0.001 * np.random.randn(m)\n",
    "x = lsqr_solver(A, b)\n",
    "print(np.linalg.norm(A @ x - b))\n",
    "x = ls_gramm_solver(A, b)\n",
    "print(np.linalg.norm(A @ x - b))"
   ]
  },
  {
   "cell_type": "code",
   "execution_count": 3,
   "metadata": {
    "slideshow": {
     "slide_type": "slide"
    }
   },
   "outputs": [],
   "source": [
    "dim_range = [10**i for i in range(1, 4)]\n",
    "time_qr_range = []\n",
    "time_gram_range = []\n",
    "for n in dim_range:\n",
    "    m = 10*n\n",
    "    A = np.random.randn(m, n)\n",
    "    x_true = np.random.randn(n)\n",
    "    b = A @ x_true + 0.01 * np.random.randn(m)\n",
    "    t = %timeit -o -q -r 1 lsqr_solver(A, b) \n",
    "    time_qr_range.append(t.best)\n",
    "    t = %timeit -o -q -r 1 ls_gramm_solver(A, b)\n",
    "    time_gram_range.append(t.best)"
   ]
  },
  {
   "cell_type": "code",
   "execution_count": 4,
   "metadata": {
    "slideshow": {
     "slide_type": "slide"
    }
   },
   "outputs": [
    {
     "data": {
      "image/png": "[encoded data removed]",
      "text/plain": [
       "<Figure size 432x288 with 1 Axes>"
      ]
     },
     "metadata": {
      "needs_background": "light"
     },
     "output_type": "display_data"
    }
   ],
   "source": [
    "import matplotlib.pyplot as plt\n",
    "%matplotlib inline\n",
    "\n",
    "plt.plot(dim_range, time_qr_range, label=\"QR\")\n",
    "plt.plot(dim_range, time_gram_range, label=\"Gram matrix\")\n",
    "plt.legend(fontsize=20)\n",
    "plt.xlabel(\"Dimension\", fontsize=20)\n",
    "plt.ylabel(\"Time\", fontsize=20)\n",
    "plt.yscale(\"log\")\n",
    "plt.xscale(\"log\")"
   ]
  },
  {
   "cell_type": "markdown",
   "metadata": {
    "slideshow": {
     "slide_type": "slide"
    }
   },
   "source": [
    "### Свойства псевдообратной матрицы\n",
    "\n",
    "- $A = AA^{\\dagger}A$\n",
    "- $A^{\\dagger} = A^{\\dagger}A A^{\\dagger}$"
   ]
  },
  {
   "cell_type": "markdown",
   "metadata": {
    "slideshow": {
     "slide_type": "slide"
    }
   },
   "source": [
    "### Закон Мура\n",
    "\n",
    "- Количество транзизисторов на интегральной схеме удваивается каждые полтора-два года"
   ]
  },
  {
   "cell_type": "code",
   "execution_count": 79,
   "metadata": {
    "slideshow": {
     "slide_type": "slide"
    }
   },
   "outputs": [
    {
     "data": {
      "text/html": [
       "<div>\n",
       "<style scoped>\n",
       "    .dataframe tbody tr th:only-of-type {\n",
       "        vertical-align: middle;\n",
       "    }\n",
       "\n",
       "    .dataframe tbody tr th {\n",
       "        vertical-align: top;\n",
       "    }\n",
       "\n",
       "    .dataframe thead th {\n",
       "        text-align: right;\n",
       "    }\n",
       "</style>\n",
       "<table border=\"1\" class=\"dataframe\">\n",
       "  <thead>\n",
       "    <tr style=\"text-align: right;\">\n",
       "      <th></th>\n",
       "      <th>1971</th>\n",
       "      <th>1972</th>\n",
       "      <th>1974</th>\n",
       "      <th>1978</th>\n",
       "      <th>1982</th>\n",
       "      <th>1985</th>\n",
       "      <th>1989</th>\n",
       "      <th>1993</th>\n",
       "      <th>1997</th>\n",
       "      <th>1999</th>\n",
       "      <th>2000</th>\n",
       "      <th>2002</th>\n",
       "      <th>2003</th>\n",
       "    </tr>\n",
       "  </thead>\n",
       "  <tbody>\n",
       "    <tr>\n",
       "      <th>0</th>\n",
       "      <td>2250</td>\n",
       "      <td>2500</td>\n",
       "      <td>5000</td>\n",
       "      <td>29000</td>\n",
       "      <td>120000</td>\n",
       "      <td>275000</td>\n",
       "      <td>1180000</td>\n",
       "      <td>3100000</td>\n",
       "      <td>7500000</td>\n",
       "      <td>24000000</td>\n",
       "      <td>42000000</td>\n",
       "      <td>220000000</td>\n",
       "      <td>410000000</td>\n",
       "    </tr>\n",
       "  </tbody>\n",
       "</table>\n",
       "</div>"
      ],
      "text/plain": [
       "   1971  1972  1974   1978    1982    1985     1989     1993     1997  \\\n",
       "0  2250  2500  5000  29000  120000  275000  1180000  3100000  7500000   \n",
       "\n",
       "       1999      2000       2002       2003  \n",
       "0  24000000  42000000  220000000  410000000  "
      ]
     },
     "execution_count": 79,
     "metadata": {},
     "output_type": "execute_result"
    }
   ],
   "source": [
    "import pandas as pd\n",
    "\n",
    "year_transistor = {\n",
    "1971: 2250,\n",
    "1972: 2500,\n",
    "1974: 5000,\n",
    "1978: 29000,\n",
    "1982: 120000,\n",
    "1985: 275000,\n",
    "1989: 1180000,\n",
    "1993: 3100000,\n",
    "1997: 7500000,\n",
    "1999: 24000000,\n",
    "2000: 42000000,\n",
    "2002: 220000000,\n",
    "2003: 410000000\n",
    "}\n",
    "\n",
    "data = pd.DataFrame([year_transistor])\n",
    "data"
   ]
  },
  {
   "cell_type": "code",
   "execution_count": 80,
   "metadata": {
    "slideshow": {
     "slide_type": "slide"
    }
   },
   "outputs": [
    {
     "data": {
      "text/html": [
       "<div>\n",
       "<style scoped>\n",
       "    .dataframe tbody tr th:only-of-type {\n",
       "        vertical-align: middle;\n",
       "    }\n",
       "\n",
       "    .dataframe tbody tr th {\n",
       "        vertical-align: top;\n",
       "    }\n",
       "\n",
       "    .dataframe thead th {\n",
       "        text-align: right;\n",
       "    }\n",
       "</style>\n",
       "<table border=\"1\" class=\"dataframe\">\n",
       "  <thead>\n",
       "    <tr style=\"text-align: right;\">\n",
       "      <th></th>\n",
       "      <th>Year</th>\n",
       "      <th>N</th>\n",
       "    </tr>\n",
       "  </thead>\n",
       "  <tbody>\n",
       "    <tr>\n",
       "      <th>0</th>\n",
       "      <td>1971</td>\n",
       "      <td>2250</td>\n",
       "    </tr>\n",
       "    <tr>\n",
       "      <th>1</th>\n",
       "      <td>1972</td>\n",
       "      <td>2500</td>\n",
       "    </tr>\n",
       "    <tr>\n",
       "      <th>2</th>\n",
       "      <td>1974</td>\n",
       "      <td>5000</td>\n",
       "    </tr>\n",
       "    <tr>\n",
       "      <th>3</th>\n",
       "      <td>1978</td>\n",
       "      <td>29000</td>\n",
       "    </tr>\n",
       "    <tr>\n",
       "      <th>4</th>\n",
       "      <td>1982</td>\n",
       "      <td>120000</td>\n",
       "    </tr>\n",
       "    <tr>\n",
       "      <th>5</th>\n",
       "      <td>1985</td>\n",
       "      <td>275000</td>\n",
       "    </tr>\n",
       "    <tr>\n",
       "      <th>6</th>\n",
       "      <td>1989</td>\n",
       "      <td>1180000</td>\n",
       "    </tr>\n",
       "    <tr>\n",
       "      <th>7</th>\n",
       "      <td>1993</td>\n",
       "      <td>3100000</td>\n",
       "    </tr>\n",
       "    <tr>\n",
       "      <th>8</th>\n",
       "      <td>1997</td>\n",
       "      <td>7500000</td>\n",
       "    </tr>\n",
       "    <tr>\n",
       "      <th>9</th>\n",
       "      <td>1999</td>\n",
       "      <td>24000000</td>\n",
       "    </tr>\n",
       "    <tr>\n",
       "      <th>10</th>\n",
       "      <td>2000</td>\n",
       "      <td>42000000</td>\n",
       "    </tr>\n",
       "    <tr>\n",
       "      <th>11</th>\n",
       "      <td>2002</td>\n",
       "      <td>220000000</td>\n",
       "    </tr>\n",
       "    <tr>\n",
       "      <th>12</th>\n",
       "      <td>2003</td>\n",
       "      <td>410000000</td>\n",
       "    </tr>\n",
       "  </tbody>\n",
       "</table>\n",
       "</div>"
      ],
      "text/plain": [
       "    Year          N\n",
       "0   1971       2250\n",
       "1   1972       2500\n",
       "2   1974       5000\n",
       "3   1978      29000\n",
       "4   1982     120000\n",
       "5   1985     275000\n",
       "6   1989    1180000\n",
       "7   1993    3100000\n",
       "8   1997    7500000\n",
       "9   1999   24000000\n",
       "10  2000   42000000\n",
       "11  2002  220000000\n",
       "12  2003  410000000"
      ]
     },
     "execution_count": 80,
     "metadata": {},
     "output_type": "execute_result"
    }
   ],
   "source": [
    "data = pd.DataFrame(list(year_transistor.items()), columns=[\"Year\", \"N\"])\n",
    "data"
   ]
  },
  {
   "cell_type": "markdown",
   "metadata": {
    "slideshow": {
     "slide_type": "slide"
    }
   },
   "source": [
    "### Модель\n",
    "\n",
    "$$ \\log_{10} N \\approx  w_1 + w_2 (t - 1970)$$\n",
    "\n",
    "- Логарифмирование – очень полезный приём преобразования данных, масштабы которых сильно отличаются "
   ]
  },
  {
   "cell_type": "code",
   "execution_count": 89,
   "metadata": {
    "slideshow": {
     "slide_type": "fragment"
    }
   },
   "outputs": [
    {
     "name": "stdout",
     "output_type": "stream",
     "text": [
      "[[ 1.  1.]\n",
      " [ 1.  2.]\n",
      " [ 1.  4.]\n",
      " [ 1.  8.]\n",
      " [ 1. 12.]\n",
      " [ 1. 15.]\n",
      " [ 1. 19.]\n",
      " [ 1. 23.]\n",
      " [ 1. 27.]\n",
      " [ 1. 29.]\n",
      " [ 1. 30.]\n",
      " [ 1. 32.]\n",
      " [ 1. 33.]]\n",
      "0     11.135709\n",
      "1     11.287712\n",
      "2     12.287712\n",
      "3     14.823765\n",
      "4     16.872675\n",
      "5     18.069072\n",
      "6     20.170355\n",
      "7     21.563837\n",
      "8     22.838459\n",
      "9     24.516531\n",
      "10    25.323886\n",
      "11    27.712928\n",
      "12    28.611049\n",
      "Name: N, dtype: float64\n"
     ]
    }
   ],
   "source": [
    "y = np.log2(data[\"N\"])\n",
    "x = data[\"Year\"] - 1970\n",
    "X = np.ones((13, 2))\n",
    "X[:, 1] = x\n",
    "print(X)\n",
    "print(y)"
   ]
  },
  {
   "cell_type": "code",
   "execution_count": 90,
   "metadata": {
    "slideshow": {
     "slide_type": "slide"
    }
   },
   "outputs": [
    {
     "name": "stdout",
     "output_type": "stream",
     "text": [
      "2.4323270736375635\n",
      "[10.38299398  0.51163732]\n"
     ]
    }
   ],
   "source": [
    "w = np.linalg.lstsq(X, y, rcond=None)[0]\n",
    "print(np.linalg.norm(X @ w - y))\n",
    "print(w)"
   ]
  },
  {
   "cell_type": "code",
   "execution_count": 9,
   "metadata": {
    "slideshow": {
     "slide_type": "fragment"
    }
   },
   "outputs": [
    {
     "data": {
      "text/plain": [
       "Text(0, 0.5, '# transistors')"
      ]
     },
     "execution_count": 9,
     "metadata": {},
     "output_type": "execute_result"
    },
    {
     "data": {
      "image/png": "[encoded data removed]",
      "text/plain": [
       "<Figure size 432x288 with 1 Axes>"
      ]
     },
     "metadata": {
      "needs_background": "light"
     },
     "output_type": "display_data"
    }
   ],
   "source": [
    "plt.scatter(data[\"Year\"], y)\n",
    "plt.plot(data[\"Year\"], X @ w)\n",
    "plt.xlabel(\"Year\", fontsize=20)\n",
    "plt.ylabel(\"# transistors\", fontsize=20)"
   ]
  },
  {
   "cell_type": "markdown",
   "metadata": {
    "slideshow": {
     "slide_type": "slide"
    }
   },
   "source": [
    "### Предсказание на 2015 год\n",
    "\n",
    "- Микропроцессор IBM Z13 содержит $4 \\cdot 10^9$ транзисторов"
   ]
  },
  {
   "cell_type": "code",
   "execution_count": 88,
   "metadata": {
    "slideshow": {
     "slide_type": "fragment"
    }
   },
   "outputs": [
    {
     "name": "stdout",
     "output_type": "stream",
     "text": [
      "10.05641072680136\n",
      "9.602059991327963\n"
     ]
    }
   ],
   "source": [
    "year = 2015\n",
    "pred_given_year = w[0] + w[1]* (year - 1970)\n",
    "print(pred_given_year)\n",
    "print(np.log10(4e9))"
   ]
  },
  {
   "cell_type": "markdown",
   "metadata": {
    "slideshow": {
     "slide_type": "slide"
    }
   },
   "source": [
    "### Модель авторегрессии в прогнозировании временных рядов\n",
    "\n",
    "- Дан временной ряд, например температура (и другие данные из метеорологии) в разное время, цены активов и прочее\n",
    "- Почти всегда временной ряд – это нелинейная функция.\n",
    "- Зачастую она периодична\n",
    "- Простейшая модель – авторегрессионная (AR)\n",
    "- Идея в прогнозировании $k+1$ значения по последним $M$\n",
    "- Модель остаётся линейной!\n",
    "\n",
    "$$\\hat{x}_{k+1} = w_1 x_k + \\ldots + w_M x_{k - M + 1} $$\n",
    "\n",
    "- Целевая функция – сумма квадратов невязок (опять!) \n",
    "\n",
    "$$ (x_{k+1} - \\hat{x}_{k+1})^2 + \\ldots + (x_T - \\hat{x}_T)^2 \\to \\min_w $$\n",
    "\n",
    "- Как представить эту задачу в виде $\\|Xw - y \\|^2_2 \\to \\min_w$ ?\n",
    "\n",
    "- Каким свойством обладает матрица $X$?"
   ]
  },
  {
   "cell_type": "code",
   "execution_count": 2,
   "metadata": {
    "slideshow": {
     "slide_type": "slide"
    }
   },
   "outputs": [
    {
     "name": "stdout",
     "output_type": "stream",
     "text": [
      "            Temp\n",
      "Date            \n",
      "1981-01-01  20.7\n",
      "1981-01-02  17.9\n",
      "1981-01-03  18.8\n",
      "1981-01-04  14.6\n",
      "1981-01-05  15.8\n"
     ]
    },
    {
     "data": {
      "text/plain": [
       "<matplotlib.axes._subplots.AxesSubplot at 0x61ba77518>"
      ]
     },
     "execution_count": 2,
     "metadata": {},
     "output_type": "execute_result"
    }
   ],
   "source": [
    "import pandas as pd\n",
    "\n",
    "series = pd.read_csv('./daily-min-temperatures.csv', header=0, index_col=0)\n",
    "print(series.head())\n",
    "series.plot()"
   ]
  },
  {
   "cell_type": "code",
   "execution_count": 3,
   "metadata": {
    "slideshow": {
     "slide_type": "slide"
    }
   },
   "outputs": [
    {
     "name": "stdout",
     "output_type": "stream",
     "text": [
      "(3650,)\n"
     ]
    },
    {
     "data": {
      "text/plain": [
       "<matplotlib.axes._subplots.AxesSubplot at 0x61c2bc320>"
      ]
     },
     "execution_count": 3,
     "metadata": {},
     "output_type": "execute_result"
    },
    {
     "data": {
      "image/png": "[encoded data removed]",
      "text/plain": [
       "<Figure size 432x288 with 1 Axes>"
      ]
     },
     "metadata": {
      "needs_background": "light"
     },
     "output_type": "display_data"
    }
   ],
   "source": [
    "x = series[\"Temp\"]\n",
    "print(x.shape)\n",
    "train_x = x[:x.shape[0] // 2]\n",
    "test_x = x[x.shape[0] // 2:]\n",
    "train_x.plot()"
   ]
  },
  {
   "cell_type": "code",
   "execution_count": 4,
   "metadata": {
    "slideshow": {
     "slide_type": "slide"
    }
   },
   "outputs": [
    {
     "name": "stdout",
     "output_type": "stream",
     "text": [
      "182.0535788062525\n"
     ]
    }
   ],
   "source": [
    "mean_forecast = train_x.mean()\n",
    "print(np.linalg.norm(train_x - mean_forecast))"
   ]
  },
  {
   "cell_type": "code",
   "execution_count": 5,
   "metadata": {
    "slideshow": {
     "slide_type": "slide"
    }
   },
   "outputs": [
    {
     "name": "stdout",
     "output_type": "stream",
     "text": [
      "120.3297552561294\n"
     ]
    }
   ],
   "source": [
    "prev_forecast = train_x[:-1].values\n",
    "# print(prev_forecast)\n",
    "print(np.linalg.norm((train_x[1:].values - prev_forecast)))"
   ]
  },
  {
   "cell_type": "code",
   "execution_count": 17,
   "metadata": {
    "slideshow": {
     "slide_type": "slide"
    }
   },
   "outputs": [
    {
     "name": "stdout",
     "output_type": "stream",
     "text": [
      "(1822, 3) (1822,)\n",
      "113.59510906780783\n",
      "[ 0.76670919 -0.04852799  0.26391016]\n"
     ]
    }
   ],
   "source": [
    "M = 3\n",
    "X = splin.toeplitz(train_x[M-1:-1], train_x[:M][::-1])\n",
    "y = train_x[M:]\n",
    "print(X.shape, y.shape)\n",
    "w = np.linalg.lstsq(X, y, rcond=None)[0]\n",
    "print(np.linalg.norm(X @ w - y))\n",
    "print(w)"
   ]
  },
  {
   "cell_type": "code",
   "execution_count": 19,
   "metadata": {
    "slideshow": {
     "slide_type": "slide"
    }
   },
   "outputs": [
    {
     "data": {
      "text/plain": [
       "<matplotlib.legend.Legend at 0x61ccf8748>"
      ]
     },
     "execution_count": 19,
     "metadata": {},
     "output_type": "execute_result"
    },
    {
     "data": {
      "image/png": "[encoded data removed]",
      "text/plain": [
       "<Figure size 432x288 with 1 Axes>"
      ]
     },
     "metadata": {
      "needs_background": "light"
     },
     "output_type": "display_data"
    }
   ],
   "source": [
    "import matplotlib.pyplot as plt\n",
    "%matplotlib inline\n",
    "\n",
    "plt.plot(train_x.values, label=\"True\")\n",
    "plt.plot(X @ w, label=\"Predict\")\n",
    "plt.legend()"
   ]
  },
  {
   "cell_type": "code",
   "execution_count": 21,
   "metadata": {
    "slideshow": {
     "slide_type": "slide"
    }
   },
   "outputs": [
    {
     "name": "stdout",
     "output_type": "stream",
     "text": [
      "37.15800015458122\n"
     ]
    }
   ],
   "source": [
    "test_X = splin.toeplitz(test_x[M-1:-1], test_x[:M][::-1])\n",
    "test_pred = test_X @ w\n",
    "print(np.linalg.norm(test_pred - test_x[M-1:-1]))"
   ]
  },
  {
   "cell_type": "code",
   "execution_count": 22,
   "metadata": {
    "slideshow": {
     "slide_type": "slide"
    }
   },
   "outputs": [
    {
     "data": {
      "text/plain": [
       "<matplotlib.legend.Legend at 0x61afe4588>"
      ]
     },
     "execution_count": 22,
     "metadata": {},
     "output_type": "execute_result"
    },
    {
     "data": {
      "image/png": "[encoded data removed]",
      "text/plain": [
       "<Figure size 432x288 with 1 Axes>"
      ]
     },
     "metadata": {
      "needs_background": "light"
     },
     "output_type": "display_data"
    }
   ],
   "source": [
    "plt.plot(test_x.values, label=\"True\")\n",
    "plt.plot(test_pred, label=\"Predict\")\n",
    "plt.legend()"
   ]
  },
  {
   "cell_type": "markdown",
   "metadata": {
    "slideshow": {
     "slide_type": "slide"
    }
   },
   "source": [
    "### Полиномиальная регрессия"
   ]
  },
  {
   "cell_type": "code",
   "execution_count": 112,
   "metadata": {
    "slideshow": {
     "slide_type": "slide"
    }
   },
   "outputs": [
    {
     "data": {
      "text/plain": [
       "<matplotlib.collections.PathCollection at 0x6275c17f0>"
      ]
     },
     "execution_count": 112,
     "metadata": {},
     "output_type": "execute_result"
    },
    {
     "data": {
      "image/png": "[encoded data removed]",
      "text/plain": [
       "<Figure size 432x288 with 1 Axes>"
      ]
     },
     "metadata": {
      "needs_background": "light"
     },
     "output_type": "display_data"
    }
   ],
   "source": [
    "num_points = 10\n",
    "x = np.linspace(-2, 2, num=num_points)\n",
    "y = 5 - x - 10 * x**2 + x**3 + x**4\n",
    "y_noise = y + np.random.randn()\n",
    "plt.scatter(x, y_noise)"
   ]
  },
  {
   "cell_type": "code",
   "execution_count": 118,
   "metadata": {
    "slideshow": {
     "slide_type": "slide"
    }
   },
   "outputs": [
    {
     "name": "stdout",
     "output_type": "stream",
     "text": [
      "[[ 1.60000000e+01 -8.00000000e+00  4.00000000e+00 -2.00000000e+00\n",
      "   1.00000000e+00]\n",
      " [ 5.85520500e+00 -3.76406036e+00  2.41975309e+00 -1.55555556e+00\n",
      "   1.00000000e+00]\n",
      " [ 1.52415790e+00 -1.37174211e+00  1.23456790e+00 -1.11111111e+00\n",
      "   1.00000000e+00]\n",
      " [ 1.97530864e-01 -2.96296296e-01  4.44444444e-01 -6.66666667e-01\n",
      "   1.00000000e+00]\n",
      " [ 2.43865264e-03 -1.09739369e-02  4.93827160e-02 -2.22222222e-01\n",
      "   1.00000000e+00]\n",
      " [ 2.43865264e-03  1.09739369e-02  4.93827160e-02  2.22222222e-01\n",
      "   1.00000000e+00]\n",
      " [ 1.97530864e-01  2.96296296e-01  4.44444444e-01  6.66666667e-01\n",
      "   1.00000000e+00]\n",
      " [ 1.52415790e+00  1.37174211e+00  1.23456790e+00  1.11111111e+00\n",
      "   1.00000000e+00]\n",
      " [ 5.85520500e+00  3.76406036e+00  2.41975309e+00  1.55555556e+00\n",
      "   1.00000000e+00]\n",
      " [ 1.60000000e+01  8.00000000e+00  4.00000000e+00  2.00000000e+00\n",
      "   1.00000000e+00]]\n"
     ]
    }
   ],
   "source": [
    "deg = 4\n",
    "V = np.vander(x, deg+1)\n",
    "print(V)"
   ]
  },
  {
   "cell_type": "code",
   "execution_count": 119,
   "metadata": {
    "slideshow": {
     "slide_type": "slide"
    }
   },
   "outputs": [
    {
     "name": "stdout",
     "output_type": "stream",
     "text": [
      "[  1.           1.         -10.          -1.           4.02412184]\n",
      "4.364259793084321\n"
     ]
    }
   ],
   "source": [
    "w = np.linalg.lstsq(V, y_noise, rcond=None)[0]\n",
    "print(w)\n",
    "x_test = np.linspace(-3, 3, num=20)\n",
    "y_pred = np.vander(x_test, deg+1) @ w\n",
    "y_test_true = 5 - x_test - 10 * x_test**2 + x_test**3 + x_test**4\n",
    "print(np.linalg.norm(y_pred - y_test_true))"
   ]
  },
  {
   "cell_type": "code",
   "execution_count": 120,
   "metadata": {
    "slideshow": {
     "slide_type": "slide"
    }
   },
   "outputs": [
    {
     "data": {
      "text/plain": [
       "<matplotlib.legend.Legend at 0x6276fd438>"
      ]
     },
     "execution_count": 120,
     "metadata": {},
     "output_type": "execute_result"
    },
    {
     "data": {
      "image/png": "[encoded data removed]",
      "text/plain": [
       "<Figure size 576x432 with 1 Axes>"
      ]
     },
     "metadata": {
      "needs_background": "light"
     },
     "output_type": "display_data"
    }
   ],
   "source": [
    "plt.figure(figsize=(8, 6))\n",
    "plt.plot(x_test, y_pred, label=\"Predicted\")\n",
    "plt.plot(x, y_noise, label=\"Train\")\n",
    "plt.plot(x_test, y_test_true, label=\"Test\")\n",
    "plt.legend(fontsize=20)"
   ]
  },
  {
   "cell_type": "markdown",
   "metadata": {
    "slideshow": {
     "slide_type": "slide"
    }
   },
   "source": [
    "### Томография сетей \n",
    "\n",
    "- Дана сеть из $n$ рёбер\n",
    "- Каждое ребро вносит некоторую задержку $d_i$\n",
    "- Чтобы выяснить характеристики сети, то есть найти вектор $d$, по сети запускают большое число сигналов по различным маршрутам и измеряют время прохождения сигнала $t_i$, $i=1,\\ldots, N$ по известному маршруту\n",
    "- Маршрут описывается бинарной матрицей $P$ размера $N \\times n$ такой что\n",
    "\n",
    "$$p_{ij} = \\begin{cases} 1, & j \\in \\mathcal{P}_i\\\\ 0, & \\text{иначе}, \\end{cases} $$\n",
    "\n",
    "где $\\mathcal{P}_i$ – путь $i$.\n",
    "\n",
    "- Необходимо по матрице $P$ и вектору $t$ определить вектор $d$, описывающий сеть\n",
    "\n",
    "**Приложения**\n",
    "\n",
    "- Дорожные сети\n",
    "- Компьютерные сети"
   ]
  },
  {
   "cell_type": "markdown",
   "metadata": {
    "slideshow": {
     "slide_type": "slide"
    }
   },
   "source": [
    "## Решение линейных систем, обратная матрица"
   ]
  },
  {
   "cell_type": "markdown",
   "metadata": {
    "slideshow": {
     "slide_type": "slide"
    }
   },
   "source": [
    "### Напоминание основных фактов\n",
    "\n",
    "- Линейная система имеет вид\n",
    "\n",
    "$$ Ax = b,$$\n",
    "\n",
    "с квадратной $n \\times n$ матрицей $A$\n",
    "\n",
    "- Для любой матрицы существуют PLU разложение\n",
    "\n",
    "$$ A = PLU, $$\n",
    "\n",
    "$P$ – матрица перестановки, $L$ – нижнетреугольная матрица, $U$ – верхнетреугольная матрица.\n",
    "\n",
    "- Сложность $\\mathcal{O}(n^3)$\n",
    "- Если $A \\succ 0$, то матрица раскладывается на факторы $A = LL^*$ – разложение Холецкого \n",
    "- Обратная матрица $A^{-1}$ существует для невырожденных матриц и $AA^{-1} = A^{-1}A = I$\n",
    "- Тогда $x = A^{-1}b$ или $x = U^{-1}L^{-1}P^*b$"
   ]
  },
  {
   "cell_type": "markdown",
   "metadata": {
    "slideshow": {
     "slide_type": "slide"
    }
   },
   "source": [
    "### Push-through identity\n",
    "\n",
    "- Дано $A \\in \\mathbb{R}^{m \\times n}$, $B \\in \\mathbb{R}^{n \\times m}$ и $I + AB$ обратима\n",
    "- Покажем, что и $I + BA$ обратима\n",
    "- Также покажем, что $(I + BA)^{-1}B = B(I + AB)^{-1}$ "
   ]
  },
  {
   "cell_type": "markdown",
   "metadata": {
    "slideshow": {
     "slide_type": "slide"
    }
   },
   "source": [
    "### Формула Шермана-Морисона-Вудбери\n",
    "\n",
    "- $(I+P)^{-1} = I - (I+P)^{-1}P = I - P(I+P)^{-1}$\n",
    "- Ранее доказанное утверждение $(I + BA)^{-1}B = B(I + AB)^{-1}$ \n",
    "- Применим к $(I + UV)^{-1} = I - UV(I + UV)^{-1} = I - U(I + VU)^{-1}V$\n",
    "- Формула Шермана-Морисона-Вудбери\n",
    "\n",
    "$$(A + UCV)^{-1} = A^{-1} - A^{-1}U (C^{-1} + VA^{-1}U)^{-1}VA^{-1} $$"
   ]
  },
  {
   "cell_type": "markdown",
   "metadata": {
    "slideshow": {
     "slide_type": "slide"
    }
   },
   "source": [
    "### Моделирование миграции населения\n",
    "\n",
    "- Пусть $x_t \\in \\mathbb{R}^{100}$ распределение населения по возрастам в год $t$\n",
    "- Динамика этого распределения описывается во времени как \n",
    "\n",
    "$$ x_{t+1} = Ax_t + u $$\n",
    "\n",
    "- Что такое $u$?\n",
    "- Какой вид имеет матрица $A$ ?"
   ]
  },
  {
   "cell_type": "markdown",
   "metadata": {
    "slideshow": {
     "slide_type": "slide"
    }
   },
   "source": [
    "#### Определение миграционной политики\n",
    "\n",
    "- Дан вектор $x_1$, матрица $A$ и желаемое распределение $x_T = x_d$\n",
    "- Необходимо найти такой вектор $u$, чтобы желаемое распределение было достигнуто"
   ]
  },
  {
   "cell_type": "markdown",
   "metadata": {
    "slideshow": {
     "slide_type": "slide"
    }
   },
   "source": [
    "### Определение координат по дополнительным измерениям\n",
    "\n",
    "- Дано положение 4 объектов в пространстве $a_1$, $a_2$, $a_3$ и $a_4$\n",
    "- Известны расстояния между ними и искомым объектом $x$: $r_1$, $r_2$, $r_3$ и $r_4$\n",
    "- Как определить положение $x$?"
   ]
  },
  {
   "cell_type": "markdown",
   "metadata": {
    "slideshow": {
     "slide_type": "slide"
    }
   },
   "source": [
    "### Выигрыш от LU факторизации при решении систем с многими правыми частями\n",
    "\n",
    "- Дан набор систем $Ax = b_1$, $Ax = b_2, \\ldots$\n",
    "- Посмотрим на выигрыш в скорости при использовании однократной факторизации матрицы $A$"
   ]
  },
  {
   "cell_type": "code",
   "execution_count": 30,
   "metadata": {
    "slideshow": {
     "slide_type": "slide"
    }
   },
   "outputs": [],
   "source": [
    "n = 1000\n",
    "time_factor = []\n",
    "time_full = []\n",
    "A = np.random.randn(n, n)\n",
    "t = %timeit -o -q -r 5 splin.lu_factor(A)\n",
    "factor_time = t.best\n",
    "lu = splin.lu_factor(A)\n",
    "num_rhs = 10\n",
    "for i in range(num_rhs):\n",
    "    x_true = np.random.randn(n)\n",
    "    b = A @ x_true\n",
    "    t = %timeit -o -q np.linalg.solve(A, b)\n",
    "    time_full.append(t.best)\n",
    "    t = %timeit -o -q splin.lu_solve(lu, b)\n",
    "    time_factor.append(t.best)"
   ]
  },
  {
   "cell_type": "code",
   "execution_count": 34,
   "metadata": {
    "slideshow": {
     "slide_type": "slide"
    }
   },
   "outputs": [
    {
     "data": {
      "image/png": "[encoded data removed]",
      "text/plain": [
       "<Figure size 432x288 with 1 Axes>"
      ]
     },
     "metadata": {
      "needs_background": "light"
     },
     "output_type": "display_data"
    }
   ],
   "source": [
    "plt.plot(np.arange(1, num_rhs+1), factor_time + np.cumsum(np.array(time_factor)), label=\"Factor\")\n",
    "plt.plot(np.arange(1, num_rhs+1), np.cumsum(np.array(time_full)), label=\"Full\")\n",
    "plt.legend(fontsize=20)\n",
    "plt.xlabel(\"Number of rhs\", fontsize=20)\n",
    "plt.ylabel(\"Time\", fontsize=20)\n",
    "plt.yscale(\"log\")"
   ]
  },
  {
   "cell_type": "markdown",
   "metadata": {
    "slideshow": {
     "slide_type": "slide"
    }
   },
   "source": [
    "### Резюме\n",
    "\n",
    "- Решение задачи кластеризации как вычисление матричного разложения\n",
    "- Приложения задачи наименьших квадратов\n",
    "- Приложения и свойства обратных матриц и систем линейных уравнений"
   ]
  }
 ],
 "metadata": {
  "celltoolbar": "Slideshow",
  "kernelspec": {
   "display_name": "Python 3",
   "language": "python",
   "name": "python3"
  },
  "language_info": {
   "codemirror_mode": {
    "name": "ipython",
    "version": 3
   },
   "file_extension": ".py",
   "mimetype": "text/x-python",
   "name": "python",
   "nbconvert_exporter": "python",
   "pygments_lexer": "ipython3",
   "version": "3.6.9"
  }
 },
 "nbformat": 4,
 "nbformat_minor": 2
}
