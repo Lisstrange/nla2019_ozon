{
 "cells": [
  {
   "cell_type": "markdown",
   "metadata": {
    "slideshow": {
     "slide_type": "slide"
    }
   },
   "source": [
    "# Семинар 6.\n",
    "## Часть 1. Повторение пройденного"
   ]
  },
  {
   "cell_type": "markdown",
   "metadata": {
    "slideshow": {
     "slide_type": "slide"
    }
   },
   "source": [
    "### Что мы узнали по прошествии половины курса?\n",
    "\n",
    "- Какие форматы представления чисел в компьютере существуют и как устроена память в компьютере\n",
    "- Основные операции с матрицами и векторами, сложность их вычисления и частные случаи\n",
    "- Матричные разложения: SVD, скелетное разложение, LU/Холецкий, QR, разложение Шура\n",
    "- Приложения SVD\n",
    "- Вычисление собственных значений и собственных векторов: QR алгоритм и степенной метод\n",
    "- Алгоритмы вычисления SVD (узнаем в следующий раз)"
   ]
  },
  {
   "cell_type": "markdown",
   "metadata": {
    "slideshow": {
     "slide_type": "slide"
    }
   },
   "source": [
    "## Singular value decomposition (SVD)\n",
    "\n",
    "- Представление матрицы в виде\n",
    "\n",
    "$$ A = U\\Sigma V^*,$$\n",
    "\n",
    "- $U$ и $V$ – унитарные\n",
    "- $\\Sigma$ – диагональная\n",
    "\n",
    "- Существует для **любой** матрицы\n",
    "- Позволяет получить наилучшее малоранговое приближение матрицы в спектральной и Фробениусовой нормах (теорема Эккарта-Янга)\n",
    "- Как оценивается ошибка аппроксимации для этих норм?"
   ]
  },
  {
   "cell_type": "markdown",
   "metadata": {
    "slideshow": {
     "slide_type": "slide"
    }
   },
   "source": [
    "## Задача 1: решение системы линейных уравнений\n",
    "\n",
    "$$ Ax = b $$\n",
    "\n",
    "- LU разложение/разложение Холецкого\n",
    "- Задача наименьших квадратов и compressed sensing"
   ]
  },
  {
   "cell_type": "markdown",
   "metadata": {
    "slideshow": {
     "slide_type": "slide"
    }
   },
   "source": [
    "###  Случай 1: матрица квадратная\n",
    "\n",
    "Решение системы линейных уравнений с квадратной матрицей $A$\n",
    "\n",
    "$$A x = b$$\n",
    "\n",
    "существует тогда и только тогда, когда матрица невырождена, то есть\n",
    "* $\\det A \\ne 0$\n",
    "* матрица $A$ имеет полный ранг\n",
    "* существует $A^{-1}$."
   ]
  },
  {
   "cell_type": "markdown",
   "metadata": {
    "slideshow": {
     "slide_type": "slide"
    }
   },
   "source": [
    "### Как решать?\n",
    "\n",
    "- Метод Гаусса или LU разложение\n",
    "\n",
    "**Определение**: LU разложение матрицы $A$ – это представление\n",
    "\n",
    "$$A =  LU,$$\n",
    "\n",
    "где $L$ – **нижнетреугольная** и $U$ – **верхнетреугольная** матрица.\n",
    "\n",
    "- Проход вперёд и проход назад в методе Гаусса\n",
    "    - Проход вперёд эквивалентен\n",
    "\n",
    "    $$ L y = f.$$\n",
    "\n",
    "    - Аналогично для прохода назад\n",
    "    \n",
    "    $$ U x = y.$$\n",
    "\n",
    "Всегда ли существует $LU$ разложение?\n",
    "- Сложность $\\mathcal{O}(n^3)$\n",
    "- **Q:** можно ли уменьшить степень?\n",
    "- Проблемы с устойчивостью и строго регулярные матрицы"
   ]
  },
  {
   "cell_type": "markdown",
   "metadata": {
    "slideshow": {
     "slide_type": "slide"
    }
   },
   "source": [
    "### Выбор ведущего элемента в строке (pivoting)\n",
    "\n",
    "- Уже для любой матрицы существует PLU разложение\n",
    "\n",
    "$$ A = PLU, $$\n",
    "\n",
    "где $P$ – матрица перестановки.\n",
    "\n",
    "- Какая сложность?\n",
    "- Как с помощью такого разложения решить линейную систему?"
   ]
  },
  {
   "cell_type": "markdown",
   "metadata": {
    "slideshow": {
     "slide_type": "slide"
    }
   },
   "source": [
    "### Если матрица эрмитова и положительно определённая\n",
    "\n",
    "Эрмитова положительно определённая матрица $A$ строго регулярна и имеет **разложение Холецкого** вида\n",
    "\n",
    "$$A = RR^*,$$\n",
    "\n",
    "где $R$ нижнетреугольная матрица.\n",
    "\n",
    "Часто матрица $R$ называется \"квадратным корнем\" матрицы $A$. "
   ]
  },
  {
   "cell_type": "markdown",
   "metadata": {
    "slideshow": {
     "slide_type": "slide"
    }
   },
   "source": [
    "### Устойчивость решения линейной системы\n",
    "\n",
    "- Поведение алгоритмов в точной и машинной арифметике **принципиально различаются**!\n",
    "- Для решения линейных систем введено понятие **числа обусловленности** матрицы\n",
    "\n",
    "$$\\mathrm{cond}(A) = \\Vert A \\Vert \\Vert A^{-1} \\Vert.$$\n",
    "\n",
    "- С его помощью можно оценить\n",
    "\n",
    "$$ \\frac{\\Vert \\widehat{x} - x \\Vert}{\\Vert x \\Vert} \\leq \\mathrm{cond}(A) \\Big(\\frac{\\Vert\\Delta A\\Vert}{\\Vert A \\Vert} + \\frac{\\Vert \\Delta f \\Vert}{ \\Vert f \\Vert}\\Big),$$\n",
    "\n",
    "где $(A + \\Delta A) \\widehat{x} = f + \\Delta f.$"
   ]
  },
  {
   "cell_type": "markdown",
   "metadata": {
    "slideshow": {
     "slide_type": "slide"
    }
   },
   "source": [
    "### Концепция предобусловливателя\n",
    "\n",
    "- Вместо решения системы $Ax = b$ будем решать систему $PAx = Pb$\n",
    "- Но число обусловленности $PA$ сильно меньше, чем у матрицы $A$!\n",
    "- **Q:** какая матрица $P$ идеальная с точки зрения минимизации числа обусловленности?\n",
    "- Далее в курсе подробно обсудим конкретные примеры и следствия использования такого подхода"
   ]
  },
  {
   "cell_type": "markdown",
   "metadata": {
    "slideshow": {
     "slide_type": "slide"
    }
   },
   "source": [
    "### Случай 2: матрица неквадратная\n",
    "\n",
    "- строк больше, чем столбцов – переопределённая система\n",
    "    - решение может не существовать\n",
    "- строк меньше, чем столбцов – недоопределённая система\n",
    "    - решение неединственное"
   ]
  },
  {
   "cell_type": "markdown",
   "metadata": {
    "slideshow": {
     "slide_type": "slide"
    }
   },
   "source": [
    "### Задача наименьших квадратов\n",
    "\n",
    "$$\\Vert A x - b \\Vert^2_2 \\rightarrow \\min_x$$\n",
    "\n",
    "- Геометрическая интерпретация\n",
    "- Стандартная задача: нужно вызвать функцию из библиотеки"
   ]
  },
  {
   "cell_type": "markdown",
   "metadata": {
    "slideshow": {
     "slide_type": "slide"
    }
   },
   "source": [
    "## Матрица Грама и нормальное уравнение\n",
    "\n",
    "- Из условия оптимальности первого порядка получим нормальное уравнение\n",
    "\n",
    "$$\n",
    "A^* A x = A^* b\n",
    "$$\n",
    "\n",
    "Матрица $A^* A$ называется **матрицей Грама**.\n",
    "\n",
    "Свойства нормального уравнения:\n",
    "\n",
    "- Число обусловленности матрицы $A^* A$ равно квадрату числа обусловленности матрицы $A$ (проверьте!).\n",
    "- Поэтому решать нормальное уравнение в таком виде – не самая хорошая идея!"
   ]
  },
  {
   "cell_type": "markdown",
   "metadata": {
    "slideshow": {
     "slide_type": "slide"
    }
   },
   "source": [
    "### Псевдообратная матрица\n",
    "\n",
    "- Если матрица $A$ неполного ранга, то матрица Грама – вырождена\n",
    "- Поэтому введём понятие псевдообратной матрицы  $A^{\\dagger}$\n",
    "\n",
    "$$x = A^{\\dagger} b.$$\n",
    "\n",
    "- Матрица \n",
    "\n",
    "$$A^{\\dagger} = \\lim_{\\alpha \\rightarrow 0}(\\alpha I + A^* A)^{-1} A^*$$ \n",
    "\n",
    "называется псевдообратной матрицей Мура-Пенроуза для матрицы $A$."
   ]
  },
  {
   "cell_type": "markdown",
   "metadata": {
    "slideshow": {
     "slide_type": "slide"
    }
   },
   "source": [
    "#### Свойства псевдообратной матрицы\n",
    "\n",
    "* Если матрица $A$ имеет полный ранг, тогда $A^* A$ невырождена, и мы получим \n",
    "\n",
    "$$A^{\\dagger} = \\lim_{\\alpha \\rightarrow 0}(\\alpha I + A^* A)^{-1} A^* = (A^* A)^{-1} A^*.$$\n",
    "\n",
    "* Если матрица $A$ квадратная и невырожденная, мы получим \n",
    "\n",
    "$$ A^{\\dagger} = \\lim_{\\alpha \\rightarrow 0}(\\alpha I + A^* A)^{-1} A^* = (A^* A)^{-1} A^* = A^{-1} A^{-*} A^* = A^{-1}$$\n",
    "\n",
    "Получили обычную обратную матрицу для $A$\n",
    "\n",
    "* Если $A$ имеет линейно зависимые столбцы, тогда $A^\\dagger b$ даёт решение минимальной евклидовой нормы – вспоминаем геометрию задачи! "
   ]
  },
  {
   "cell_type": "markdown",
   "metadata": {
    "slideshow": {
     "slide_type": "slide"
    }
   },
   "source": [
    "### Вычисление псевдообратной матрицы с помощью SVD\n",
    "\n",
    "Пусть $A = U \\Sigma V^*$ SVD для матрицы $A$. Тогда,\n",
    "\n",
    "$$A^{\\dagger} = V \\Sigma^{\\dagger} U^*,$$\n",
    "\n",
    "где $\\Sigma^{\\dagger}$ состоит из обращённых ненулевых сингулярных чисел матрицы $A$. Действительно,\n",
    "\n",
    "\\begin{align*}\n",
    "A^{\\dagger} = \\lim_{\\alpha \\rightarrow 0}(\\alpha I + A^* A)^{-1} A^* = \\lim_{\\alpha \\rightarrow 0}( \\alpha VV^* + V \\Sigma^2 V^*)^{-1} V \\Sigma U^* = \\lim_{\\alpha \\rightarrow 0}( V(\\alpha I + \\Sigma^2) V^*)^{-1} V \\Sigma U^* = V \\lim_{\\alpha \\rightarrow 0}(\\alpha I + \\Sigma^2)^{-1} \\Sigma U^* = V \\Sigma^{\\dagger} U^*,\n",
    "\\end{align*}\n",
    "\n",
    "* Вы можете проверить, что $\\Sigma^{\\dagger}$ состоит из обращённых ненулевых сингулярных чисел <br>\n",
    "* Если сингулярные числа малы, их можно не обращать. Это даст решение менее чувствительное к шуму в правой части\n",
    "\n",
    "**Q:** что произошло с числом обусловленности?"
   ]
  },
  {
   "cell_type": "markdown",
   "metadata": {
    "slideshow": {
     "slide_type": "slide"
    }
   },
   "source": [
    "### Для решения задачи используем QR разложение \n",
    "\n",
    "Любая матрица может быть представлена в виде \n",
    "\n",
    "$$\n",
    "A = Q R,\n",
    "$$\n",
    "где $Q$ – унитарная матрица, и $R$ – верхнетреугольная.\n",
    "\n",
    "- Ортогонализация Грама-Шмидта неустойчива\n",
    "- Модифицрованный алгоритм устойчив"
   ]
  },
  {
   "cell_type": "markdown",
   "metadata": {
    "slideshow": {
     "slide_type": "slide"
    }
   },
   "source": [
    "- Вычисление с помощью отражений Хаусхолдера. Это преобразование зануляет подвектор\n",
    "\n",
    "$$\n",
    "    H \\begin{bmatrix} \\times \\\\ \\times \\\\ \\times \\\\ \\times  \\end{bmatrix} = \n",
    "      \\begin{bmatrix} \\times \\\\ 0 \\\\ 0 \\\\ 0  \\end{bmatrix}.\n",
    "$$\n",
    "\n",
    "- Матрица Хаусхолдера \n",
    "\n",
    "$$ H = I - 2 vv^*. $$\n",
    "\n",
    "Сложность умножения на вектор $\\mathcal{O}(n)$!\n",
    "\n",
    "- Сложность вычисления QR разложения – $\\mathcal{O}(n^3)$\n",
    "- Какая сложность для матрицы $m \\times n,$ где $m > n$?"
   ]
  },
  {
   "cell_type": "markdown",
   "metadata": {
    "slideshow": {
     "slide_type": "slide"
    }
   },
   "source": [
    "- Вычисление с помощью вращения Гивенса\n",
    "- Матрица Гивенса в 2D имеет вид\n",
    "\n",
    "$$\n",
    "    G = \\begin{bmatrix}\n",
    "          \\cos \\alpha & -\\sin \\alpha \\\\\n",
    "          \\sin \\alpha & \\cos \\alpha\n",
    "        \\end{bmatrix},\n",
    "$$\n",
    "- Последовательное зануление элементов\n",
    "- Подходит для разреженных матриц и параллельных архитектур"
   ]
  },
  {
   "cell_type": "markdown",
   "metadata": {
    "slideshow": {
     "slide_type": "slide"
    }
   },
   "source": [
    "### Возвращаемся к задаче наименьших квадратов\n",
    "\n",
    "Тогда если $A$ имеет полный ранг, то\n",
    "\n",
    "$$\n",
    "x = A^{\\dagger}b = (A^*A)^{-1}A^*b = ((QR)^*(QR))^{-1}(QR)^*b = (R^*Q^*QR)^{-1}R^*Q^*b = R^{-1}Q^*b. \n",
    "$$ \n",
    "\n",
    "Таким образом, необходимо решить следующую квадратную систему \n",
    "\n",
    "$$\n",
    "Rx = Q^* b.\n",
    "$$\n",
    "\n",
    "- $R$ верхнетреугольная\n",
    "- Решение требует $\\mathcal{O}(n^2)$ операций\n",
    "- Более устойчивый способ, чем использование псевдообратной матрицы напрямую"
   ]
  },
  {
   "cell_type": "markdown",
   "metadata": {
    "slideshow": {
     "slide_type": "slide"
    }
   },
   "source": [
    "### Альтернатива для недоопределённой системы: compressed sensing\n",
    "\n",
    "- Альтернативным способов определения единственности решения является задача минимизации его первой нормы\n",
    "\n",
    "\\begin{align*}\n",
    "& \\Vert x \\Vert_1 \\rightarrow \\min_x \\\\\n",
    "\\mbox{s.t.  } & Ax = f\n",
    "\\end{align*}\n",
    "\n",
    "- Решается специальными методами оптимизации\n",
    "- Ожидается получение разреженного решения"
   ]
  },
  {
   "cell_type": "markdown",
   "metadata": {
    "slideshow": {
     "slide_type": "slide"
    }
   },
   "source": [
    "### Всегда ли решение будет разреженным?"
   ]
  },
  {
   "cell_type": "code",
   "execution_count": 9,
   "metadata": {
    "slideshow": {
     "slide_type": "slide"
    }
   },
   "outputs": [
    {
     "name": "stdout",
     "output_type": "stream",
     "text": [
      "[[ 7.07459892e-01 -7.06752786e-01  1.00000000e+00  0.00000000e+00\n",
      "   0.00000000e+00  0.00000000e+00  0.00000000e+00  0.00000000e+00\n",
      "   0.00000000e+00  0.00000000e+00  0.00000000e+00  0.00000000e+00]\n",
      " [-7.06752786e-01  7.07459892e-01  0.00000000e+00  1.00000000e+00\n",
      "   0.00000000e+00  0.00000000e+00  0.00000000e+00  0.00000000e+00\n",
      "   0.00000000e+00  0.00000000e+00  0.00000000e+00  0.00000000e+00]\n",
      " [ 3.53553170e-04  3.53553170e-04  0.00000000e+00  0.00000000e+00\n",
      "   1.00000000e+00  0.00000000e+00  0.00000000e+00  0.00000000e+00\n",
      "   0.00000000e+00  0.00000000e+00  0.00000000e+00  0.00000000e+00]\n",
      " [ 3.53553170e-04  3.53553170e-04  0.00000000e+00  0.00000000e+00\n",
      "   0.00000000e+00  1.00000000e+00  0.00000000e+00  0.00000000e+00\n",
      "   0.00000000e+00  0.00000000e+00  0.00000000e+00  0.00000000e+00]\n",
      " [ 3.53553170e-04  3.53553170e-04  0.00000000e+00  0.00000000e+00\n",
      "   0.00000000e+00  0.00000000e+00  1.00000000e+00  0.00000000e+00\n",
      "   0.00000000e+00  0.00000000e+00  0.00000000e+00  0.00000000e+00]\n",
      " [ 3.53553170e-04  3.53553170e-04  0.00000000e+00  0.00000000e+00\n",
      "   0.00000000e+00  0.00000000e+00  0.00000000e+00  1.00000000e+00\n",
      "   0.00000000e+00  0.00000000e+00  0.00000000e+00  0.00000000e+00]\n",
      " [ 3.53553170e-04  3.53553170e-04  0.00000000e+00  0.00000000e+00\n",
      "   0.00000000e+00  0.00000000e+00  0.00000000e+00  0.00000000e+00\n",
      "   1.00000000e+00  0.00000000e+00  0.00000000e+00  0.00000000e+00]\n",
      " [ 3.53553170e-04  3.53553170e-04  0.00000000e+00  0.00000000e+00\n",
      "   0.00000000e+00  0.00000000e+00  0.00000000e+00  0.00000000e+00\n",
      "   0.00000000e+00  1.00000000e+00  0.00000000e+00  0.00000000e+00]\n",
      " [ 3.53553170e-04  3.53553170e-04  0.00000000e+00  0.00000000e+00\n",
      "   0.00000000e+00  0.00000000e+00  0.00000000e+00  0.00000000e+00\n",
      "   0.00000000e+00  0.00000000e+00  1.00000000e+00  0.00000000e+00]\n",
      " [ 3.53553170e-04  3.53553170e-04  0.00000000e+00  0.00000000e+00\n",
      "   0.00000000e+00  0.00000000e+00  0.00000000e+00  0.00000000e+00\n",
      "   0.00000000e+00  0.00000000e+00  0.00000000e+00  1.00000000e+00]]\n"
     ]
    }
   ],
   "source": [
    "import numpy as np\n",
    "\n",
    "eps = 1e-3\n",
    "n = 10\n",
    "b = np.ones(n)\n",
    "A = np.zeros((n, n+2))\n",
    "A[:, 2:] = np.eye(n)\n",
    "A[:, :2] = eps / 2.\n",
    "A[0, 0] += 1\n",
    "A[1, 1] += 1\n",
    "A[0, 1] -= 1\n",
    "A[1, 0] -= 1\n",
    "c = 1. / np.linalg.norm(A[:, 0])\n",
    "A[:, 0] = A[:, 0] / np.linalg.norm(A[:, 0])\n",
    "A[:, 1] = A[:, 1] / np.linalg.norm(A[:, 1])\n",
    "print(A)"
   ]
  },
  {
   "cell_type": "code",
   "execution_count": 12,
   "metadata": {
    "slideshow": {
     "slide_type": "slide"
    }
   },
   "outputs": [
    {
     "name": "stdout",
     "output_type": "stream",
     "text": [
      "0.0 10.0\n",
      "10\n"
     ]
    }
   ],
   "source": [
    "x1 = np.zeros(n+2)\n",
    "x1[2:] = 1\n",
    "print(np.linalg.norm(A @ x1 - b), np.linalg.norm(x1, 1))\n",
    "print(np.sum(x1 != 0))"
   ]
  },
  {
   "cell_type": "code",
   "execution_count": 13,
   "metadata": {
    "slideshow": {
     "slide_type": "slide"
    }
   },
   "outputs": [
    {
     "name": "stdout",
     "output_type": "stream",
     "text": [
      "0.0 2828.4288925125907\n",
      "2\n"
     ]
    }
   ],
   "source": [
    "x2 = np.zeros(n+2)\n",
    "x2[:2] = 1\n",
    "x2 = x2 / (eps * c)\n",
    "print(np.linalg.norm(A @ x2 - b), np.linalg.norm(x2, 1))\n",
    "print(np.sum(x2 != 0))"
   ]
  },
  {
   "cell_type": "markdown",
   "metadata": {
    "slideshow": {
     "slide_type": "slide"
    }
   },
   "source": [
    "### Почему так получилось?"
   ]
  },
  {
   "cell_type": "markdown",
   "metadata": {
    "slideshow": {
     "slide_type": "slide"
    }
   },
   "source": [
    "## Задача 2: вычисление собственных векторов и собственных значений\n",
    "\n",
    "$$ Ax = \\lambda x, \\qquad A = S \\Lambda S^{-1} $$\n",
    "\n",
    "- Степенной метод\n",
    "- QR алгоритм"
   ]
  },
  {
   "cell_type": "markdown",
   "metadata": {
    "slideshow": {
     "slide_type": "slide"
    }
   },
   "source": [
    "### Теоретический подход\n",
    "\n",
    "- Характеристическое уравнение\n",
    "\n",
    "$$ \\det(A - \\lambda I) = 0 $$\n",
    "\n",
    "- Решение через вычисление коэффицентов полинома и нахождения его нулей\n",
    "- Очень неустойчивая операция! \n",
    "- Почему?"
   ]
  },
  {
   "cell_type": "markdown",
   "metadata": {
    "slideshow": {
     "slide_type": "slide"
    }
   },
   "source": [
    "### Практический подход: частичная задача на собственные векторы\n",
    "\n",
    "- Степенной метод и блочный степенной метод\n",
    "- Одна итерация\n",
    "\n",
    "$$ x_{k+1} = A x_k, \\quad x_{k+1} := \\frac{x_{k+1}}{\\Vert x_{k+1} \\Vert_2}.$$\n",
    "\n",
    "- Сходится к максимальному по модулю собственному значению\n",
    "- Для выполнения итераций достаточно иметь функцию умножения матрицы на вектор!\n",
    "\n",
    "**Q:** какая сложность?\n",
    "\n",
    "- Скорость сходимости – линейная (геометрическая прогрессия), константа $q = \\left|\\frac{\\lambda_{2}}{\\lambda_{1}}\\right| < 1$, где $\\lambda_1>\\lambda_2\\geq\\dots\\geq \\lambda_n$.\n",
    "- Не сходится, если $\\lambda_1 = \\bar{\\lambda}_2$"
   ]
  },
  {
   "cell_type": "markdown",
   "metadata": {
    "slideshow": {
     "slide_type": "slide"
    }
   },
   "source": [
    "### Крыловское пространство\n",
    "\n",
    "- Собственный вектор, полученный степенным методом, лежит в **Крыловском подпространстве** $\\{x_0, Ax_0,\\dots,A^{k}x_0\\}$ и имеет вид $\\mu A^k x_0$, где $\\mu$ нормировочная постоянная. \n",
    "- Далее Крыловские пространства будут играть **ключевую роль** для задач большой размерности!\n",
    "- Подробности через лекцию..."
   ]
  },
  {
   "cell_type": "markdown",
   "metadata": {
    "slideshow": {
     "slide_type": "slide"
    }
   },
   "source": [
    "### Практический подход: полная задача на собственные векторы\n",
    "\n",
    "- Ищем весь спектр!\n",
    "- Разложение Шура\n",
    "\n",
    "$$A = UTU^*,$$ \n",
    "\n",
    "где $U$ унитарная, а $T$ верхнетреугольная.\n",
    "\n",
    "- Спектр $T$ и $A$ совпадает в силу унитарности $U$\n",
    "- Как вычислить разложение Шура?  "
   ]
  },
  {
   "cell_type": "markdown",
   "metadata": {
    "slideshow": {
     "slide_type": "slide"
    }
   },
   "source": [
    "###  QR алгоритм\n",
    "1. Инициализируем $A_0 = A$.\n",
    "2. Вычислим QR разложение матрицы $A_k$: $A_k = Q_k R_k$.\n",
    "3. Обновим аппроксимацию $A_{k+1} = R_k Q_k$.\n",
    "\n",
    "\n",
    "- Как проверить сходимиость?\n",
    "- Какая сложность?\n",
    "- Как найти матрицы $U$ и $T$?"
   ]
  },
  {
   "cell_type": "markdown",
   "metadata": {
    "slideshow": {
     "slide_type": "slide"
    }
   },
   "source": [
    "### Сходимость и ускорение\n",
    "\n",
    "- Ускорим QR алгоритм до $\\mathcal{O}(n^3)$\n",
    "- Используем свойства матриц в **верхне-гессенберговой форме**\n",
    "- Матрица $A$ представлена в верхне-гессенберговой форме, если\n",
    "\n",
    "$$a_{ij} = 0, \\quad \\mbox{if } i \\geq j+2.$$\n",
    "\n",
    "или \n",
    "\n",
    "$$A = \\begin{bmatrix} * & * & * & * & * \\\\ * & * & * & * & * \\\\ 0 & * & * & * & *\\\\ 0 & 0 & * & * & *\\\\ 0 & 0 & 0 & * & * \\\\ \\end{bmatrix}.$$\n",
    "\n",
    "- Подробности на следующей лекции..."
   ]
  },
  {
   "cell_type": "markdown",
   "metadata": {
    "slideshow": {
     "slide_type": "slide"
    }
   },
   "source": [
    "## Задача 3: вычисление матричных функций\n",
    "\n",
    "$$ B = f(A) = \\sum_{k=0}^{\\infty} c_k A^k$$\n",
    "\n",
    "- Это не поэлементная функция\n",
    "- Нужно уметь вычислять ряд\n",
    "- Устойчивость"
   ]
  },
  {
   "cell_type": "markdown",
   "metadata": {
    "slideshow": {
     "slide_type": "slide"
    }
   },
   "source": [
    "## Вычисление степени матрицы\n",
    "\n",
    "- Дана матрица $A$\n",
    "- Нужно вычислить $A^k$\n",
    "- Это необходимо при вычисление матричных функций, которые представляются в виде матричного ряда"
   ]
  },
  {
   "cell_type": "markdown",
   "metadata": {
    "slideshow": {
     "slide_type": "slide"
    }
   },
   "source": [
    "### Используем спектральное разложение\n",
    "\n",
    "- $A = U\\Lambda U^{-1}$\n",
    "- Тогда $A^k = U \\Lambda^k U^{-1}$"
   ]
  },
  {
   "cell_type": "markdown",
   "metadata": {
    "slideshow": {
     "slide_type": "slide"
    }
   },
   "source": [
    "### Матричная экспонента: знакомство или напоминание\n",
    "\n",
    "$$\\exp(A) = \\sum_{k=0}^{\\infty} \\frac{A^k}{k!} $$\n",
    "\n",
    "- Про матричные функции будет отдельное занятие!\n",
    "- Важно! Чаще нужно не само значение матричной экспоненты, а результат её умножения на некоторый вектор $v$: \n",
    "\n",
    "$$ \\exp(A)v $$\n",
    "\n",
    "- Это позволяет разработать быстрые методы для вычисления произведения, не считая саму матричную экспоненту!"
   ]
  },
  {
   "cell_type": "code",
   "execution_count": 24,
   "metadata": {
    "slideshow": {
     "slide_type": "slide"
    }
   },
   "outputs": [
    {
     "name": "stdout",
     "output_type": "stream",
     "text": [
      "10.14557721316647\n",
      "[[  88.1374  -20.1911   -4.2125    3.0542    6.2766   -1.0849  -28.8463]\n",
      " [ -20.1911   18.0428   -5.4419   41.6549  -13.4495  -18.449    24.4322]\n",
      " [  -4.2125   -5.4419   21.6938  -53.9761   40.6681    2.6968  -33.6354]\n",
      " [   3.0542   41.6549  -53.9761  204.2881 -105.3993  -51.6985  108.6377]\n",
      " [   6.2766  -13.4495   40.6681 -105.3993   80.2581    6.1887  -70.7844]\n",
      " [  -1.0849  -18.449     2.6968  -51.6985    6.1887   30.0549  -17.7194]\n",
      " [ -28.8463   24.4322  -33.6354  108.6377  -70.7844  -17.7194   74.2981]]\n"
     ]
    }
   ],
   "source": [
    "import scipy.linalg as splin\n",
    "import matplotlib.pyplot as plt\n",
    "plt.rc(\"text\", usetex=True)\n",
    "%matplotlib inline \n",
    "\n",
    "n = 7\n",
    "A = np.random.randn(n, n)\n",
    "A = A + A.T\n",
    "print(np.linalg.norm(A))\n",
    "expA = splin.expm(A)\n",
    "print(expA.round(4))"
   ]
  },
  {
   "cell_type": "code",
   "execution_count": 25,
   "metadata": {
    "slideshow": {
     "slide_type": "slide"
    }
   },
   "outputs": [],
   "source": [
    "def qr_algorithm(A, num_iter, eps):\n",
    "    T = A.copy()\n",
    "    U = np.eye(A.shape[0])\n",
    "    conv = [(T, U)]\n",
    "    for i in range(num_iter):\n",
    "        Q, R = np.linalg.qr(T)\n",
    "        T = R @ Q\n",
    "        U = U @ Q\n",
    "        conv.append((T, U))\n",
    "        if np.sum(np.abs(np.tril(T, k=-1))) < eps:\n",
    "            break\n",
    "    return T, U, conv[1:]"
   ]
  },
  {
   "cell_type": "code",
   "execution_count": 26,
   "metadata": {
    "slideshow": {
     "slide_type": "slide"
    }
   },
   "outputs": [
    {
     "name": "stdout",
     "output_type": "stream",
     "text": [
      "1.0675878641639698e-13\n"
     ]
    }
   ],
   "source": [
    "T, U, conv = qr_algorithm(A, 2000, 1e-6)\n",
    "print(np.linalg.norm(A - U @ T @ U.T))"
   ]
  },
  {
   "cell_type": "code",
   "execution_count": 27,
   "metadata": {
    "slideshow": {
     "slide_type": "slide"
    }
   },
   "outputs": [
    {
     "name": "stdout",
     "output_type": "stream",
     "text": [
      "[[  88.1374  -20.1911   -4.2125    3.0542    6.2766   -1.0849  -28.8463]\n",
      " [ -20.1911   18.0428   -5.4419   41.6549  -13.4495  -18.449    24.4322]\n",
      " [  -4.2125   -5.4419   21.6938  -53.9761   40.6681    2.6968  -33.6354]\n",
      " [   3.0542   41.6549  -53.9761  204.2881 -105.3993  -51.6985  108.6377]\n",
      " [   6.2766  -13.4495   40.6681 -105.3993   80.2581    6.1887  -70.7844]\n",
      " [  -1.0849  -18.449     2.6968  -51.6985    6.1887   30.0549  -17.7194]\n",
      " [ -28.8463   24.4322  -33.6354  108.6377  -70.7844  -17.7194   74.2981]]\n",
      "1.3182919857724327e-05\n"
     ]
    }
   ],
   "source": [
    "cur_term = np.eye(n)\n",
    "expA_approx = np.eye(n)\n",
    "K = 50\n",
    "denom = 1.\n",
    "conv = [expA_approx]\n",
    "for i in range(1, K):\n",
    "    denom = denom * i\n",
    "    cur_term = U @ T**i @ U.T / denom\n",
    "    expA_approx = expA_approx + cur_term\n",
    "    conv.append(expA_approx)\n",
    "print(expA_approx.round(4))\n",
    "print(np.linalg.norm(expA_approx - expA))"
   ]
  },
  {
   "cell_type": "code",
   "execution_count": 28,
   "metadata": {
    "slideshow": {
     "slide_type": "slide"
    }
   },
   "outputs": [
    {
     "data": {
      "image/png": "[encoded data removed]",
      "text/plain": [
       "<Figure size 720x504 with 1 Axes>"
      ]
     },
     "metadata": {
      "needs_background": "light"
     },
     "output_type": "display_data"
    }
   ],
   "source": [
    "plt.figure(figsize=(10, 7))\n",
    "plt.plot([np.linalg.norm(expA - approx, \"fro\") / np.linalg.norm(expA) for approx in conv])\n",
    "plt.yscale(\"log\")\n",
    "plt.xticks(fontsize=20)\n",
    "plt.yticks(fontsize=20)\n",
    "plt.xlabel(\"\\# iterations, $k$\", fontsize=20)\n",
    "plt.ylabel(\"$\\|\\exp(A) - S_k \\|_F / \\|\\exp(A)\\|_F$\", fontsize=20)\n",
    "plt.grid(True)"
   ]
  },
  {
   "cell_type": "markdown",
   "metadata": {
    "slideshow": {
     "slide_type": "slide"
    }
   },
   "source": [
    "## Что нас ждёт дальше?\n",
    "\n",
    "- Те же задачи, но для матриц большого и очень большого размера\n",
    "- Активное использование структуры матриц\n",
    "    - разреженность\n",
    "    - малоранговость\n",
    "    - Тёплицевы матрицы и циркулянты\n",
    "- Итерационные методы для\n",
    "    - решения линейных систем\n",
    "    - вычисления собственных значений и векторов\n",
    "    - вычисления матричных функций\n",
    "- Тензорные разложения и их приложения"
   ]
  },
  {
   "cell_type": "markdown",
   "metadata": {
    "slideshow": {
     "slide_type": "slide"
    }
   },
   "source": [
    "## Часть 2. Что ожидается увидеть на презентации проектов"
   ]
  },
  {
   "cell_type": "markdown",
   "metadata": {
    "slideshow": {
     "slide_type": "slide"
    }
   },
   "source": [
    "### Постановка задачи\n",
    "\n",
    "- Почему эта задача важна?\n",
    "- Основные обозначения\n",
    "- Как задача формально записывается? \n",
    "- Критерий качества"
   ]
  },
  {
   "cell_type": "markdown",
   "metadata": {
    "slideshow": {
     "slide_type": "slide"
    }
   },
   "source": [
    "### Методы решения\n",
    "\n",
    "- Какие методы вы используете для её решения?\n",
    "- Что из материалов курса вам было нужно для решения задачи?\n",
    "- Описание алгоритмов"
   ]
  },
  {
   "cell_type": "markdown",
   "metadata": {
    "slideshow": {
     "slide_type": "slide"
    }
   },
   "source": [
    "### Результаты\n",
    "\n",
    "- Графики\n",
    "    - Читаемые оси и подписи к осям\n",
    "    - Понятная легенда\n",
    "    - Отличимые линии\n",
    "- Таблицы\n",
    "    - Выделенные ячейки, на которые надо смотреть\n",
    "    - Понятные наименования строк/столбцов\n",
    "- Картинки"
   ]
  },
  {
   "cell_type": "markdown",
   "metadata": {
    "slideshow": {
     "slide_type": "slide"
    }
   },
   "source": [
    "## Анонс следующего занятия\n",
    "\n",
    "- 2 лекции\n",
    "- Способы вычисления SVD – последняя тема про плотные неструктурированные матрицы \n",
    "- Разреженные матрицы и прямые методы решения линейных систем с разреженными матрицами"
   ]
  }
 ],
 "metadata": {
  "celltoolbar": "Slideshow",
  "kernelspec": {
   "display_name": "Python 3",
   "language": "python",
   "name": "python3"
  },
  "language_info": {
   "codemirror_mode": {
    "name": "ipython",
    "version": 3
   },
   "file_extension": ".py",
   "mimetype": "text/x-python",
   "name": "python",
   "nbconvert_exporter": "python",
   "pygments_lexer": "ipython3",
   "version": "3.6.8"
  }
 },
 "nbformat": 4,
 "nbformat_minor": 2
}
