{
 "cells": [
  {
   "cell_type": "markdown",
   "metadata": {
    "slideshow": {
     "slide_type": "slide"
    }
   },
   "source": [
    "# Лекция 6. Введение в итерационные методы"
   ]
  },
  {
   "cell_type": "markdown",
   "metadata": {
    "slideshow": {
     "slide_type": "slide"
    }
   },
   "source": [
    "## План на сегодня\n",
    "\n",
    "### Часть 1.\n",
    "\n",
    "Концепция **итерационных методов** для линейных систем:\n",
    "- Метод Ричардсона и его сходимость\n",
    "- Метод Чебышёва и его сходимость "
   ]
  },
  {
   "cell_type": "markdown",
   "metadata": {
    "slideshow": {
     "slide_type": "slide"
    }
   },
   "source": [
    "## Итерационные методы\n",
    "\n",
    "- Если мы хотим достичь сложности $\\mathcal{O}(N)$ в решении разреженных линейных систем, то прямые методы нам не подходят.\n",
    "\n",
    "- Если нам нужно решить частичную задачу на собственные значения, то полное спектральное разложение оказывается слишком дорогой операцией.\n",
    "\n",
    "- Для обеих задач мы будем использовать итерационные методы, основанные на Крыловских подпространствах, которые рассматривают матрицу как **линейный оператор** для преобразования одного вектора в другой (\"чёрный ящик\"), а не как двумерный массив с числами."
   ]
  },
  {
   "cell_type": "markdown",
   "metadata": {
    "slideshow": {
     "slide_type": "slide"
    }
   },
   "source": [
    "## Матрица как \"чёрный ящик\"\n",
    "\n",
    "- Сейчас рассмотрим альтернативный взгляд на то, что такое матрица: далее матрица – это линейный оператор, который действует на вектор, и результат этого действия можно вычислить за $\\mathcal{O}(N)$ операций.\n",
    "\n",
    "- **Единственная информация, которая нам доступна:** мы знаем о матрице только то, как умножать её на вектор!\n",
    "\n",
    "- Можно ли решить линейную систему, используя только процедуру умножения матрицы на вектор?\n",
    "\n",
    "- Конечно, мы можем умножить матрицу на столбцы единичной матрицы и восстановить матрицу, но это не то, что нам нужно."
   ]
  },
  {
   "cell_type": "markdown",
   "metadata": {
    "slideshow": {
     "slide_type": "slide"
    }
   },
   "source": [
    "## Метод Ричардсона (a.k.a метод простой итерации)\n",
    "\n",
    "Простейшая идея приводит нас к **методу Ричардсона**.\n",
    "\n",
    "$$Ax = f,$$\n",
    "$$\\tau  (Ax - f) = 0,$$\n",
    "$$x - \\tau (Ax - f) = x,$$\n",
    "$$x_{k+1} = x_k - \\tau (Ax_k - f),$$\n",
    "   \n",
    "где $\\tau > 0$ параметр метода, который надо выбрать так, чтобы метод сходился."
   ]
  },
  {
   "cell_type": "markdown",
   "metadata": {
    "slideshow": {
     "slide_type": "slide"
    }
   },
   "source": [
    "## Связь с обыкновенными дифференциальными уравнениями (ОДУ)\n",
    "\n",
    "- Метод Ричардсона имеет глубокую связь с ОДУ.\n",
    "\n",
    "- Рассмотрим задачу, зависящую от времени ($A=A^*>0$)\n",
    "\n",
    "$$\\frac{dy}{dt} + A y = f, \\quad y(0) = y_0.$$\n",
    "\n",
    "Тогда $y(t) \\rightarrow A^{-1} f$ при $t \\rightarrow \\infty$, и **схема Эйлера** выглядит следующим образом\n",
    "\n",
    "$$\\frac{y_{k+1} - y_k}{\\tau} = -A y_k + f,$$\n",
    "\n",
    "что также приводит к методу Ричардсона\n",
    "\n",
    "$$ y_{k+1} = y_k - \\tau(Ay_k -f). $$"
   ]
  },
  {
   "cell_type": "markdown",
   "metadata": {
    "slideshow": {
     "slide_type": "slide"
    }
   },
   "source": [
    "## Сходимость метода Ричардсона\n",
    "\n",
    "- Пусть $x_*$ решение, введём вектор ошибки $e_k = x_{k} - x_*$, тогда  \n",
    "\n",
    "$$ e_{k+1} = (I - \\tau A) e_k, $$\n",
    "\n",
    "поэтому если $\\Vert I - \\tau A \\Vert < 1$ в некоторой норме, метод сходится. \n",
    "\n",
    "- Для случая симметричной положительно определённой матрицы всегда можно выбрать $\\tau$ так, чтобы метод сошёлся.\n",
    "\n",
    "- Поведение метода для несимметричной матрицы будет рассмотрено далее"
   ]
  },
  {
   "cell_type": "markdown",
   "metadata": {
    "slideshow": {
     "slide_type": "slide"
    }
   },
   "source": [
    "## Выбор оптимального параметра\n",
    "\n",
    "- Параметр $\\tau$, который минимизирует $\\|I - \\tau A\\|_2$ для $A = A^* > 0$, выражается следующим образом (получите это выражение!)\n",
    "\n",
    "$$ \\tau_\\mathrm{opt} = \\frac{2}{\\lambda_{\\min} + \\lambda_{\\max}}, $$\n",
    "\n",
    "где $\\lambda_{\\min}$ – минимальное собственное значение, а $\\lambda_{\\max}$ – максимальное собственное значение матрицы $A$.\n",
    "\n",
    "- Итак, чтобы найти оптимальный параметр нам нужно знать **границы спектра** матрицы $A$, и мы можем вычислить их с помощью **степенного метода**."
   ]
  },
  {
   "cell_type": "markdown",
   "metadata": {
    "slideshow": {
     "slide_type": "slide"
    }
   },
   "source": [
    "## Число обусловленности и скорость сходимости\n",
    "\n",
    "- Даже с оптимальным выбором значения параметра $\\tau$, ошибка на следующей итерации связана с ошибкой на текущей итерации следующим образом\n",
    "\n",
    "$$\\|e_{k+1}\\|_2 \\leq q \\|e_k\\|_2 , \\quad\\rightarrow \\quad \\|e_k\\|_2 \\leq q^{k} \\|e_0\\|_2,$$\n",
    "\n",
    "где \n",
    "\n",
    "$$ q = \\frac{\\lambda_{\\max} - \\lambda_{\\min}}{\\lambda_{\\max} + \\lambda_{\\min}} = \\frac{\\mathrm{cond}(A) - 1}{\\mathrm{cond}(A)+1}, $$\n",
    "\n",
    "$$\\mathrm{cond}(A) = \\frac{\\lambda_{\\max}}{\\lambda_{\\min}} \\quad \\text{для} \\quad A=A^*>0$$\n",
    "\n",
    "число обусловенности матрицы $A$.\n",
    "\n",
    "- Далее покажем на примере сходимость метода Ричардсона..."
   ]
  },
  {
   "cell_type": "code",
   "execution_count": 37,
   "metadata": {
    "slideshow": {
     "slide_type": "slide"
    }
   },
   "outputs": [
    {
     "name": "stdout",
     "output_type": "stream",
     "text": [
      "Maximum eigenvalue = 3.6825070656623624, minimum eigenvalue = 0.08101405277100471\n",
      "Condition number = 45.45516413147952\n"
     ]
    },
    {
     "data": {
      "image/png": "[encoded data removed]",
      "text/plain": [
       "<Figure size 432x288 with 1 Axes>"
      ]
     },
     "metadata": {
      "needs_background": "light"
     },
     "output_type": "display_data"
    }
   ],
   "source": [
    "import numpy as np\n",
    "import matplotlib.pyplot as plt\n",
    "%matplotlib inline\n",
    "plt.rc(\"text\", usetex=True)\n",
    "import scipy as sp\n",
    "import scipy.sparse\n",
    "import scipy.sparse.linalg as spla\n",
    "import scipy\n",
    "from scipy.sparse import csc_matrix\n",
    "n = 10\n",
    "ex = np.ones(n);\n",
    "A = sp.sparse.spdiags(np.vstack((-ex,  2*ex, -ex)), [-1, 0, 1], n, n, 'csr'); \n",
    "rhs = np.ones(n)\n",
    "ev1, vec = spla.eigsh(A, k=2, which='LA')\n",
    "ev2, vec = spla.eigsh(A, k=2, which='SA')\n",
    "lam_max = ev1[0]\n",
    "lam_min = ev2[0]\n",
    "\n",
    "tau_opt = 2.0/(lam_max + lam_min)\n",
    "\n",
    "fig, ax = plt.subplots()\n",
    "plt.close(fig)\n",
    "\n",
    "niters = 100\n",
    "x = np.zeros(n)\n",
    "res_richardson = []\n",
    "for i in range(niters):\n",
    "    rr = A.dot(x) - rhs\n",
    "    x = x - tau_opt * rr\n",
    "    res_richardson.append(np.linalg.norm(rr))\n",
    "#Convergence of an ordinary Richardson (with optimal parameter)\n",
    "plt.plot(res_richardson)\n",
    "plt.yscale(\"log\")\n",
    "plt.xlabel(\"Number of iterations, $k$\", fontsize=20)\n",
    "plt.ylabel(\"Residual norm, $\\|Ax_k - b\\|_2$\", fontsize=20)\n",
    "plt.xticks(fontsize=20)\n",
    "plt.yticks(fontsize=20)\n",
    "print(\"Maximum eigenvalue = {}, minimum eigenvalue = {}\".format(lam_max, lam_min))\n",
    "print(\"Condition number = {}\".format(lam_max.real / lam_min.real))"
   ]
  },
  {
   "cell_type": "markdown",
   "metadata": {
    "slideshow": {
     "slide_type": "slide"
    }
   },
   "source": [
    "### Вывод о влиянии числа обусловленности на сходимость\n",
    "\n",
    "- Для **плохо обусловленных** матриц норма вектора ошибки в методе Ричардсона убывает **очень** медленно.\n",
    "- Это ещё одна причина, по которой число обусловленности очень важно: кроме того, что оно показывает ошибку при решении, оно также даёт оценку числа итераций для сходимости итерационных методов.\n",
    "- Основной вопрос в разработке итерационных методов – как улучшить обусловленность матрицы?\n",
    "- Ответом является использование <font color='red'> предобусловливателей (preconditioners) </font>. Эта тема будет рассмотрена далее в курсе."
   ]
  },
  {
   "cell_type": "markdown",
   "metadata": {
    "slideshow": {
     "slide_type": "slide"
    }
   },
   "source": [
    "### Рассмотрим несимметричную матрицу $A$\n",
    "\n",
    "Возможные варианты поведения метода Ричардсона:\n",
    "- сходимость\n",
    "- расходимость\n",
    "- почти стабильная траектория, то есть отсутствие сходимости, но и отсутствие существенного увеличения нормы вектора ошибки\n",
    "\n",
    "###### Как мы можем определить поведение метода Ричардсона для несимметричной матрицы **до** запуска метода?"
   ]
  },
  {
   "cell_type": "code",
   "execution_count": 38,
   "metadata": {
    "slideshow": {
     "slide_type": "slide"
    }
   },
   "outputs": [
    {
     "name": "stdout",
     "output_type": "stream",
     "text": [
      "[[ 1  2]\n",
      " [-1  0]]\n",
      "Spectrum of the matrix = [0.5+1.32287566j 0.5-1.32287566j]\n"
     ]
    }
   ],
   "source": [
    "# B = np.random.randn(2, 2)\n",
    "B = np.array([[1, 2], [-1, 0]])\n",
    "# B = np.array([[0, 1], [-1, 0]])\n",
    "print(B)\n",
    "x_true = np.zeros(2)\n",
    "f = B.dot(x_true)\n",
    "eigvals = np.linalg.eigvals(B)\n",
    "print(\"Spectrum of the matrix = {}\".format(eigvals))\n",
    "\n",
    "# Run Richardson iteration\n",
    "x = np.array([0, -1])\n",
    "tau = 1e-2\n",
    "conv_x = [x]\n",
    "r = B.dot(x) - f\n",
    "conv_r = [np.linalg.norm(r)]\n",
    "num_iter = 1000\n",
    "for i in range(num_iter):\n",
    "    x = x - tau * r\n",
    "    conv_x.append(x)\n",
    "    r = B.dot(x) - f\n",
    "    conv_r.append(np.linalg.norm(r))"
   ]
  },
  {
   "cell_type": "code",
   "execution_count": 57,
   "metadata": {
    "slideshow": {
     "slide_type": "slide"
    }
   },
   "outputs": [
    {
     "data": {
      "image/png": "[encoded data removed]",
      "text/plain": [
       "<Figure size 432x288 with 1 Axes>"
      ]
     },
     "metadata": {
      "needs_background": "light"
     },
     "output_type": "display_data"
    }
   ],
   "source": [
    "plt.plot(conv_r)\n",
    "plt.yscale(\"log\")\n",
    "plt.xlabel(\"Number of iteration, $k$\", fontsize=20)\n",
    "plt.ylabel(\"Residual norm\", fontsize=20)\n",
    "plt.yticks(fontsize=20)\n",
    "_ = plt.xticks(fontsize=20)"
   ]
  },
  {
   "cell_type": "code",
   "execution_count": 59,
   "metadata": {
    "slideshow": {
     "slide_type": "slide"
    }
   },
   "outputs": [
    {
     "data": {
      "image/png": "[encoded data removed]",
      "text/plain": [
       "<Figure size 432x288 with 1 Axes>"
      ]
     },
     "metadata": {
      "needs_background": "light"
     },
     "output_type": "display_data"
    }
   ],
   "source": [
    "plt.scatter([x[0] for x in conv_x], [x[1] for x in conv_x])\n",
    "plt.xlabel(\"$x$\", fontsize=20)\n",
    "plt.ylabel(\"$y$\", fontsize=20)\n",
    "plt.xticks(fontsize=20)\n",
    "plt.yticks(fontsize=20)\n",
    "_ = plt.title(\"$x_0 = (0, -1)$\", fontsize=20)"
   ]
  },
  {
   "cell_type": "markdown",
   "metadata": {
    "slideshow": {
     "slide_type": "slide"
    }
   },
   "source": [
    "## Возможные улучшения метода простой итерации\n",
    "\n",
    "- Наискорейший спуск\n",
    "- Метод Чебышёва"
   ]
  },
  {
   "cell_type": "markdown",
   "metadata": {
    "slideshow": {
     "slide_type": "slide"
    }
   },
   "source": [
    "## Улучшение 1: метод наискорейшего спуска\n",
    "\n",
    "- Пусть мы можем изменять значения $\\tau$ на каждой итерации, то есть \n",
    "\n",
    "$$ x_{k+1} = x_k - \\tau_k (A x_k - f). $$\n",
    "\n",
    "- Возможный выбор $\\tau_k$ такой что, $\\tau_k$ минимизирует нормы текущего вектора остатков, то есть\n",
    "\n",
    "$$\\tau_k = \\arg\\min_{\\tau > 0} \\|A(x_k - \\tau (A x_k - f)) - f \\|^2_2 $$\n",
    "\n",
    "- Используя технику, аналогичную той, что использовалась для получения нормального уравнения, получим выражение для $\\tau_k$\n",
    "\n",
    "$$\\tau_k = \\frac{r_k^{\\top}r_k}{r_k^{\\top}Ar_k}, \\quad r_k = Ax_k - f$$\n",
    "\n",
    "- Такой метод называется **методом наискорейшего спуска**.\n",
    "\n",
    "- Однако он сходится так же, как и метод Ричардсона."
   ]
  },
  {
   "cell_type": "markdown",
   "metadata": {
    "slideshow": {
     "slide_type": "slide"
    }
   },
   "source": [
    "## Улучшение 2: метод Чебышёва\n",
    "\n",
    "- Другой метод нахождения $\\tau_k$ заключается в рассмотрении следующего выражения\n",
    "\n",
    "$$e_{k+1} = (I - \\tau_k A) e_k = (I - \\tau_k A) (I - \\tau_{k-1} A)  e_{k-1} = \\ldots = p(A) e_0, $$\n",
    "\n",
    "где $p(A)$ – **матричный полином** (простейшая матричная функция)  \n",
    "\n",
    "$$ p(A) = (I - \\tau_k A) \\ldots (I - \\tau_0 A), $$\n",
    "\n",
    "и $p(0) = 1$."
   ]
  },
  {
   "cell_type": "markdown",
   "metadata": {
    "slideshow": {
     "slide_type": "slide"
    }
   },
   "source": [
    "## Оптимальный выбор шагов по времени\n",
    "\n",
    "- Вектор ошибки можно записать в виде\n",
    "\n",
    "$$e_{k+1} = p(A) e_0, $$\n",
    "\n",
    "тогда \n",
    "\n",
    "$$\\|e_{k+1}\\| \\leq \\|p(A)\\| \\|e_0\\|, $$\n",
    "\n",
    "где $p(0) = 1$ и $p(A)$ – **матричный полином**. \n",
    "\n",
    "- Для получения скорейшего уменьшения нормы вектора ошибки, нам нужно минимизировать\n",
    "\n",
    "$$\\Vert p(A) \\Vert$$ \n",
    "\n",
    "по всем возможным полиномам $p(x)$ степени $k+1$, таких что $p(0)=1$. \n",
    "- Мы будем использовать спектральную норму $\\|\\cdot\\|_2$."
   ]
  },
  {
   "cell_type": "markdown",
   "metadata": {
    "slideshow": {
     "slide_type": "slide"
    }
   },
   "source": [
    "##  Полиномы, наименее отклоняющиеся от 0\n",
    "\n",
    "- Важный частный случай: $A = A^* > 0$.\n",
    "\n",
    "- Тогда $A = U \\Lambda U^*$, \n",
    "\n",
    "и \n",
    "\n",
    "$$\\Vert p(A) \\Vert_2 = \\Vert U p(\\Lambda) U^* \\Vert_2 = \\Vert p(\\Lambda) \\Vert_2 = \\max_i |p(\\lambda_i)| \\overset{!}{\\leq}\n",
    "\\max_{\\lambda_\\min \\leq \\lambda {\\leq} \\lambda_\\max} |p(\\lambda)|.$$\n",
    "\n",
    "- Последнее неравенство является приближением: мы делаем <font color='red'> ключевое предположение </font> о не использовании распределения спектра между $\\lambda_\\min$ и $\\lambda_\\max$ для получения более быстрой сходимости.\n",
    "\n",
    "- Таким образом, нам нужно найти такой полином заданной степени, что $p(0) = 1$ и отклонение от 0 является минимальным на отрезке $[\\lambda_\\min, \\lambda_\\max]$."
   ]
  },
  {
   "cell_type": "markdown",
   "metadata": {
    "slideshow": {
     "slide_type": "slide"
    }
   },
   "source": [
    "##  Масштабирование задачи с $[\\lambda_\\min, \\lambda_\\max]$ на $[-1, 1]$\n",
    "\n",
    "- Мы можем сделать аффинное преобразование отрезка $[\\lambda_\\min, \\lambda_\\max]$ в отрезок $[-1, 1]$:\n",
    "\n",
    "$$ \\xi = \\frac{{\\lambda_\\max + \\lambda_\\min - (\\lambda_\\min-\\lambda_\\max)x}}{2}, \\quad x\\in [-1, 1]. $$\n",
    "\n",
    "- Теперь задача свелась к задаче поиска полинома, наименее отклоняющегося от 0 на отрезке $[-1, 1]$, а также $p(0) = 1$."
   ]
  },
  {
   "cell_type": "markdown",
   "metadata": {
    "slideshow": {
     "slide_type": "slide"
    }
   },
   "source": [
    "## Точное решение: полиномы Чебышёва\n",
    "\n",
    "- Точным решением этой задачи являются знаменитые **полиномы Чебышёва**, которые можно записать в виде\n",
    "\n",
    "$$T_n(x) =  \\cos (n \\arccos x)$$"
   ]
  },
  {
   "cell_type": "markdown",
   "metadata": {
    "slideshow": {
     "slide_type": "slide"
    }
   },
   "source": [
    "## Что вам нужно знать о полиномах Чебышёва\n",
    "\n",
    "1. Это полиномы!\n",
    "\n",
    "2. Можно выразить $T_n$ из $T_{n-1}$ и $T_{n-2}$: \n",
    "\n",
    "$$T_n(x) = 2x T_{n-1}(x) - T_{n-2}(x), \\quad T_0(x)=1, \\quad T_1(x)=x$$\n",
    "\n",
    "3. $|T_n(x)| \\leq 1$ на $x \\in [-1, 1]$.\n",
    "\n",
    "4. У них есть $n+1$ **точка альтернанса**, где максимальное абсолютное значение достигается (это необходимое и достаточное условие для **оптимальности**: об этом говорит теорема Чебышёва об альтернансе).\n",
    "\n",
    "5. Корни записываются как \n",
    "\n",
    "$$n \\arccos x_k = \\frac{\\pi}{2} + \\pi k, \\quad \\rightarrow\\quad x_k = \\cos \\frac{\\pi(2k + 1)}{2n}, \\; k = 0, \\ldots,n-1$$\n",
    "\n",
    "Мы можем их нарисовать!"
   ]
  },
  {
   "cell_type": "code",
   "execution_count": 32,
   "metadata": {
    "slideshow": {
     "slide_type": "slide"
    }
   },
   "outputs": [
    {
     "data": {
      "text/plain": [
       "Text(0.5, 1.0, 'Interval $x\\\\in[-1.1, 1.1]$')"
      ]
     },
     "execution_count": 32,
     "metadata": {},
     "output_type": "execute_result"
    },
    {
     "data": {
      "image/png": "[encoded data removed]",
      "text/plain": [
       "<Figure size 432x288 with 2 Axes>"
      ]
     },
     "metadata": {
      "needs_background": "light"
     },
     "output_type": "display_data"
    }
   ],
   "source": [
    "import numpy as np\n",
    "import matplotlib.pyplot as plt\n",
    "%matplotlib inline\n",
    "x1 = np.linspace(-1, 1, 128)\n",
    "x2 = np.linspace(-1.1, 1.1, 128)\n",
    "p = np.polynomial.Chebyshev((0, 0, 0, 0, 0, 0, 0, 0, 0, 1), (-1, 1)) #These are Chebyshev series, a proto of \"chebfun system\" in MATLAB\n",
    "fig, (ax1, ax2) = plt.subplots(1, 2)\n",
    "ax1.plot(x1, p(x1))\n",
    "ax1.set_title('Interval $x\\in[-1, 1]$')\n",
    "ax2.plot(x2, p(x2))\n",
    "ax2.set_title('Interval $x\\in[-1.1, 1.1]$')"
   ]
  },
  {
   "cell_type": "markdown",
   "metadata": {
    "slideshow": {
     "slide_type": "slide"
    }
   },
   "source": [
    "## Сходимость метода Чебышёва\n",
    "\n",
    "- Заметим, что $p(x) = (1-\\tau_n x)\\dots (1-\\tau_0 x)$, поэтому корни $p(x)$ задаются как $1/\\tau_i$ и нам осталось дополнительно отобразить их из $[-1,1]$ в $[\\lambda_\\min, \\lambda_\\max]$.\n",
    "\n",
    "- Это даёт следующий результат\n",
    "\n",
    "$$\\tau_i = \\frac{2}{\\lambda_\\max + \\lambda_\\min - (\\lambda_\\max - \\lambda_\\min)x_i}, \\quad x_i = \\cos \\frac{\\pi(2i + 1)}{2n}\\quad i=0,\\dots,n-1$$\n",
    "\n",
    "- Сходимость теперь будет такой (без доказательства)\n",
    "\n",
    "$$ e_{k+1} \\leq C q^k e_0, \\quad q = \\frac{\\sqrt{\\mathrm{cond}(A)}-1}{\\sqrt{\\mathrm{cond}(A)}+1}, $$\n",
    "\n",
    "что лучше, чем у метода Ричардсона."
   ]
  },
  {
   "cell_type": "code",
   "execution_count": 47,
   "metadata": {
    "slideshow": {
     "slide_type": "slide"
    }
   },
   "outputs": [
    {
     "data": {
      "image/png": "[encoded data removed]",
      "text/plain": [
       "<Figure size 432x288 with 1 Axes>"
      ]
     },
     "metadata": {
      "needs_background": "light"
     },
     "output_type": "display_data"
    }
   ],
   "source": [
    "niters = 64\n",
    "roots = [np.cos((np.pi * (2 * i + 1)) / (2 * niters)) for i in range(niters)]\n",
    "taus = [(lam_max + lam_min - (lam_min - lam_max) * r) / 2 for r in roots]\n",
    "x = np.zeros(n)\n",
    "r = A.dot(x) - rhs\n",
    "res_cheb = [np.linalg.norm(r)]\n",
    "\n",
    "# Implementation may be non-optimal if number of iterations is not power of two\n",
    "def good_shuffle(idx):\n",
    "    if len(idx) == 1:\n",
    "        return idx\n",
    "    else:\n",
    "        new_len = int(np.ceil((len(idx) / 2)))\n",
    "        new_idx = good_shuffle(idx[:new_len])\n",
    "        res_perm = []\n",
    "        perm_count = 0\n",
    "        for i in new_idx:\n",
    "            res_perm.append(i)\n",
    "            perm_count += 1\n",
    "            if perm_count == len(idx):\n",
    "                break\n",
    "            res_perm.append(len(idx) + 1 - i)\n",
    "            perm_count += 1\n",
    "            if perm_count == len(idx):\n",
    "                break\n",
    "        return res_perm\n",
    "\n",
    "good_perm = [i for i in range(1, niters+1)]\n",
    "# good_perm = good_shuffle([i for i in range(1, niters+1)])\n",
    "# good_perm = [i for i in range(niters, 0, -1)]\n",
    "# good_perm = np.random.permutation([i for i in range(1, niters+1)])\n",
    "\n",
    "for i in range(niters):\n",
    "    x = x - 1.0/taus[good_perm[i] - 1] * r\n",
    "    r = A.dot(x) - rhs\n",
    "    res_cheb.append(np.linalg.norm(r))\n",
    "    \n",
    "plt.semilogy(res_richardson, label=\"Richardson\")\n",
    "plt.semilogy(res_cheb, label=\"Chebyshev\")\n",
    "plt.legend(fontsize=20)\n",
    "plt.xlabel(\"Number of iterations, $k$\", fontsize=20)\n",
    "plt.ylabel(\"Residual norm, $\\|Ax_k - b\\|_2$\", fontsize=20)\n",
    "plt.xticks(fontsize=20)\n",
    "_ = plt.yticks(fontsize=20)"
   ]
  },
  {
   "cell_type": "markdown",
   "metadata": {
    "slideshow": {
     "slide_type": "slide"
    }
   },
   "source": [
    "### Что сломалось в прекрасном методе Чебышёва?"
   ]
  },
  {
   "cell_type": "markdown",
   "metadata": {
    "slideshow": {
     "slide_type": "fragment"
    }
   },
   "source": [
    "- Перестановки корней полинома Чебышёва очень сильно влияют на сходимость метода (почему?)\n",
    "- Об оптимальной перестановке можно прочитать в [этой статье](http://www.mathnet.ru/links/42ab1a270ad179d43359ef8fab53422c/zvmmf6870.pdf)"
   ]
  },
  {
   "cell_type": "markdown",
   "metadata": {
    "slideshow": {
     "slide_type": "slide"
    }
   },
   "source": [
    "### Проект [Chebfun](http://www.chebfun.org/) \n",
    "\n",
    "- Проект с открытым исходным кодом для численных расчётов (с интерфейсом для [Python](https://github.com/chebpy/chebpy) и [Matlab](https://github.com/chebfun/chebfun))\n",
    "- Основан на алгоритмах, работающих с кусочно-полиномиальными интерполяциями и Чебышёвскими полиномами\n",
    "- Авторами проекта являются Nick Trefethen и его студент Zachary Battles, подробности см. в [этой статье](http://www.chebfun.org/publications/chebfun_paper.pdf)\n",
    "- Chebfun нацелен на решение следующих задач\n",
    "    - Аппроксимация\n",
    "    - Квадратуры\n",
    "    - ОДУ\n",
    "    - Уравнения с частными производными\n",
    "    - Поиск корней\n",
    "    - Одномерная глобальная оптимизация"
   ]
  },
  {
   "cell_type": "markdown",
   "metadata": {
    "slideshow": {
     "slide_type": "slide"
    }
   },
   "source": [
    "## Улучшения метода Чебышёва\n",
    "\n",
    "- Мы сделали важное предположение о спектре: он содержится на отрезке (и нам нужны границы)\n",
    "\n",
    "- Если спектр содержится в **двух отрезках** и мы знаем границы, также можно поставить задачу оптимизации для поиска оптимального полинома"
   ]
  },
  {
   "cell_type": "markdown",
   "metadata": {
    "slideshow": {
     "slide_type": "slide"
    }
   },
   "source": [
    "## Если спектр матрицы лежит в нескольких отрезках\n",
    "\n",
    "- Для случая двух отрезков оптимальными полиномами являются **[полиномы Золотарёва](https://www.encyclopediaofmath.org/index.php/Zolotarev_polynomials)** (выражаются через эллиптические функции). \n",
    "- Оригинальная работа опубликована в 1877, подробности см. [тут](http://gpntb.dlibrary.org/ru/nodes/4245-zolotarev-e-prilozhenie-ellipticheskih-funktsiy-k-voprosam-o-funktsiyah-naimenee-i-naibolee-otklonyayuschihsya-ot-nulya-spb-1877) \n",
    "- Для случая, когда интервалов больше двух, оптимальный полином может быть записан с помощью гиперэллиптических функций"
   ]
  },
  {
   "cell_type": "markdown",
   "metadata": {
    "slideshow": {
     "slide_type": "slide"
    }
   },
   "source": [
    "## Как ещё можно ускорить метод Чебышёва?\n",
    "\n",
    "- Реализация метода Чебышёва требует знания границ спектра.\n",
    "\n",
    "- Метод хранит вектор $x_k$ и вычисляет новую поправку\n",
    "\n",
    "$$r_k = A x_k - f.$$\n",
    "\n",
    "- Оказывается, что если мы будем использовать больше векторов (не только $x_k$ и $r_k$), то мы можем избавиться от необходимости знать спектр и получим более быструю сходимость!"
   ]
  },
  {
   "cell_type": "markdown",
   "metadata": {
    "slideshow": {
     "slide_type": "slide"
    }
   },
   "source": [
    "## Главная идея: Крыловские пространства\n",
    "\n",
    "- Метод Чебышёва даёт аппроксимацию вида\n",
    "\n",
    "$$x_{k+1} = x_0 + p(A) r_0,$$\n",
    "\n",
    "то есть $x_{k+1}$ лежит в Крыловском пространстве.\n",
    "- Крыловское пространство определяется для матрицы $A$ следующим образом\n",
    "\n",
    "$$ \\mathcal{K}_k(A, r_0) = \\mathrm{Span}(r_0, Ar_0, A^2 r_0, \\ldots, A^{k-1}r_0 ) $$\n",
    "\n",
    "- Наиболее естественный подход теперь – это искать вектор в этом пространстве, который минимизирует норму некоторого вектора"
   ]
  },
  {
   "cell_type": "markdown",
   "metadata": {
    "slideshow": {
     "slide_type": "slide"
    }
   },
   "source": [
    "## Идея Крыловских методов\n",
    "\n",
    "Идея заключается в минимизации заданного функционала:\n",
    "- Энергетическая норма вектора ошибки для систем с эрмитовой положительно определённой матрицей (метод сопряжённых градиентов).\n",
    "- Норма вектора остатков для систем с матрицами общего вида (методы minres и GMRES).\n",
    "- Отношение Релея для частичных задач на собстенные значения (метод Ланцоша).\n",
    "\n",
    "Для того чтобы сделать метод практичным нужно следующее\n",
    "1. Ортогонализовать векторы $A^i r_0$ Крыловского подпространства для устойчивости (процесс Ланцоша).\n",
    "2. Получить рекуррентные формулы для уменьшения сложности.\n",
    "\n",
    "Эти методы рассмотрим далее."
   ]
  },
  {
   "cell_type": "markdown",
   "metadata": {
    "slideshow": {
     "slide_type": "slide"
    }
   },
   "source": [
    "## Выводы по первой части\n",
    "\n",
    "- Основная идея итерационных методов\n",
    "- Метод Ричардсона: эрмитов и неэрмитов случай\n",
    "- Метод Чебышёва\n",
    "- Определение Крыловских подпространств"
   ]
  },
  {
   "cell_type": "markdown",
   "metadata": {
    "slideshow": {
     "slide_type": "slide"
    }
   },
   "source": [
    "## План на часть 2\n",
    "\n",
    "- Процесс Арнольди и Ланцоша для ортогонализации в Крыловском подпространстве, результаты об оптимальности Крыловских подпространств\n",
    "- Главные итерационные метода: метод сопряжённых градиентов и GMRES\n",
    "- Оценки сходимости"
   ]
  },
  {
   "cell_type": "markdown",
   "metadata": {
    "slideshow": {
     "slide_type": "slide"
    }
   },
   "source": [
    "## Решение линейных систем и минимизация функционалов\n",
    "\n",
    "- Вместо решения линейной системы, мы можем минимизировать норму вектора остатков:\n",
    "\n",
    "$$R(x) = \\Vert A x - f \\Vert^2_2.$$\n",
    "\n",
    "- Условие оптимальности первого порядка $\\nabla R(x) = 0$ даёт\n",
    "\n",
    "$$A^* A x = A^* f,$$\n",
    "\n",
    "таким образом число обусловленности возвелось в квадрат, поэтому явная минимизация нормы остатков с помощью стандартных методов оптимизации используется редко.\n",
    "\n",
    "- Для случая симметричной положительно определённой матрицы есть более простой функционал."
   ]
  },
  {
   "cell_type": "markdown",
   "metadata": {
    "slideshow": {
     "slide_type": "slide"
    }
   },
   "source": [
    "## Функционал энергии\n",
    "\n",
    "Пусть $A = A^* > 0$, тогда следующий функционал\n",
    "\n",
    "$$\\Phi(x) = (Ax, x)  - 2(f, x)$$\n",
    "\n",
    "называется **функционалом энергии**."
   ]
  },
  {
   "cell_type": "markdown",
   "metadata": {
    "slideshow": {
     "slide_type": "slide"
    }
   },
   "source": [
    "### Свойства функционала энергии\n",
    "\n",
    "- Строго выпуклый (проверьте!)\n",
    "\n",
    "$$ \\Phi(\\alpha x + (1 - \\alpha)y) < \\alpha \\Phi(x) + (1 - \\alpha) \\Phi(y)$$\n",
    "\n",
    "- Так как он строго выпуклый, то у него есть единственный локальный минимум, который также является глобальным\n",
    "\n",
    "- Глобальный минимум $x_*$ удовлетворяет равенству\n",
    "\n",
    "$$A x_* = f.$$\n",
    "\n",
    "- В самом деле, \n",
    "\n",
    "$$\\nabla \\Phi = 2(Ax - f).$$ \n",
    "\n",
    "и условие оптимальности первого порядка $\\nabla \\Phi (x_*) = 0$ даёт\n",
    "\n",
    "$$A x_* = f.$$"
   ]
  },
  {
   "cell_type": "markdown",
   "metadata": {
    "slideshow": {
     "slide_type": "slide"
    }
   },
   "source": [
    "## Аппроксимация решения на подпространстве\n",
    "\n",
    "- Пусть дано линейное $M$-мерное подпространство с базисными векторами $\\{y_1, \\dots, y_M\\}$, мы хотим найти приближённое решение в этом базисе, то есть \n",
    "\n",
    "$$A x \\approx f, \\quad x = x_0 +  \\sum_{k=1}^M c_k y_k,$$\n",
    "\n",
    "где $c$ – вектор коэффициентов.\n",
    "\n",
    "- В случае симметричной положительно определённой матрицы нам нужно минимизировать\n",
    "\n",
    "$$(Ax, x) - 2(f, x)$$ \n",
    "\n",
    "при условии \n",
    "\n",
    "$$x = x_0 + Y c,$$\n",
    "\n",
    "где $Y=[y_1,\\dots,y_M]$ матрица размера $n \\times M$ и вектор $c$ имеет размерность $M$.\n",
    "\n",
    "- Используя представление для $x$, получаем следующую задачу минимизации на вектор $c$:\n",
    "\n",
    "$$\\widehat{\\Phi}(c) = (A Y c, Y c) + 2 (Y^*Ax_0, c) - 2(f, Y c) = (Y^* A Y c, c) - 2(Y^* (f - Ax_0), c).$$\n",
    "\n",
    "- Отметим, что это тот же самый функционал энергии, но для **Галёркинской проекции** матрицы $A$:\n",
    "\n",
    "$$Y^* A Y c = Y^* (f - Ax_0) = Y^* r_0,$$\n",
    "\n",
    "что является линейной системой размера $M \\times M$ с симметричной положительно определённой матрицей, если $Y$ имеет полный ранг.\n",
    "\n",
    "- Но как выбрать $Y$?"
   ]
  },
  {
   "cell_type": "markdown",
   "metadata": {
    "slideshow": {
     "slide_type": "slide"
    }
   },
   "source": [
    "## Выбор подпространства\n",
    "\n",
    "- В Крыловском подпространстве мы генерируем всё подпространство из единственного вектора $r_0 = f - Ax_0$:\n",
    "\n",
    "$$y_0\\equiv k_0 = r_0, \\quad y_1\\equiv k_1 = A r_0, \\quad y_2\\equiv k_2 = A^2 r_0, \\ldots, \\quad y_{M-1}\\equiv k_{M-1} = A^{M-1} r_0.$$\n",
    "\n",
    "- Это даёт **Крыловское подпространство** порядка $M$\n",
    "\n",
    "$$\\mathcal{K}_M(A, r_0) = \\mathrm{Span}(r_0, Ar_0, \\ldots, A^{M-1} r_0).$$\n",
    "\n",
    "- Оригинальная работа, в которой вводятся такие подпространства \"О численном решении уравнения, которым в технических вопросах определяются частоты малых колебаний материальных систем\",  А. Н. Крылов, 1931, доступна [тут](http://www.mathnet.ru/links/a2431bc65c0764da9a1ae95c73f741f6/im5215.pdf)"
   ]
  },
  {
   "cell_type": "markdown",
   "metadata": {
    "slideshow": {
     "slide_type": "slide"
    }
   },
   "source": [
    "## Решение $x_*$ лежит в Крыловском подпространстве $x_* \\in \\mathcal{K}_n(A, f)$\n",
    "\n",
    "- По теореме [Гамильтона-Кэли](https://ru.wikipedia.org/wiki/%D0%A2%D0%B5%D0%BE%D1%80%D0%B5%D0%BC%D0%B0_%D0%93%D0%B0%D0%BC%D0%B8%D0%BB%D1%8C%D1%82%D0%BE%D0%BD%D0%B0_%E2%80%94_%D0%9A%D1%8D%D0%BB%D0%B8): $p(A) = 0$, где $p(\\lambda) = \\det(A - \\lambda I)$\n",
    "- $p(A)f = A^nf + a_1A^{n-1}f + \\ldots + a_{n-1}Af + a_n f = 0$\n",
    "- $A^{-1}p(A)f = A^{n-1}f + a_1A^{n-2}f + \\ldots + a_{n-1}f + a_nA^{-1}f = 0$\n",
    "- $x_* = A^{-1}f = -\\frac{1}{a_n}(A^{n-1}f + a_1A^{n-2}f + \\ldots + a_{n-1}f)$\n",
    "- Таким образом, $x_* \\in \\mathcal{K}_n(A, f)$"
   ]
  },
  {
   "cell_type": "markdown",
   "metadata": {
    "slideshow": {
     "slide_type": "slide"
    }
   },
   "source": [
    "## Плохая обусловленность естественного базиса\n",
    "\n",
    "Естественный базис в Крыловском подпространстве очень **плохо обусловлен**, поскольку \n",
    "\n",
    "$$k_i = A^i r_0 \\rightarrow \\lambda_\\max^i v,$$\n",
    "\n",
    "где $v$ собственный вектор, соответствующий максимальному собственному значению $A$, то есть $k_i$ становятся всё более и более коллинеарными для больших $i$."
   ]
  },
  {
   "cell_type": "code",
   "execution_count": 50,
   "metadata": {
    "slideshow": {
     "slide_type": "slide"
    }
   },
   "outputs": [
    {
     "name": "stdout",
     "output_type": "stream",
     "text": [
      "Condition number = 660592080.6626757\n"
     ]
    }
   ],
   "source": [
    "import numpy as np\n",
    "import matplotlib.pyplot as plt\n",
    "import scipy.sparse as spsp\n",
    "%matplotlib inline\n",
    "\n",
    "n = 100\n",
    "ex = np.ones(n);\n",
    "A = spsp.spdiags(np.vstack((-ex,  2*ex, -ex)), [-1, 0, 1], n, n, 'csr'); \n",
    "f = np.ones(n)\n",
    "x0 = np.random.randn(n)\n",
    "\n",
    "subspace_order = 10\n",
    "krylov_vectors = np.zeros((n, subspace_order))\n",
    "krylov_vectors[:, 0] = f - A.dot(x0)\n",
    "for i in range(1, subspace_order):\n",
    "    krylov_vectors[:, i] = A.dot(krylov_vectors[:, i-1])\n",
    "    \n",
    "s = np.linalg.svd(krylov_vectors, compute_uv=False)\n",
    "print(\"Condition number = {}\".format(s.max() / s.min()))"
   ]
  },
  {
   "cell_type": "markdown",
   "metadata": {
    "slideshow": {
     "slide_type": "slide"
    }
   },
   "source": [
    "### Решение: получить ортогональный базис в Крыловском подпространстве"
   ]
  },
  {
   "cell_type": "markdown",
   "metadata": {
    "slideshow": {
     "slide_type": "slide"
    }
   },
   "source": [
    "## Хороший базис в Крыловском подпространстве\n",
    "\n",
    "- Для повышения устойчивости мы сначала ортогонализуем векторы из Крыловского подпространства, используя процесс Грама-Шмидта (или QR разложение)\n",
    "\n",
    "$$K_j = \\begin{bmatrix} r_0 & Ar_0 & A^2 r_0 & \\ldots & A^{j-1} r_0\\end{bmatrix} = Q_j R_j. $$\n",
    "\n",
    "- После чего решение приближается как $$x \\approx x_0 + Q_j c.$$ \n"
   ]
  },
  {
   "cell_type": "markdown",
   "metadata": {
    "slideshow": {
     "slide_type": "slide"
    }
   },
   "source": [
    "## Короткий путь к соотношению Арнольди\n",
    "\n",
    "**Утверждение.** Матрица Крыловских векторов $K_j$ удовлетворяет важному рекуррентному соотношению (которое называется **соотношение Арнольди**)\n",
    "\n",
    "$$A Q_j = Q_j H_j + h_{j, j-1} q_j e^{\\top}_{j-1},$$\n",
    "\n",
    "где $H_j$ – верхне-гессенбергова матрица, а  $Q_{j+1} = [q_0,\\dots,q_j]$ имеет ортонормированные столбцы, которые образуют пространство $K_{j+1}$.\n",
    "\n",
    "- Давайте докажем его (для простоты рассмотрим $j = 3$):\n",
    "\n",
    "$$A \\begin{bmatrix} k_0 & k_1 & k_2 \\end{bmatrix} = \\begin{bmatrix} k_1 & k_2 & k_3 \\end{bmatrix} = \\begin{bmatrix} k_0 & k_1 & k_2 \\end{bmatrix} \\begin{bmatrix} 0 & 0 & \\alpha_0 \\\\ 1 & 0  & \\alpha_1 \\\\ 0 & 1  & \\alpha_2 \\\\ \\end{bmatrix} + \\begin{bmatrix} 0 & 0 & k_3  - \\alpha_0 k_0 - \\alpha_1 k_1 - \\alpha_2 k_2 \\end{bmatrix}, $$\n",
    " \n",
    "где $\\alpha_s$ будут выбраны позднее. \n",
    "\n",
    "- Обозначим $\\widehat{k}_3 = k_3  - \\alpha_0 k_0 - \\alpha_1 k_1 - \\alpha_2 k_2$.\n",
    " \n",
    "- В матричной форме,\n",
    " \n",
    " $$A K_3 = K_3 Z + \\widehat k_3 e^{\\top}_2,$$\n",
    " \n",
    " где $e_2$ – последний столбец единичной матрицы.\n",
    " \n",
    "- Пусть QR разложение матрицы $K_3$ имеет вид\n",
    "\n",
    "$$K_3 = Q_3 R_3.$$\n",
    "\n",
    "Тогда\n",
    " \n",
    " $$A Q_3 R_3 = Q_3 R_3 Z + \\widehat{k}_3 e^{\\top}_2,$$\n",
    " \n",
    " $$ A Q_3 = Q_3 R_3 Z R_3^{-1} + \\widehat{k}_3 e^{\\top}_2 R_3^{-1}.$$\n",
    "\n",
    "\n",
    "- Заметим, что\n",
    "\n",
    "$$e^{\\top}_2 R_3^{-1} = \\begin{bmatrix} 0 & 0 & 1 \\end{bmatrix} \\begin{bmatrix} * & * & * \\\\ 0 & * & * \\\\ 0 & 0 & * \\end{bmatrix}  = \\gamma e^{\\top}_2,$$\n",
    " \n",
    " и\n",
    " \n",
    " $$R_3 Z R_3^{-1} = \\begin{bmatrix} * & * & * \\\\* & * & * \\\\  0 & * & * \\\\ \\end{bmatrix},$$      \n",
    "\n",
    "в общем случае она будет искомой матрицей $H$ и будет иметь верхне-гессенбергову форму, то есть матрица имеет вид\n",
    "\n",
    "$$H_{ij} = 0, \\quad \\mbox{if } i > j + 1.$$"
   ]
  },
  {
   "cell_type": "markdown",
   "metadata": {
    "slideshow": {
     "slide_type": "slide"
    }
   },
   "source": [
    "## (Почти) соотношение Арнольди\n",
    "\n",
    "- Пусть $Q_j$ ортогональный базис в Крыловском подпространстве, тогда мы получили почти соотношение Арнольди\n",
    "\n",
    "$$A Q_j = Q_j H_j +  \\gamma\\widehat{k}_j e^{\\top}_{j-1},$$\n",
    "\n",
    "где $H_j$ верхне-гессенбергова форма и \n",
    "\n",
    "$$\\widehat{k}_j = k_j - \\sum_{s=0}^{j-1} \\alpha_s k_s.$$\n",
    "\n",
    "- Мы выберем $\\alpha_s$ таким образом, чтобы\n",
    "\n",
    "$$Q^*_j \\widehat{k}_j = 0.$$\n",
    "\n",
    "- Тогда $\\widehat{k}_j = h_{j, j-1} q_j,$ где $q_j$ последний столбец в матрице $Q_{j+1}$."
   ]
  },
  {
   "cell_type": "markdown",
   "metadata": {
    "slideshow": {
     "slide_type": "slide"
    }
   },
   "source": [
    "## Соотношение Арнольди: итоговое выражение\n",
    "\n",
    "Получили рекуррентное соотношение\n",
    "\n",
    "$$A Q_j = Q_j H_j + h_{j, j-1} q_j e^{\\top}_{j-1}.$$\n",
    "\n",
    "- Это ключевая формула для эффективной генерации векторов из Крыловских подпространств.\n",
    "\n",
    "- Для несимметричного случая это выражение совпадает с модифицированным методом Грама-Шмидта.\n",
    "\n",
    "- Для симметричного случая у нас будет более простая форма (процесс Ланцоша)."
   ]
  },
  {
   "cell_type": "markdown",
   "metadata": {
    "slideshow": {
     "slide_type": "slide"
    }
   },
   "source": [
    "## Процесс Ланцоша\n",
    "\n",
    "- Если $A = A^*$, тогда\n",
    "\n",
    "$$Q^*_j A Q_j = H_j, $$\n",
    "\n",
    "таким образом $H_j$ эрмитова, и следовательно трёхдиагональна, $H_j = T_j$.\n",
    "\n",
    "- Это даёт нам короткое рекуррентное выражение для генерации векторов Арнольди $q_j$ без **полной** ортогонализации."
   ]
  },
  {
   "cell_type": "markdown",
   "metadata": {
    "slideshow": {
     "slide_type": "slide"
    }
   },
   "source": [
    "## Процесс Ланцоша (2)\n",
    "\n",
    "$$ A Q_j = Q_j T_j + t_{j, j-1} q_j e^{\\top}_{j-1}.$$\n",
    "\n",
    "\n",
    "- Для получения вектора $q_j$ нам нужно вычислить только последний столбец\n",
    "\n",
    "$$t_{j, j-1} q_j = (A Q_j - Q_j T_j) e_{j-1} = A q_{j-1} - t_{j-1, j-1} q_{j-1} - t_{j-2, j-1} q_{j-2}. $$\n",
    "\n",
    "- Коэффициенты $\\alpha_j = t_{j-1, j-1}$ и $\\beta_j = t_{j-2, j-1}$ могут быть восстановлены из условий ортогональности\n",
    "\n",
    "$$(q_j, q_{j-1}) = 0, \\quad (q_j, q_{j-2}) = 0$$\n",
    "\n",
    "- **Все остальные ограничения на ортогональность будут выполнены автоматически!!**\n",
    "\n",
    "- И нам нужно хранить только два вектора, чтобы получить новый вектор."
   ]
  },
  {
   "cell_type": "markdown",
   "metadata": {
    "slideshow": {
     "slide_type": "slide"
    }
   },
   "source": [
    "## От явного процесса Ланцоша к методу сопряжённых градиентов\n",
    "\n",
    "- Теперь мы можем получить из рекуррентных формул метода Ланцоша знаменитый **метод сопряжённых градиентов**.\n",
    "\n",
    "- Для матрицы $A = A^* > 0$\n",
    "\n",
    "$$A Q_j = Q_j T_j + T_{j, j-1} q_j.$$\n",
    "\n",
    "- Вспомним, что при мниимизации функционала энергии в базисе $Y$ мы получили линейную систему \n",
    "\n",
    "$$Y^* A Y c = Y^* f.$$\n",
    "\n",
    "- Здесь $Y = Q_j$, поэтому приближённое решение $Ax \\approx f$ при условии $x_j = x_0 + Q_j c_j$ может быть получено из решения линейной системы меньшей размерности\n",
    "\n",
    "$$Q^*_j A Q_j c_j = T_j c_j = Q^*_j r_0 .$$\n",
    "\n",
    "- Так как $r_0$ образует Крыловское подпрострасво первого порядка, то\n",
    "\n",
    "$$Q^*_j r_0  = \\Vert r_0 \\Vert_2^2 e_0 = \\gamma e_0.$$\n",
    "\n",
    "- У нас есть трёхдиагональная система уравнений на $c$:\n",
    "\n",
    "$$T_j c_j = \\gamma e_0$$\n",
    "\n",
    "и $x_j = Q_j c_j$.\n",
    "\n",
    "- Мы можем остановится на этом месте, но вместо решения трёхдиагональной системы мы можем получить короткие рекуррентные формулы  для каждой итерации."
   ]
  },
  {
   "cell_type": "markdown",
   "metadata": {
    "slideshow": {
     "slide_type": "slide"
    }
   },
   "source": [
    "- Так как $A$ положительно определена, $T_j$ также положительно определена и имеет LU разложение\n",
    "\n",
    "- $T_j = L_j U_j$, где $L_j$ бидиагональная матрица с единицами на диагонали, $U_j$ верхне-бидиагональная матрица.\n",
    "\n",
    "- Нам нужно определить одну поддиагональ в $L$ (с элементами $c_1, \\ldots, c_{j-1}$), главную диагональ $U_j$ (с элементами $d_0, \\ldots, d_{j-1}$ и наддиагональ в $U_j$ (с элементами $b_1, \\ldots, b_{j-1}$).\n",
    "\n",
    "- Для них выполнены удобные рекуррентные соотношения:\n",
    "\n",
    "$$c_i = b_i/d_{i-1}, \\quad d_i = \\begin{cases} a_1, & \\mbox{если } i = 0, \\\\\n",
    "a_i - c_i b_i, & \\mbox{если } i > 0. \\end{cases}$$\n",
    "\n",
    "- Для решения выполнено\n",
    "\n",
    "$$x_j = Q_j T^{-1}_j \\gamma e_0  = \\gamma Q_j (L_j U_j)^{-1} e_0  = \\gamma Q_j U^{-1}_j L^{-1}_j e_0.$$\n",
    "\n",
    "- Введём две новых величины:  \n",
    "\n",
    "$$P_j = Q_j U^{-1}_j, \\quad z_j = \\gamma L^{-1}_j e_0.$$\n",
    "\n",
    "- Теперь у нас есть следующее выражение для $x_j$:\n",
    "\n",
    "$$ x_j = P_j z_j$$\n",
    "\n",
    "- Из-за рекуррентных соотношений у нас есть\n",
    "\n",
    "$$P_j = \\begin{bmatrix} P_{j-1} & p_j \\end{bmatrix}, $$\n",
    "\n",
    "и \n",
    "\n",
    "$$z_j = \\begin{bmatrix} z_{j-1} \\\\ \\xi_{j} \\end{bmatrix}.$$\n",
    "\n",
    "- Для $p_j$ и $\\xi_j$ у нас есть короткие рекуррентные соотношения (из-за бидиагональной структуры)\n",
    "\n",
    "$$p_j = \\frac{1}{d_j}\\left(q_j - b_j p_{j-1} \\right), \\quad \\xi_j = -c_j \\xi_{j-1}.$$\n",
    "\n",
    "- Таким образом, мы пришли к коротким рекуррентным соотношениям для $x_j$:\n",
    "\n",
    "$$x_j = P_j z_j = P_{j-1} z_{j-1} + \\xi_j p_j = x_{j-1} + \\xi_j p_j.$$\n",
    "\n",
    "и $q_j$ ищутся из соотношения Ланцоша (см слайды ранее).\n",
    "\n",
    "- Этот метод для решения линейных систем называется **прямой метод Ланцоша**. Он тесно связан с методом сопряжённых градиентов."
   ]
  },
  {
   "cell_type": "markdown",
   "metadata": {
    "slideshow": {
     "slide_type": "slide"
    }
   },
   "source": [
    "## Прямой метод Ланцоша\n",
    "\n",
    "- У нас есть прямой метод Ланцоша, в котором мы храним\n",
    "\n",
    "$$p_{j-1}, q_j, x_{j-1}$$ \n",
    "\n",
    "для получения новой оценки $x_j$.\n",
    "\n",
    "- Основная проблема с $q_j$: у нас есть трёхчленное рекуррентное соотношение, но в неточной арифметике ортогональность может теряться, что ведёт к ошибкам при вычислении.\n",
    "\n",
    "- Далее короткая демонстрация такого поведения"
   ]
  },
  {
   "cell_type": "code",
   "execution_count": 54,
   "metadata": {
    "slideshow": {
     "slide_type": "slide"
    }
   },
   "outputs": [
    {
     "name": "stdout",
     "output_type": "stream",
     "text": [
      "1.6432256263275\n"
     ]
    }
   ],
   "source": [
    "import numpy as np\n",
    "import matplotlib.pyplot as plt\n",
    "%matplotlib inline\n",
    "import scipy as sp\n",
    "import scipy.sparse as spsp\n",
    "from scipy.sparse import csc_matrix\n",
    "\n",
    "n = 128\n",
    "ex = np.ones(n);\n",
    "A = spsp.spdiags(np.vstack((ex,  -2*ex, ex)), [-1, 0, 1], n, n, 'csr'); \n",
    "rhs = np.ones(n)\n",
    "\n",
    "nit = 64\n",
    "q1 = rhs/np.linalg.norm(rhs)\n",
    "q2 = A.dot(q1)\n",
    "q2 = q2 - np.dot(q2, q1)*q1\n",
    "q2 = q2/np.linalg.norm(q2)\n",
    "qall = [q1, q2]\n",
    "for i in range(nit):\n",
    "    qnew = A.dot(qall[-1])\n",
    "    qnew = qnew - np.dot(qnew, qall[-1])*qall[-1]\n",
    "    qnew = qnew/np.linalg.norm(qnew)\n",
    "    qnew = qnew - np.dot(qnew, qall[-2])*qall[-2]\n",
    "    qnew = qnew/np.linalg.norm(qnew)\n",
    "    qall.append(qnew)\n",
    "qall_mat = np.vstack(qall).T\n",
    "print(np.linalg.norm(qall_mat.T.dot(qall_mat) - np.eye(qall_mat.shape[1])))"
   ]
  },
  {
   "cell_type": "markdown",
   "metadata": {
    "slideshow": {
     "slide_type": "slide"
    }
   },
   "source": [
    "## Метод сопряжённых градиентов (CG)\n",
    "\n",
    "- Вместо использования вектора $q_j$ (последнего вектора из модифицирвоанного метода Грама-Шмидта), удобнее работать с вектором остатков\n",
    "\n",
    "$$r_j = f - A x_j.$$\n",
    "\n",
    "- Итоговые рекуррентные формулы имеют вид\n",
    "\n",
    "$$x_j = x_{j-1} + \\alpha_{j-1} p_{j-1}$$\n",
    "\n",
    "$$r_j = r_{j-1} - \\alpha_{j-1}  A p_{j-1}$$\n",
    "\n",
    "$$p_j = r_j + \\beta_j p_{j-1}.$$\n",
    "\n",
    "- Отсюда следует название сопряжённых градиентов: к градиентам $r_j$ мы прибавляем **сопряжённые направления** $p_j$.\n",
    "\n",
    "- Выполнена ортогональность остатков (проверьте!):\n",
    "\n",
    "$$(r_i, r_j) = 0, \\quad i \\ne j$$\n",
    "\n",
    "и **A-ортогональность** сопряжённых направлений:\n",
    "\n",
    "$$ (A p_i, p_j) = 0,$$\n",
    "\n",
    "которая может быть проверена по определению (проверьте!).\n",
    "\n",
    "- Уравнения на $\\alpha_j$ и $\\beta_j$ могут быть теперь определены из этих двух свойств."
   ]
  },
  {
   "cell_type": "markdown",
   "metadata": {
    "slideshow": {
     "slide_type": "slide"
    }
   },
   "source": [
    "## Итоговые формулы для метода сопряжённых градиентов\n",
    "\n",
    "- Мы знаем, что  $(r_{j}, r_{j-1}) = 0 = (r_{j-1} - \\alpha_{j-1} A r_{j-1}, r_{j-1})$, \n",
    "\n",
    "тогда\n",
    "\n",
    "$$\\alpha_{j-1} = \\frac{(r_{j-1}, r_{j-1})}{(A r_{j-1}, r_{j-1})}.$$\n",
    "\n",
    "- Таким же способом, получим\n",
    "\n",
    "$$\\beta_{j-1} = \\frac{(r_j, r_j)}{(r_{j-1}, r_{j-1})}.$$\n",
    "\n",
    "- Вспомним, что\n",
    "\n",
    "$x_j = x_{j-1} + \\alpha_{j-1} p_{j-1}$\n",
    "\n",
    "$r_j = r_{j-1} - \\alpha_{j-1}  A p_{j-1}$\n",
    "\n",
    "$p_j = r_j + \\beta_j p_{j-1}$.\n",
    "\n",
    "- Требуется только одно умножение матрицы на вектор.\n"
   ]
  },
  {
   "cell_type": "markdown",
   "metadata": {
    "slideshow": {
     "slide_type": "slide"
    }
   },
   "source": [
    "## Как мы получили метод сопряжённых градиентов: обзор\n",
    "\n",
    "- Хотим найти вектор $x_*$ в Крыловском подпространстве\n",
    "- Но естественный базис плохо обусловлен, поэтому нам нужна ортогонализация\n",
    "- Вывести рекуррентные соотношения для последовательной ортогонализации векторов из базиса в Крыловско подпространстве\n",
    "    - процесс Арнольди для несимметричных матриц\n",
    "    - процесс Ланцоша для симметричных матриц\n",
    "- Правильное переписывание этих формул даёт короткие рекуррентные соотношения"
   ]
  },
  {
   "cell_type": "markdown",
   "metadata": {
    "slideshow": {
     "slide_type": "slide"
    }
   },
   "source": [
    "## Немного истории\n",
    "\n",
    "- Более подробно история изложена [тут](https://www.siam.org/meetings/la09/talks/oleary.pdf)\n",
    "\n",
    "- Когда Хестенс работал над методом в 1936, Гарвадский профессор сказал ему, что это слишком простой метод для публикации\n",
    "- Метод сопряжённых градиентов не работает на логарифмической линейке\n",
    "<img src=\"slide_rule.jpg\">\n",
    "- CG имеет мало достоинств по сравнению с методом Гаусса при вычислении на калькуляторе.\n",
    "- CG плохо приспособлен для \"human computers\" – слишком много обменов данными.\n",
    "<img src=\"human_computers.jpg\">"
   ]
  },
  {
   "cell_type": "markdown",
   "metadata": {
    "slideshow": {
     "slide_type": "slide"
    }
   },
   "source": [
    "## Свойства метода сопряжённых градиентов\n",
    "\n",
    "- Нужно хранить 3 вектора.\n",
    "\n",
    "- Поскольку он генерирует $A$-ортогональную последовательность $p_1, \\ldots, p_N$, после $n$ шагов он должен остановиться\n",
    "\n",
    "- На практике это свойство не выполняется в неточной арифметике, поэтому после того, как в 1952 году Хестенс и Штифель изобрели этот метод, он был назван **неустойчивым**.\n",
    "\n",
    "- На самом деле это замечательный итерационный метод!"
   ]
  },
  {
   "cell_type": "markdown",
   "metadata": {
    "slideshow": {
     "slide_type": "slide"
    }
   },
   "source": [
    "## $A$-оптимальность\n",
    "\n",
    "\n",
    "- Функционал энергии может быть записан в виде\n",
    "\n",
    "$$(Ax, x) - 2(f, x) = (A (x - x_*), (x - x_*)) - (Ax _*, x_*),$$\n",
    "\n",
    "где $A x_* = f$. \n",
    "\n",
    "- С точностью до постоянного множителя\n",
    "\n",
    "$$ (A(x - x_*), (x -x_*)) = \\Vert x - x_* \\Vert^2_A,$$\n",
    "\n",
    "что является **A-нормой** вектора ошибки.\n"
   ]
  },
  {
   "cell_type": "markdown",
   "metadata": {
    "slideshow": {
     "slide_type": "slide"
    }
   },
   "source": [
    "## Сходимость\n",
    "\n",
    "- CG вычисляет $x_k$, который минимизирует функционал энергии на Крыловском подпространстве, то есть $x_k = p(A)f$, где $p$ – полином степени $k+1$, поэтому\n",
    "\n",
    "$$\\Vert x_k - x_* \\Vert_A  =  \\inf\\limits_{p} \\Vert \\left(p(A) - A^{-1}\\right) f \\Vert_A. $$\n",
    "\n",
    "- Используя спектральное разложение матрицы $A$ получим\n",
    "\n",
    "$$A = U \\Lambda U^*, \\quad  g = U^* f,$$ \n",
    "\n",
    "и\n",
    "\n",
    "$$\\Vert x - x_* \\Vert^2_A = \\displaystyle{\\inf_p} \\Vert \\left(p(\\Lambda) - \\Lambda^{-1}\\right) g \\Vert_\\Lambda^2 = \\displaystyle{\\inf_p}\n",
    "\\displaystyle{\\sum_{i=1}^n} \\frac{(\\lambda_i p(\\lambda_i) - 1)^2 g^2_i}{\\lambda_i} = \\displaystyle{\\inf_{q, q(0) = 1}} \\displaystyle{\\sum_{i=1}^n} \\frac{q(\\lambda_i)^2 g^2_i}{\\lambda_i}\n",
    "$$\n",
    "\n",
    "- Выбор оптимального $q$ зависит от распределения собственных значений.\n",
    "\n"
   ]
  },
  {
   "cell_type": "markdown",
   "metadata": {
    "slideshow": {
     "slide_type": "slide"
    }
   },
   "source": [
    "## Абсолютная и относительная ошибка\n",
    "\n",
    "- Имеет место следующее выражение\n",
    "\n",
    "$$\\Vert x - x_* \\Vert^2_A \\leq \\sum_{i=1}^n \\frac{g^2_i}{\\lambda_i} \\inf_{q, q(0)=1} \\max_{j} q({\\lambda_j})^2$$\n",
    "\n",
    "- Первое слагаемое\n",
    "\n",
    "$$\\sum_{i=1}^n \\frac{g^2_i}{\\lambda_i} = (A^{-1} f, f) = \\Vert x_* \\Vert^2_A.$$\n",
    "\n",
    "- И мы получили оценку на относительную ошибку\n",
    "\n",
    "$$\\frac{\\Vert x - x_* \\Vert_A }{\\Vert x_* \\Vert_A} \\leq \\inf_{q, q(0)=1} \\max_{j} |q({\\lambda_j})|.$$\n",
    "\n",
    "- Таким образом, если матрица имеет только 2 различных собственных значения, тогда существует полином степени 2 такой что $q({\\lambda_1}) = q({\\lambda_2}) = 0$, и в этом случае CG сходится за 2 итерации.\n",
    "\n",
    "<font color='red'>\n",
    "\n",
    "- Если собственные значения кластеризованы и имеется $l$ выбросов, тогда после первых $\\mathcal{O}(l)$ итераций CG сойдётся как будто этих выбросов не было (следовательно, эффективное число обусловленности меньше).\n",
    "    \n",
    "- Интуитивное объяснение этого факта в том, что после $\\mathcal{O}(l)$ итераций полином имеет степень больше чем $l$ и таким образом зануляет $l$ выбросов.\n",
    "</font>\n",
    "\n",
    "\n",
    "- Давайте найдём другую полезную оценку сходимости.\n",
    "- Так как\n",
    "\n",
    "$$\n",
    "\\inf_{q, q(0)=1} \\max_{j} |q({\\lambda_j})| \\leq \\inf_{q, q(0)=1} \\max_{\\lambda\\in[\\lambda_\\min,\\lambda_\\max]} |q({\\lambda})|,\n",
    "$$\n",
    "\n",
    "то используя результат, используемый в методе Чебышёва, получим такую же скорость сходимости:\n",
    "\n",
    "$$\\frac{\\Vert x_k - x_* \\Vert_A }{\\Vert x_* \\Vert_A} \\leq \\gamma \\left( \\frac{\\sqrt{\\mathrm{cond}(A)}-1}{\\sqrt{\\mathrm{cond}(A)}+1}\\right)^k.$$"
   ]
  },
  {
   "cell_type": "markdown",
   "metadata": {
    "slideshow": {
     "slide_type": "slide"
    }
   },
   "source": [
    "## Остановка за конечное число шагов & кластеризация спектра\n",
    "\n",
    "1. Если $A$ имеет $m$ различных собственных значений, CG сойдётся за $m$ итераций (покажите!).\n",
    "2. Если $A$ имеет $m$ \"кластеров\" собственных значений, CG будет сходится по очереди учитывая каждый кластер.\n",
    "\n",
    "#### В результате: сходимость лучше, чем у метода Чебышёва, но чуть более высокая стоимость одной итерации"
   ]
  },
  {
   "cell_type": "markdown",
   "metadata": {
    "slideshow": {
     "slide_type": "slide"
    }
   },
   "source": [
    "## Резюме про CG\n",
    "\n",
    "CG – это метод, которым нужно решать линейные системы с \n",
    "\n",
    "симметричными положительно определёнными матрицами:\n",
    "\n",
    "1. Требует $\\mathcal{O}(n)$ памяти\n",
    "2. Корень из числа обусловленности в оценке сходимости\n",
    "3. Автоматическое использование выбросов и кластеров собственных значений\n",
    "4. Свойство $A$-оптимальности"
   ]
  },
  {
   "cell_type": "markdown",
   "metadata": {
    "slideshow": {
     "slide_type": "slide"
    }
   },
   "source": [
    "## Нелинейный метод сопряжённых градиентов\n",
    "\n",
    "- CG минимизирует функционал энергии, который является квадратичным по $x$\n",
    "- Формулы CG были отправной точкой для разработки методов минимизации произвольной выпуклой функции\n",
    "- Наиболее популярные расширения метода сопряжённых градиентов (также известный как нелинейный метод сопряжённых градиентов): \n",
    "    - [метод Hestenes'a-Stiefel'a](https://www.fing.edu.uy/inco/cursos/numerico/aln/hes_stief1952.pdf)\n",
    "    - [метод Polak'a-Ribiere'a](http://www.numdam.org/article/M2AN_1969__3_1_35_0.pdf) - оригинальная работа на французском :)\n",
    "    - [метод Fletcher'a–Reeves'a](https://watermark.silverchair.com/070149.pdf?token=AQECAHi208BE49Ooan9kkhW_Ercy7Dm3ZL_9Cf3qfKAc485ysgAAAkMwggI_BgkqhkiG9w0BBwagggIwMIICLAIBADCCAiUGCSqGSIb3DQEHATAeBglghkgBZQMEAS4wEQQMiWM0crDA8bZ0Fj5HAgEQgIIB9tIM8xbxhkhniJQifurRLHIaOcnos9gvgBj8Lkc34eBUtUg4oYzjusGP_FZiHfpBoRnM409FFCs-Y5xxomumnGRQ8UIZJe7CPSmaCcSklAdwHN3Ja-fHfALctP68U3mGGeR11P8vlESoS7HZhZEmVhFb5m7jPk1ENZKLlq9CnVTz2n2bI3HPYCfDIo8ywd8RWo5gw6EwYnZ46l1ExES8AHMqlklpgzdupLhL6HxTzBEHd_qY4B2FjK4m4MpvdaX5imEnOD6YCwZMNC_qLzUdPxumcXl4oTRDyJp1kg_6PcGi98hE10InOp4aHJeIjl5FPJnuEFEBcv28asOq4vngp6N5d-4y1fpeoxcAe4d857TeLtQnGD6LlCAL_3Mh0lQ8iYLLfjw4b_V2jHEuSxKH3BalLPMS5KF2nGqqrzfbDs8x9jW-OlkeL_x68Zidv0rTHqTd0ww3kvSINDjgw6owPMLK9KxEWP5T-4dnu_kn-NXR1W0s52kUHFD1U9AWs5Zzh4RTVOXsdjGQciWzOO-XieLn8Aju-0P8mVEGjUDOjLDZtuPYM-Ep_Z9lp8TNDCi2lB5IQFbKVpBFaAItDDyVUvKNPfBovmKlnPRFLZYjLbgocnU3tcy0YB8RZegC56Gxn7g_WkphptCVPm7IDeCE9l5gcFafuY0)"
   ]
  },
  {
   "cell_type": "markdown",
   "metadata": {
    "slideshow": {
     "slide_type": "slide"
    }
   },
   "source": [
    "## Несимметричные системы и обобщённый метод минимальных невязок (GMRES) [(Y. Saad, M. Schultz, 1986)](https://epubs.siam.org/doi/10.1137/0907058)\n",
    "\n",
    "- До этого мы обсуждали симметричные положительно определённые системы. Что будет если $A$ несимметричная?\n",
    "\n",
    "- Мы по-прежнему можем ортогонализовать Крыловское подпространство используя процесс Арнольди и получить\n",
    "\n",
    "$$A Q_j = Q_j H_j + h_{j,j-1}q_j e^{\\top}_{j-1}.$$\n",
    "\n",
    "- Перепишем последнее неравенство в виде\n",
    "\n",
    "$$ A Q_j = Q_j H_j + h_{j,j-1}q_j e^{\\top}_{j-1} = Q_{j+1} \\widetilde H_j, \\quad \\widetilde H_j = \n",
    "\\begin{bmatrix} h_{0,0} & h_{0,1} & \\dots & h_{0,j-2} & h_{0,j-1} \\\\ h_{1,0} & h_{1,1} & \\dots & h_{1,j-2} & h_{1,j-1} \\\\ 0& h_{2,2} &  \\dots & h_{2,j-2} & h_{2,j-1} \\\\\n",
    "0& 0 & \\ddots & \\vdots & \\vdots  \\\\\n",
    "0& 0 &  & h_{j,j-1} & h_{j-1,j-1} \\\\ 0& 0 & \\dots & 0 & h_{j,j-1}\\end{bmatrix}$$\n",
    "\n",
    "- Тогда если нам нужно минимизировать норму вектора остатков на Крыловском подпространстве, то\n",
    "\n",
    "$$x_j = x_0 + Q_j c_j $$\n",
    "\n",
    "и $x_j$ должен быть выбран следующим образом \n",
    "\n",
    "$$ \\Vert A x_j - f \\Vert_2 =  \\Vert A Q_j c_j - r_0 \\Vert_2 \\rightarrow \\min_{c_j}.$$\n",
    "\n",
    "- Используя процесс Арнольди, получим, что\n",
    "\n",
    "$$ \\Vert Q_{j+1} \\widetilde H_j c_j -  r_0 \\Vert_2 \\rightarrow \\min_{c_j}.$$\n",
    "\n",
    "- Используя унитарную инвариантность\n",
    "\n",
    "$$ \\Vert \\widetilde H_j c_j - \\gamma e_0 \\Vert_2 \\rightarrow \\min_{c_j},$$\n",
    "\n",
    "где мы используем факт, что $Q^*_{j+1} r_0 = \\gamma e_0.$\n",
    "\n",
    "- Получили линейную задачу наименьших квадратов с $(j+1)$ уравнением и $j$ неизвестными.\n",
    "\n",
    "- Матрица также верхне-гессенбергова, поэтому её QR разложение можно вычислить очень быстро.\n",
    "\n",
    "- Это позволяет вычислить $c_j$. Метод называется **GMRES** (обобщённых минимальных невязок)"
   ]
  },
  {
   "cell_type": "markdown",
   "metadata": {
    "slideshow": {
     "slide_type": "slide"
    }
   },
   "source": [
    "## Главное про GMRES\n",
    "\n",
    "- Минимизирует норму остатков напрямую\n",
    "- Без использования нормальных уравнений\n",
    "- Требуемая память растёт с числом итераций как $\\mathcal{O}(j^2)$, поэтому обычно используются **рестарты** (запуск GMRES с нового начального приближения)."
   ]
  },
  {
   "cell_type": "code",
   "execution_count": 8,
   "metadata": {
    "slideshow": {
     "slide_type": "slide"
    }
   },
   "outputs": [
    {
     "data": {
      "text/plain": [
       "<Figure size 720x360 with 0 Axes>"
      ]
     },
     "metadata": {},
     "output_type": "display_data"
    },
    {
     "data": {
      "image/png": "[encoded data removed]",
      "text/plain": [
       "<Figure size 720x360 with 2 Axes>"
      ]
     },
     "metadata": {
      "needs_background": "light"
     },
     "output_type": "display_data"
    }
   ],
   "source": [
    "import scipy.sparse.linalg as la\n",
    "from scipy.sparse import csc_matrix, csr_matrix\n",
    "import numpy as np\n",
    "import matplotlib.pyplot as plt\n",
    "import time\n",
    "\n",
    "%matplotlib inline\n",
    "n = 150\n",
    "ex = np.ones(n);\n",
    "lp1 = sp.sparse.spdiags(np.vstack((ex,  -2*ex, ex)), [-1, 0, 1], n, n, 'csr'); \n",
    "e = sp.sparse.eye(n)\n",
    "A = sp.sparse.kron(lp1, e) + sp.sparse.kron(e, lp1)\n",
    "A = csr_matrix(A)\n",
    "rhs = np.ones(n * n)\n",
    "\n",
    "plt.figure(figsize=(10, 5))\n",
    "f, (ax1, ax2) = plt.subplots(1, 2, figsize=(10, 5))\n",
    "for restart in [5, 40, 200]:\n",
    "    hist = []\n",
    "    def callback(rk):\n",
    "        hist.append(np.linalg.norm(rk) / np.linalg.norm(rhs))\n",
    "    st = time.time()\n",
    "    sol = la.gmres(A, rhs, x0=np.zeros(n*n), maxiter=200, restart=restart, callback=callback, tol=1e-16)\n",
    "    current_time = time.time() - st\n",
    "    ax1.semilogy(np.array(hist), label='rst={}'.format(restart))\n",
    "    ax2.semilogy([current_time * i / len(hist) for i in range(len(hist))], np.array(hist), label='rst={}'.format(restart))\n",
    "    \n",
    "\n",
    "ax1.legend(loc='best')\n",
    "ax2.legend(loc='best')\n",
    "ax1.set_xlabel(\"Number of outer iterations\", fontsize=20)\n",
    "ax2.set_xlabel(\"Time, sec\", fontsize=20)\n",
    "ax1.set_ylabel(r\"$\\frac{||r_k||_2}{||rhs||_2}$\", fontsize=20)\n",
    "ax2.set_ylabel(r\"$\\frac{||r_k||_2}{||rhs||_2}$\", fontsize=20)\n",
    "plt.sca(ax1)\n",
    "plt.yticks(fontsize=20)\n",
    "plt.sca(ax2)\n",
    "plt.yticks(fontsize=20)\n",
    "f.tight_layout()"
   ]
  },
  {
   "cell_type": "code",
   "execution_count": 49,
   "metadata": {
    "slideshow": {
     "slide_type": "slide"
    }
   },
   "outputs": [
    {
     "data": {
      "image/png": "[encoded data removed]",
      "text/plain": [
       "<Figure size 432x288 with 1 Axes>"
      ]
     },
     "metadata": {
      "needs_background": "light"
     },
     "output_type": "display_data"
    }
   ],
   "source": [
    "import scipy.sparse.linalg as la\n",
    "import numpy as np\n",
    "import matplotlib.pyplot as plt\n",
    "%matplotlib inline\n",
    "\n",
    "# Example from http://www.caam.rice.edu/~embree/39961.pdf\n",
    "\n",
    "A = np.array([[1, 1, 1],\n",
    "              [0, 1, 3],\n",
    "              [0, 0, 1]]\n",
    "            )\n",
    "rhs = np.array([2, -4, 1])\n",
    "x0 = np.zeros(3)\n",
    "\n",
    "for restart in [1, 2, 3]:\n",
    "    hist = []\n",
    "    def callback(rk):\n",
    "        hist.append(np.linalg.norm(rk)/np.linalg.norm(rhs))\n",
    "    _ = la.gmres(A, rhs, x0=x0, maxiter=20, restart=restart, callback=callback)\n",
    "    plt.semilogy(np.array(hist), label='rst={}'.format(restart))\n",
    "plt.legend(fontsize=18)\n",
    "plt.xlabel(\"Number of outer iterations\", fontsize=20)\n",
    "plt.ylabel(r\"$\\frac{||r_k||_2}{||rhs||_2}$\", fontsize=28)\n",
    "plt.xticks(fontsize=20)\n",
    "plt.yticks(fontsize=20)\n",
    "plt.tight_layout()"
   ]
  },
  {
   "cell_type": "markdown",
   "metadata": {
    "slideshow": {
     "slide_type": "slide"
    }
   },
   "source": [
    "## Анонс следующей лекции (25 ноября)\n",
    "\n",
    "- Продолжение знакомства с итерационными методами\n",
    "    - BiCG\n",
    "    - Minres\n",
    "    - и другие\n",
    "- Предобусловливатели\n",
    "- Итерационные методы для частичной задачи на собственные значения \n",
    "    - PINVIT\n",
    "    - LOPCG\n",
    "    - LOBPCG\n",
    "    - Jacobi-Davidson"
   ]
  },
  {
   "cell_type": "code",
   "execution_count": null,
   "metadata": {
    "slideshow": {
     "slide_type": "skip"
    }
   },
   "outputs": [],
   "source": [
    "from IPython.core.display import HTML\n",
    "def css_styling():\n",
    "    styles = open(\"./styles/custom.css\", \"r\").read()\n",
    "    return HTML(styles)\n",
    "css_styling()"
   ]
  }
 ],
 "metadata": {
  "celltoolbar": "Slideshow",
  "kernelspec": {
   "display_name": "Python 3",
   "language": "python",
   "name": "python3"
  },
  "language_info": {
   "codemirror_mode": {
    "name": "ipython",
    "version": 3
   },
   "file_extension": ".py",
   "mimetype": "text/x-python",
   "name": "python",
   "nbconvert_exporter": "python",
   "pygments_lexer": "ipython3",
   "version": "3.6.9"
  }
 },
 "nbformat": 4,
 "nbformat_minor": 2
}
