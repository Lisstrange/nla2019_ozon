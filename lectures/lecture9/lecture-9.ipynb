{
 "cells": [
  {
   "cell_type": "markdown",
   "metadata": {
    "slideshow": {
     "slide_type": "slide"
    }
   },
   "source": [
    "# Лекция 9. Матричные функции и матричные уравнения"
   ]
  },
  {
   "cell_type": "markdown",
   "metadata": {
    "slideshow": {
     "slide_type": "slide"
    }
   },
   "source": [
    "## На прошлой лекции\n",
    "\n",
    "- Свёртка и преобразование Фурье\n",
    "- Тёплицевы матрицы, циркулянты\n",
    "- Алгоритм быстрого преобразования Фурье\n",
    "- Матрицы с малым рангом смещения (low-displacement rank)"
   ]
  },
  {
   "cell_type": "markdown",
   "metadata": {
    "slideshow": {
     "slide_type": "slide"
    }
   },
   "source": [
    "## План на сегодня\n",
    "\n",
    "- Матричные функции\n",
    "- Матричная экспонента \n",
    "- Алгоритмы вычисления матричных функций\n",
    "- Матричные уравнения\n",
    "\n",
    "Книга по теме: [Functions of matrices by Nick Higham](http://www.google.ru/books?hl=ru&lr=&id=2Wz_zVUEwPkC&oi=fnd&pg=PR3&dq=Higham+matrix+function&ots=pTt6fpLGRX&sig=DgUuX-SpBZGin8CFUo-4MYnOcHE&redir_esc=y#v=onepage&q=Higham%20matrix%20function&f=false)"
   ]
  },
  {
   "cell_type": "markdown",
   "metadata": {
    "slideshow": {
     "slide_type": "slide"
    }
   },
   "source": [
    "## Простейшая матричная функция: матричный полином\n",
    "\n",
    "Матричный полином имеет очень простой вид\n",
    "\n",
    "$$ P(A) = \\sum_{k=0}^n c_k A^k. $$\n",
    "\n",
    "[Теорема Гамильтона-Кэли](https://ru.wikipedia.org/wiki/%D0%A2%D0%B5%D0%BE%D1%80%D0%B5%D0%BC%D0%B0_%D0%93%D0%B0%D0%BC%D0%B8%D0%BB%D1%8C%D1%82%D0%BE%D0%BD%D0%B0_%E2%80%94_%D0%9A%D1%8D%D0%BB%D0%B8) утверждает, что $F(A) = 0$ где $F(\\lambda) = \\det(A - \\lambda I)$."
   ]
  },
  {
   "cell_type": "markdown",
   "metadata": {
    "slideshow": {
     "slide_type": "slide"
    }
   },
   "source": [
    "## Матричный полином как способ построения любой матричной фугнкции\n",
    "\n",
    "Можно определить функцию от матрицы с помощью ряда Тейлора:  \n",
    "\n",
    "$$ f(A) = \\sum_{k=0}^{\\infty} c_k A^k. $$\n",
    "\n",
    "Сходимость означает как сходимость в некоторой **матричной норме**.  \n",
    "\n",
    "Примером такого ряда является ряд Неймана\n",
    "\n",
    "$$ (I - F)^{-1} = \\sum_{k=0}^{\\infty} F^k, $$\n",
    "\n",
    "который определён для $\\rho(F) < 1$."
   ]
  },
  {
   "cell_type": "markdown",
   "metadata": {
    "slideshow": {
     "slide_type": "slide"
    }
   },
   "source": [
    "## Ряд для матричной экспоненты\n",
    "\n",
    "Наиболее известной матричной функцией является **матричная экспонента**. В скалярном случае ряд выглядит следующим образом  \n",
    "\n",
    "$$ e^x = 1 + x + \\frac{x^2}{2} + \\frac{x^3}{6} + \\ldots = \\sum_{k=0}^{\\infty} \\frac{x^k}{k!}, $$\n",
    "\n",
    "и он напрямую обобщается на матричный случай:  \n",
    "\n",
    "$$ e^A = \\sum_{k=0}^{\\infty} \\frac{A^k}{k!}. $$\n",
    "\n",
    "Этот ряд всегда сходится, так как выполнено следующее равенство\n",
    "\n",
    "$$\\sum_{k=0}^{\\infty} \\frac{\\Vert A \\Vert^k}{k!} = e^{\\Vert A \\Vert}.$$"
   ]
  },
  {
   "cell_type": "markdown",
   "metadata": {
    "slideshow": {
     "slide_type": "slide"
    }
   },
   "source": [
    "## Почему матричная экспонента важна?\n",
    "\n",
    "Огромное количество прикладных задач сводится к системе обыкновенных дифференциальных уравнений вида\n",
    "\n",
    "$$ \\frac{dy}{dt} = Ay, \\quad y(0) = y_0. $$\n"
   ]
  },
  {
   "cell_type": "markdown",
   "metadata": {
    "slideshow": {
     "slide_type": "slide"
    }
   },
   "source": [
    "## Обыкновенные дифференциальные уравнения и матричная экспонента\n",
    "\n",
    "- Дано уравнение\n",
    "\n",
    "$$\\frac{dy}{dt} = Ay, \\quad y(0) = y_0.$$\n",
    "\n",
    "- Формально решение задаётся выражением $y(t) = e^{At} y_0$, поэтому если известна $e^{At}$ (или мы можем быстро умножить матричную экспоненту на вектор), то решение можно получить гораздо быстрее по сравнению с методами, основанными на шагах по времени  \n",
    "- Действительно,\n",
    "\n",
    "$$\\frac{d}{dt} e^{At} = \\frac{d}{dt} \\sum_{k=0}^{\\infty} \\frac{t^k A^k}{k!} = \\sum_{k=1}^{\\infty} \\frac{t^{k-1} A^{k}}{(k-1)!}  = A e^{At}.$$"
   ]
  },
  {
   "cell_type": "markdown",
   "metadata": {
    "slideshow": {
     "slide_type": "slide"
    }
   },
   "source": [
    "## Матричная экспонента и шаги по времени\n",
    "\n",
    "Матричная экспонента может быть гораздо лучше, чем решение с помощью, например, схемы Эйлера:\n",
    "\n",
    "$$\\frac{dy}{dt} \\approx \\frac{y_{k+1} - y_k}{\\tau} = A y_k, \\quad y_{k+1} = y_k + \\tau A y_k,$$\n",
    "\n",
    "если мы знаем как вычислить произведение матричной экспоненты на вектор, используя только произведения матрицы $A$ на вектор.\n",
    "\n",
    "Для плотных матриц матричная экспонента даёт **точный** ответ для ОДУ в любой момент времени $t$ по сравнению с приближённым решением, полученным из схемы Эйлера или схожих подходов."
   ]
  },
  {
   "cell_type": "markdown",
   "metadata": {
    "slideshow": {
     "slide_type": "slide"
    }
   },
   "source": [
    "## Как вычислять матричные функции, включая матричную экспоненту?\n",
    "\n",
    "- Существует очень много методов даже для матричной экспоненты!\n",
    "\n",
    "- См. статью [C. Van Loan, C. Moler, Nineteen Dubious Ways to Compute the Exponential of a Matrix, Twenty-Five Years Later](http://www.cs.cornell.edu/cv/researchpdf/19ways+.pdf)\n",
    "\n",
    "- Самый простой метод – это диагонализация матрицы:  \n",
    "\n",
    "$$ A = S \\Lambda S^{-1}, $$\n",
    "\n",
    "где столбцы $S$ – собственные векторы матрицы $A$, тогда\n",
    "\n",
    "$$ F(A) = S F(\\Lambda) S^{-1}. $$\n",
    "\n",
    "**Проблема: диагонализация неустойчива!** (и не любая матрица диагонализуема)\n",
    "\n",
    "Далее короткое демо"
   ]
  },
  {
   "cell_type": "code",
   "execution_count": 1,
   "metadata": {
    "slideshow": {
     "slide_type": "slide"
    }
   },
   "outputs": [
    {
     "name": "stdout",
     "output_type": "stream",
     "text": [
      "[[1.e+00 1.e+00 0.e+00 0.e+00]\n",
      " [0.e+00 1.e+00 1.e+00 0.e+00]\n",
      " [0.e+00 0.e+00 1.e+00 1.e+00]\n",
      " [0.e+00 0.e+00 1.e-04 1.e+00]]\n",
      "16384.000030517578\n",
      "[[1.00000000e+00 0.00000000e+00 9.09494702e-13 1.63840000e+04]\n",
      " [0.00000000e+00 1.00000000e+00 1.00000000e+00 0.00000000e+00]\n",
      " [0.00000000e+00 0.00000000e+00 1.00000000e+00 1.00000000e+00]\n",
      " [0.00000000e+00 0.00000000e+00 1.00000000e-04 1.00000000e+00]]\n"
     ]
    }
   ],
   "source": [
    "import numpy as np\n",
    "eps = 1e-4\n",
    "p = 4\n",
    "a = np.eye(p)\n",
    "for i in range(p-1):\n",
    "    a[i, i+1] = 1\n",
    "    \n",
    "a[p-1, 2] = eps\n",
    "print(a)\n",
    "val, vec = np.linalg.eig(a)\n",
    "#print a\n",
    "print(np.linalg.norm(a - vec.dot(val[:, np.newaxis] * np.linalg.inv(vec))))\n",
    "#print 'S * D * S^{-1}:' \n",
    "print(vec.dot(val[:, np.newaxis] * np.linalg.inv(vec)))"
   ]
  },
  {
   "cell_type": "markdown",
   "metadata": {
    "slideshow": {
     "slide_type": "slide"
    }
   },
   "source": [
    "Сейчас мы вычислим матричную экспоненту с помощью диагонализации от **возмущённой Жордановой клетки**."
   ]
  },
  {
   "cell_type": "code",
   "execution_count": 2,
   "metadata": {
    "slideshow": {
     "slide_type": "slide"
    }
   },
   "outputs": [
    {
     "name": "stdout",
     "output_type": "stream",
     "text": [
      "2.0\n",
      "Difference = 5.959978842992802\n"
     ]
    }
   ],
   "source": [
    "import numpy as np\n",
    "eps = 1e-16\n",
    "p = 5\n",
    "a = np.eye(p)\n",
    "for i in range(p-1):\n",
    "    a[i, i+1] = 1\n",
    "    \n",
    "a[p-1, 0] = eps\n",
    "a = np.array(a)\n",
    "val, vec = np.linalg.eig(a)\n",
    "print(np.linalg.norm(a - vec.dot(np.diag(val)).dot(np.linalg.inv(vec))))\n",
    "\n",
    "fun = lambda x: np.exp(x)\n",
    "\n",
    "#Using diagonalization\n",
    "fun_diag = vec.dot(np.diag(fun(val))).dot(np.linalg.inv(vec))\n",
    "\n",
    "\n",
    "#Using Schur\n",
    "import scipy.linalg\n",
    "fun_m = scipy.linalg.expm(a)\n",
    "print('Difference = {}'.format(np.linalg.norm(fun_m - fun_diag)))"
   ]
  },
  {
   "cell_type": "markdown",
   "metadata": {
    "slideshow": {
     "slide_type": "slide"
    }
   },
   "source": [
    "## Как работает функция ```funm```?\n",
    "\n",
    "- Матричная экспонента – это особая функция, и для её вычисления существуют специальные методы.  \n",
    "\n",
    "- Для произвольной функции $F$, есть замечательный **алгоритм Шура-Парлетта**, который основан для **теореме Шура**"
   ]
  },
  {
   "cell_type": "markdown",
   "metadata": {
    "slideshow": {
     "slide_type": "slide"
    }
   },
   "source": [
    "## Алгоритм Шура-Парлетта\n",
    "\n",
    "- Для данной матрицы $A$ мы хотим вычислить $F(A)$, и можем вычислить $F$ только в **скалярных точках**\n",
    "\n",
    "- Сначала сведём матрицу $A$ к **треугольной форме**  \n",
    "\n",
    "$$ A = U T U^*. $$\n",
    "\n",
    "- Поэтому  $F(A)=U F(T) U^*$\n",
    "\n",
    "- Нам осталось вычислить функцию от треугольной матрицы."
   ]
  },
  {
   "cell_type": "markdown",
   "metadata": {
    "slideshow": {
     "slide_type": "slide"
    }
   },
   "source": [
    "## Вычисление функции от треугольных матриц\n",
    "\n",
    "- Мы знаем значения на диагоналях\n",
    "\n",
    "$$ F_{ii} = F(T_{ii}), $$\n",
    "\n",
    "также мы знаем, что\n",
    "\n",
    "$$ F T = T F, $$\n",
    "\n",
    "то есть значение матричной функции **коммутирует** с самой матрицей. \n",
    "\n",
    "- Матричная функция от треугольной матрицы есть треугольная матрица.\n",
    "- Используя известные значения на главной диагонали и свойство коммутативности, мы получим последовательно остальные диагонали:\n",
    "\n",
    "$$f_{ij} = t_{ij} \\frac{f_{ii} - f_{jj}}{t_{ii} - t_{jj}} + \\sum_{k=i+1}^{j-1} \\frac{f_{ik} t_{kj} - t_{ki}f_{kj}}{t_{ii} - t_{jj}}.$$"
   ]
  },
  {
   "cell_type": "markdown",
   "metadata": {
    "slideshow": {
     "slide_type": "slide"
    }
   },
   "source": [
    "## Матричные функции: ещё одно определение\n",
    "\n",
    "- Одним из способов определение матричной функции $f(A)$ является использование **канонической формы Жордана**.\n",
    "\n",
    "- Более элегантный способ определить матричные функции – это использовать **интегральное представление Коши:**\n",
    "\n",
    "$$\n",
    "    f(A) = \\int_{\\Gamma} f(z) (zI - A)^{-1} dz,\n",
    "$$\n",
    "\n",
    "где $f(z)$ аналитическая функция на границе и внутри замкнутого контура $\\Gamma$, который покрывает спектр матрицы $A$.\n",
    "\n",
    "- Определение можно обобщить на случай **операторов**"
   ]
  },
  {
   "cell_type": "markdown",
   "metadata": {
    "slideshow": {
     "slide_type": "slide"
    }
   },
   "source": [
    "## Важные матричные функции\n",
    "\n",
    "- Матричная экспонента используется для решения ОДУ $\\frac{dy}{dt} = Ay$ в явном виде $y = e^{At}y_0.$\n",
    "- $\\cos(A), \\sin(A)$ используются для решения волнового уравнения $\\frac{d^2 y}{dt^2} + Ay = 0.$\n",
    "- Функция знака, $\\mathrm{sign}(A)$, используется для вычисления **спектральных проекций.**\n",
    "- Обратный квадратный корень из матрицы $A^{-1/2}$ необходим в различных задачах, например, для генерирования сэмплов из нормального распределения"
   ]
  },
  {
   "cell_type": "markdown",
   "metadata": {
    "slideshow": {
     "slide_type": "slide"
    }
   },
   "source": [
    "## И снова матричная экспонента\n",
    "\n",
    "- Матричная функция задаётся следующим рядом:\n",
    "\n",
    "$$e^A = I + A + \\frac{1}{2} A^2 + \\frac{1}{3!} A^3 + \\ldots$$\n",
    "\n",
    "- Использовать этот ряд для вычисления – плохая идея (даже для скалярного случая, почему?)"
   ]
  },
  {
   "cell_type": "code",
   "execution_count": 16,
   "metadata": {
    "slideshow": {
     "slide_type": "slide"
    }
   },
   "outputs": [
    {
     "name": "stdout",
     "output_type": "stream",
     "text": [
      "Error in the exponent: 65220007.32064143\n"
     ]
    }
   ],
   "source": [
    "import numpy as np\n",
    "\n",
    "x = -30.0 #Point\n",
    "k = 1000000 #Number of terms\n",
    "b = 1.0\n",
    "x0 = x\n",
    "for i in range(1, k):\n",
    "    b += x0\n",
    "    x0 *= x/(i+1)\n",
    "    \n",
    "print('Error in the exponent: {}'.format((b - np.exp(x))/np.exp(x)))"
   ]
  },
  {
   "cell_type": "markdown",
   "metadata": {
    "slideshow": {
     "slide_type": "slide"
    }
   },
   "source": [
    "## Сходимость ряда\n",
    "\n",
    "- Сходимость ряда для матричной экспоненты может быть медленной для больших значений $x$ (то есть для большой нормы матрицы).\n",
    "\n",
    "- Что мы можем сделать?"
   ]
  },
  {
   "cell_type": "markdown",
   "metadata": {
    "slideshow": {
     "slide_type": "slide"
    }
   },
   "source": [
    "## Использовать Крыловские пространства\n",
    "\n",
    "- Мы можем использовать идею Крыловских методов: с помощью метода Арнольди генерировать ортогональный базис в Крыловском подпространстве и вычислить (это можно делать в общем случае для любой функции)\n",
    "\n",
    "$$ f(A)v \\approx f(Q H Q^*)v = Q f(H) Q^*v,$$\n",
    "\n",
    "где $H$ небольшая верхне-Гессенбергова матрица, для вычисления функции от которой мы можем использовать, например **алгоритм Шура-Парлетта**\n",
    "\n",
    "- Сходимость Крыловского метода может быть очень медленной, так как по сути это **полиномиальная аппроксимация** матричной функции.\n",
    "\n",
    "- А сходимость полиномиальной аппроксимации может быть **очень медленной**\n",
    "\n",
    "- **Идея:** заменить полиномы рациональными функциями!"
   ]
  },
  {
   "cell_type": "markdown",
   "metadata": {
    "slideshow": {
     "slide_type": "slide"
    }
   },
   "source": [
    "## Аппроксимация Паде\n",
    "\n",
    "- Матричная экспонента хорошо приближается **рациональными функециями**:  \n",
    "\n",
    "$$\n",
    "\\exp(x) \\approx \\frac{p(x)}{q(x)},\n",
    "$$\n",
    "\n",
    "где $p(x)$ и $q(x)$ полиномы, тогда вычисление рациональной матричной функции сводится к **матричным произведениям** и **обращаениям матриц**\n",
    "\n",
    "- Рациональная функция также удобна в случае, когда необходимо вычислить только произведение матричной экспоненты на вектор, поскольку вычисление в этом случае сводится к **умножению матрицы на вектор** и **решению систем линейных уравнений**"
   ]
  },
  {
   "cell_type": "code",
   "execution_count": 13,
   "metadata": {
    "slideshow": {
     "slide_type": "slide"
    }
   },
   "outputs": [
    {
     "data": {
      "image/png": "[encoded data removed]",
      "text/plain": [
       "<Figure size 432x288 with 1 Axes>"
      ]
     },
     "metadata": {
      "needs_background": "light"
     },
     "output_type": "display_data"
    }
   ],
   "source": [
    "#Computing Pade approximant\n",
    "import numpy as np\n",
    "import mpmath\n",
    "%matplotlib inline\n",
    "from mpmath import pade, taylor, polyval\n",
    "import matplotlib.pyplot as plt\n",
    "x = np.linspace(-5, -1, 128)\n",
    "a = taylor(mpmath.exp, 0, 20) #Taylor series\n",
    "k1 = 10\n",
    "k2 = 10\n",
    "p, q = pade(a, k1, k2) #Pade approximant\n",
    "plt.plot(x, polyval(p[::-1], x)/polyval(q[::-1], x) - np.exp(x), label=\"Pade\")\n",
    "plt.semilogy(x, polyval(a[::-1], x) - np.exp(x), label=\"Taylor\")\n",
    "plt.legend()\n",
    "_ = plt.title('Error of the Pade of order {0:d}/{1:d}'.format(k1, k2) )"
   ]
  },
  {
   "cell_type": "markdown",
   "metadata": {
    "slideshow": {
     "slide_type": "slide"
    }
   },
   "source": [
    "## Алгоритм scaling & squaring \n",
    "\n",
    "Канонический алгоритм вычисления матричной экспоненты опирается на масштабирование (scaling) матрицы $A$:\n",
    "\n",
    "$$\\exp(A) = \\exp(A/2^k)^{(2^k)}.$$\n",
    "\n",
    "В этом случае матрица имеет малую норму, что приводит к следующему алгоритму:\n",
    "\n",
    "- Получить матрицу $B := A/2^k$ с нормой меньше 1 – шаг scaling\n",
    "- Вычислить матричную экспоненту $C = e^B$ с помощью аппроксимации Паде\n",
    "- Получить $e^A \\approx C^{(2^k)}$ с помощью $k$ матричных произведений – шаг squaring"
   ]
  },
  {
   "cell_type": "markdown",
   "metadata": {
    "slideshow": {
     "slide_type": "slide"
    }
   },
   "source": [
    "## Матричная экспонента для матриц большой размерности\n",
    "\n",
    "- Для матриц большого размера нельзя использовать алгоритм scaling-squaring, так как в нём надо работать с плотными матрицами, поэтому мы можем использовать Крыловские методы или (что лучше) **рациональные** Крыловские методы\n",
    "\n",
    "- Идея рациональных Крыловских методов опирается на идею рациональной аппроксимации вместо полиномиальной\n",
    "\n",
    "- Обычные Крыловские методы опираются на полиномиальную аппроксимацию"
   ]
  },
  {
   "cell_type": "markdown",
   "metadata": {
    "slideshow": {
     "slide_type": "slide"
    }
   },
   "source": [
    "## Рациональные Крыловские подпространства\n",
    "\n",
    "- Простой и эффективный подход основан на, так называемых, **расширенных Крыловских подпространствах**:\n",
    "\n",
    "$$KE(A, b) = \\mathrm{Span}(\\ldots, A^{-2} b, A^{-1} b, b, A b, A^2 b, \\ldots)$$\n",
    "\n",
    "- На каждом шаге добавляется векторы вида $A w$ и $A^{-1} w$ в подпространство и результат ортогонализуется (**рациональный метод Арнольди**).\n",
    "\n",
    "- То есть нам нужно только решить одну линейную систему на каждом шаге, но если матрица не меняется её можно один раз факторизовать и использовать факторизацию на всех последующих итерациях."
   ]
  },
  {
   "cell_type": "markdown",
   "metadata": {
    "slideshow": {
     "slide_type": "slide"
    }
   },
   "source": [
    "## Рациональный Крыловский метод\n",
    "\n",
    "Рациональные Крыловские методы являются наиболее эффективными для вычисления произведения матричной функции на вектор:\n",
    "\n",
    "- Построим ортогональный базис в пространстве\n",
    "\n",
    "$$KE(A, b) = \\mathrm{Span}(\\ldots, A^{-2} b, A^{-1} b, b, A b, A^2 b, \\ldots)$$\n",
    "\n",
    "- И вычислим\n",
    "\n",
    "$$f(A)b \\approx Q f(H) Q^*b,$$\n",
    "\n",
    "где $H = Q^* A Q.$\n",
    "\n",
    "Этот метод требует одного решения линейной системы и умножения матрицы на вектор на каждой итерации."
   ]
  },
  {
   "cell_type": "markdown",
   "metadata": {
    "slideshow": {
     "slide_type": "slide"
    }
   },
   "source": [
    "## Применение к вычислению расстояний между многообразиями\n",
    "\n",
    "- Представим два многообразия $\\mathcal{M}$ и $\\mathcal{N}$ как облака точек\n",
    "- Построим два графа из этих облаков точек\n",
    "- Для каждого графа можно построить свой Лапласиан ($L_{\\mathcal{M}}$ и $L_{\\mathcal{N}}$) (вспомните лекцию о векторе Фидлера!)\n",
    "- Heat kernel trace \n",
    "\n",
    "$$\\mathrm{hkt}_{\\mathcal{M}}(t) = \\mathrm{trace}(\\exp(-t L_{\\mathcal{M}}))$$\n",
    "\n",
    "содержит всю информацию о спектре графа\n",
    "\n",
    "- Расстояние Громова-Вассерштайна между многообразиями $\\mathcal{M}$ и $\\mathcal{N}$:\n",
    "\n",
    "$$d_{GW}(\\mathcal{M}, \\mathcal{N}) \\geq \\sup_{t > 0} \\exp(-2(t + t^{-1}))|\\mathrm{hkt}_{\\mathcal{M}}(t) - \\mathrm{hkt}_{\\mathcal{N}}(t)|$$"
   ]
  },
  {
   "cell_type": "markdown",
   "metadata": {
    "slideshow": {
     "slide_type": "slide"
    }
   },
   "source": [
    "### Стохастическая оценка следа\n",
    "\n",
    "- Hutchinson [предложил](https://www.tandfonline.com/doi/abs/10.1080/03610919008812866) следующий метод для оценки следа матрицы\n",
    "\n",
    "$$ \\mathrm{trace}(A) = \\mathbb{E}_{p(x)}(x^{\\top}Ax), $$\n",
    "\n",
    "где $p(x)$ некоторое распределение с нулевым средним и единичной дисперсией, например стандартное нормальное распределение или распределение Радемахера\n",
    "\n",
    "- Для оценки следа нам нужно уметь быстро умножать матрицу на вектор!\n",
    "- И тут рациональные Крыловские подпространства вступают в игру, так как $\\mathrm{hkt}$ требует вычисления следа от матричной экспоненты"
   ]
  },
  {
   "cell_type": "markdown",
   "metadata": {
    "slideshow": {
     "slide_type": "slide"
    }
   },
   "source": [
    "### Расстояние между языками ([картинка из статьи](https://openreview.net/pdf?id=HyebplHYwB))\n",
    "\n",
    "<img src=\"./gw_matexp.png\">"
   ]
  },
  {
   "cell_type": "markdown",
   "metadata": {
    "slideshow": {
     "slide_type": "slide"
    }
   },
   "source": [
    "## Другие матричные функции\n",
    "\n",
    "Теперь кратко обсудим другие матричные функции:\n",
    "\n",
    "- знак (sign)\n",
    "- обратный квадратный корень"
   ]
  },
  {
   "cell_type": "markdown",
   "metadata": {
    "slideshow": {
     "slide_type": "slide"
    }
   },
   "source": [
    "## Функция знак (sign)\n",
    "\n",
    "- Функция знак (sign) определена как\n",
    "\n",
    "$$\\mathrm{sign}(x) = \\begin{cases} 1, \\quad x > 0, \\\\ -1, \\quad x < 0. \\end{cases}$$\n",
    "\n",
    "- Для данной матрицы $A = U \\Lambda U^*$ функция знак отображает все собственные значения больше $0$ в $1$, а все собственные значения меньше $0$ в $-1$, то есть\n",
    "\n",
    "$$P = \\frac{(I + \\mathrm{sign}(A))}{2}$$\n",
    "\n",
    "является проектором на подпространство натянутое на все собственные векторы для положительных собственных значений. \n",
    "\n",
    "- Такие проекторы могут быть очень полезными при вычислениях собственных значений для матриц большой размерности, если нужно найти только подпространство для собственных векторов"
   ]
  },
  {
   "cell_type": "markdown",
   "metadata": {
    "slideshow": {
     "slide_type": "slide"
    }
   },
   "source": [
    "## Как вычислить функцию знак?\n",
    "\n",
    "- Для вычисления этой функции есть очень простой итерационный метод\n",
    "\n",
    "$$X_{k+1} = \\frac{1}{2} (X_k + X^{-1}_k), X_0 = \\alpha A.$$\n",
    "\n",
    "- Этот метод сходится **квадратично** к функции знака.\n",
    "\n",
    "- Также можно использовать полиномиальный метод, [предложенный R. Byers](http://www.sciencedirect.com/science/article/pii/0024379587902229)\n",
    "\n",
    "$$X_{k+1} = \\frac{1}{2} X_k (3 I - X_k), \\quad X_0 = \\alpha A.$$"
   ]
  },
  {
   "cell_type": "markdown",
   "metadata": {
    "slideshow": {
     "slide_type": "slide"
    }
   },
   "source": [
    "## Функция матричного знака: приложение\n",
    "\n",
    "- Одним из важных приложений этой матричной функции является решение алгебраического уравнения Рикатти\n",
    "\n",
    "$$A^* X + X A - X R X + G = 0,$$\n",
    "\n",
    "которое возникает в задачах оптимального и стохастического управления.\n",
    "\n",
    "- Решение этого уравнения эквивалентно поиску устойчивого инвариантного подпространства (то есть соответствующего отрицательным собственным значениям) для матрицы \n",
    "\n",
    "$$\n",
    "    C = \\begin{bmatrix} A^* & G \\\\ R & -A \\end{bmatrix}.\n",
    "$$"
   ]
  },
  {
   "cell_type": "markdown",
   "metadata": {
    "slideshow": {
     "slide_type": "slide"
    }
   },
   "source": [
    "## Обратный квадратный корень матрицы\n",
    "\n",
    "- Обратный квадратный корень матрицы $A^{-1/2}$ также очень важная матричная функция.\n",
    "\n",
    "- Многомерное нормальное распределение с ковариационной матрицей $A = A^* > 0$ задаётся с помощью \n",
    "\n",
    "$$e^{A^{-1} x, x}.$$\n",
    "\n",
    "- Пусть $x$ вектор большой размерности (миллионы), как сгенерировать сэмпл из нормального распределения с данной **структурированной** ковариационной матрицей $A$?\n",
    "\n",
    "- Простейший алгоритм – это сгенерировать вектор $y$ из стандартного нормального распределения, а затем вычислить \n",
    "\n",
    "$$x = A^{-\\frac{1}{2}} y.$$\n",
    "\n",
    "- Таким образом, вектор $x$ будет из соответствующего распределения.\n",
    "\n",
    "- Рациональные Крпыловские подпространства особо эффективны для вычисления квадратного корня из матрицы"
   ]
  },
  {
   "cell_type": "markdown",
   "metadata": {
    "slideshow": {
     "slide_type": "slide"
    }
   },
   "source": [
    "## Матричные уравнения\n",
    "\n",
    "- Уравнение вида\n",
    "\n",
    "$$F(X) = G, \\quad X \\in \\mathbb{R}^{n \\times m}$$ \n",
    "\n",
    "называется **маричным уравнением**.\n",
    "\n",
    "- Линейным матричным уравнением называется такое уравнение, в котором $X$ и $G$ матрицы, и $F$ линейный оператор."
   ]
  },
  {
   "cell_type": "markdown",
   "metadata": {
    "slideshow": {
     "slide_type": "slide"
    }
   },
   "source": [
    "## Два важных матричных уравнения\n",
    "\n",
    "Обсудим два матричных уравнения:\n",
    "\n",
    "- **уравнение Сильвестра**\n",
    "\n",
    "$$ A X + X B = C,$$\n",
    "\n",
    "где $A$ и $B$ данные матрицы, и его частный случай, **непрерывное уравнение Ляпунова**,\n",
    "\n",
    "$$ A X + XA^{\\top} = C,$$\n",
    "\n",
    "и \n",
    "\n",
    "- **дискретное уравнение Ляпунова**\n",
    "\n",
    "$$A X A^* - X = C. $$"
   ]
  },
  {
   "cell_type": "markdown",
   "metadata": {
    "slideshow": {
     "slide_type": "slide"
    }
   },
   "source": [
    "## Приложение для уравнения Ляпунова\n",
    "\n",
    "- Уравнение Ляпунова очень важно для определения устойчивости динамических систем и для снижения сложности моделей.\n",
    "\n",
    "$$\\frac{dy}{dt} = Ay, \\quad y(0) = y_0,$$\n",
    "\n",
    "$$y(t) \\rightarrow 0$$ \n",
    "\n",
    "для $t \\rightarrow \\infty$.\n",
    "\n",
    "- Система устойчива, iff для любой $Q = Q^* > 0$ существует единственное положительно определённое решение $P$ уравнения Ляпунова\n",
    "\n",
    "$$A P + P A^* = Q.$$\n",
    "\n",
    "- То есть устойчивость также может быть определена без вычисления собственных значений."
   ]
  },
  {
   "cell_type": "markdown",
   "metadata": {
    "slideshow": {
     "slide_type": "slide"
    }
   },
   "source": [
    "## Приложение к снижению сложности модели\n",
    "\n",
    "Дана линейная инвариантная по времени система:\n",
    "\n",
    "$$\\frac{dx}{dt} = Ax + Bu, \\quad y = C x,$$\n",
    "\n",
    "где $x$ – **состояние**, $u$ – управление, и $y$ – наблюдение. Хотим аппроксимировать её с помощью линейной системы меньшей размерности\n",
    "\n",
    "$$\n",
    "   \\frac{d\\widehat{x}}{dt} = \\widehat{A} \\widehat{x} + \\widehat{B} u, \\quad y = \\widehat{C} \\widehat{x},\n",
    "$$\n",
    "\n",
    "таким образом, чтобы наблюдения приближённой системы были близки к наблюдению исходной системы (большой размерности).\n",
    "\n",
    "Оптимальные $\\widehat{A}, \\widehat{B}, \\widehat{C}$ могут быть восстановлены из решения вспомогательного уравнения Ляпунова."
   ]
  },
  {
   "cell_type": "markdown",
   "metadata": {
    "slideshow": {
     "slide_type": "slide"
    }
   },
   "source": [
    "## Кронекерово произведение: напоминание\n",
    "\n",
    "Кронекерово произведение двух матриц $A \\in \\mathbb{R}^{n_1 \\times m_1}$ и $B \\in \\mathbb{R}^{n_2 \\times m_2}$ – это матрица $C$ размера $(n_1 n_2) \\times (m_1 m_2)$ состоящая из блоков \n",
    "\n",
    "$$A \\otimes B = [a_{ij} B].$$"
   ]
  },
  {
   "cell_type": "markdown",
   "metadata": {
    "slideshow": {
     "slide_type": "slide"
    }
   },
   "source": [
    "## Главное свойство Кронекерова произведения и оператора $\\mathrm{vec}$\n",
    "\n",
    "$$\\mathrm{vec}(A X B^{\\top}) = (B \\otimes A) \\mathrm{vec}(X).$$"
   ]
  },
  {
   "cell_type": "markdown",
   "metadata": {
    "slideshow": {
     "slide_type": "slide"
    }
   },
   "source": [
    "## Перепишем уравнение Сильвестра\n",
    "\n",
    "$$\\mathrm{vec}(A X B^{\\top}) = (B \\otimes A) \\mathrm{vec}(X).$$\n",
    "\n",
    "- Тогда уравнение Сильвестра \n",
    "\n",
    "$$ A X + X B = C $$ \n",
    "\n",
    "примет вид\n",
    "\n",
    "$$\\mathrm{vec}(AX  + X B) =  (I \\otimes A + B^{\\top} \\otimes I) \\mathrm{vec}(X) = \\mathrm{vec}(C).$$\n",
    "\n",
    "- То есть нам нужно решить линейную систему с матрицей\n",
    "\n",
    "$$(I \\otimes A + B^{\\top} \\otimes I)$$\n",
    "\n",
    "- Это матрица размера $n^2$, и метод Гаусса потребует $\\mathcal{O}(n^6)$ операций.\n",
    "\n",
    "- Однако мы можем решить это уравнение за $\\mathcal{O}(n^3)$ операций!"
   ]
  },
  {
   "cell_type": "markdown",
   "metadata": {
    "slideshow": {
     "slide_type": "slide"
    }
   },
   "source": [
    "## Решение уравнение Сильвестра: метод Bartels-Stewart\n",
    "\n",
    "$$(I \\otimes A + B^{\\top} \\otimes I) x = c.$$\n",
    "\n",
    "- Вычислим разложение Шура от матриц $A$ и $B$:\n",
    "\n",
    "$$A = Q_A T_A Q^*_A, \\quad B^{\\top} = Q_B T_B Q^*_B.$$\n",
    "\n",
    "- Тогда мы имеем\n",
    "\n",
    "$$(I \\otimes A + B^{\\top} \\otimes I) = (I \\otimes ( Q_A T_A Q^*_A ) + (Q_B T_B Q^*_B \\otimes I) = (Q_B \\otimes Q_A) ( I \\otimes T_A + T_B \\otimes I) (Q^* _B \\otimes Q^*_A). $$\n",
    "\n",
    "- А также\n",
    "\n",
    "$$(Q_B \\otimes Q_A)^{-1} = Q^*_B \\otimes Q^*_A,$$\n",
    "\n",
    "то есть нам нужно решить вспомогательную линейную систему с матрицей\n",
    "\n",
    "$$I \\otimes T_A + T_B \\otimes I.$$\n",
    "\n",
    "- Заметим, что если $A$ и $B$ эрмитовы, то $T_A$ и $T_B$ диагональные, и вся матрица также диагональная!"
   ]
  },
  {
   "cell_type": "markdown",
   "metadata": {
    "slideshow": {
     "slide_type": "slide"
    }
   },
   "source": [
    "## Решение итоговой системы\n",
    "\n",
    "У нас есть следующая система\n",
    "\n",
    "$$(I \\otimes T_A + T_B \\otimes I) z = g,$$\n",
    "\n",
    "в матричном виде\n",
    "\n",
    "$$T_A Z + Z T^{\\top}_B = G.$$\n",
    "\n",
    "Тогда мы просто запишем уравнения поэлементно и увидим, что они успешно решаются для $Z_{11}, Z_{21}, \\ldots, $."
   ]
  },
  {
   "cell_type": "markdown",
   "metadata": {
    "slideshow": {
     "slide_type": "slide"
    }
   },
   "source": [
    "## Резюме\n",
    "\n",
    "- Матричные функции: матричная экспонента, методы для её вычисления, другие матричные функции\n",
    "- Матричные уравнения (уравнения Ляпунова и Сильвестра)"
   ]
  },
  {
   "cell_type": "markdown",
   "metadata": {
    "slideshow": {
     "slide_type": "slide"
    }
   },
   "source": [
    "## 21 декабря в 13:00 презентации проектов!"
   ]
  },
  {
   "cell_type": "code",
   "execution_count": 21,
   "metadata": {
    "slideshow": {
     "slide_type": "skip"
    }
   },
   "outputs": [
    {
     "data": {
      "text/html": [
       "<link href='http://fonts.googleapis.com/css?family=Fenix' rel='stylesheet' type='text/css'>\n",
       "<link href='http://fonts.googleapis.com/css?family=Alegreya+Sans:100,300,400,500,700,800,900,100italic,300italic,400italic,500italic,700italic,800italic,900italic' rel='stylesheet' type='text/css'>\n",
       "<link href='http://fonts.googleapis.com/css?family=Source+Code+Pro:300,400' rel='stylesheet' type='text/css'>\n",
       "<style>\n",
       "    @font-face {\n",
       "        font-family: \"Computer Modern\";\n",
       "        src: url('http://mirrors.ctan.org/fonts/cm-unicode/fonts/otf/cmunss.otf');\n",
       "    }\n",
       "    div.cell{\n",
       "        /*width:80%;*/\n",
       "        /*margin-left:auto !important;\n",
       "        margin-right:auto;*/\n",
       "    }\n",
       "    h1 {\n",
       "        font-family: 'Alegreya Sans', sans-serif;\n",
       "    }\n",
       "    h2 {\n",
       "        font-family: 'Fenix', serif;\n",
       "    }\n",
       "    h3{\n",
       "\t\tfont-family: 'Fenix', serif;\n",
       "        margin-top:12px;\n",
       "        margin-bottom: 3px;\n",
       "       }\n",
       "\th4{\n",
       "\t\tfont-family: 'Fenix', serif;\n",
       "       }\n",
       "    h5 {\n",
       "        font-family: 'Alegreya Sans', sans-serif;\n",
       "    }\t   \n",
       "    div.text_cell_render{\n",
       "        font-family: 'Alegreya Sans',Computer Modern, \"Helvetica Neue\", Arial, Helvetica, Geneva, sans-serif;\n",
       "        line-height: 1.2;\n",
       "        font-size: 120%;\n",
       "        /*width:70%;*/\n",
       "        /*margin-left:auto;*/\n",
       "        margin-right:auto;\n",
       "    }\n",
       "    .CodeMirror{\n",
       "            font-family: \"Source Code Pro\";\n",
       "\t\t\tfont-size: 90%;\n",
       "    }\n",
       "/*    .prompt{\n",
       "        display: None;\n",
       "    }*/\n",
       "    .text_cell_render h1 {\n",
       "        font-weight: 200;\n",
       "        font-size: 50pt;\n",
       "\t\tline-height: 110%;\n",
       "        color:#CD2305;\n",
       "        margin-bottom: 0.5em;\n",
       "        margin-top: 0.5em;\n",
       "        display: block;\n",
       "    }\t\n",
       "    .text_cell_render h5 {\n",
       "        font-weight: 300;\n",
       "        font-size: 16pt;\n",
       "        color: #CD2305;\n",
       "        font-style: italic;\n",
       "        margin-bottom: .5em;\n",
       "        margin-top: 0.5em;\n",
       "        display: block;\n",
       "    }\n",
       "    \n",
       "    li {\n",
       "        line-height: 110%;\n",
       "    }\n",
       "    .warning{\n",
       "        color: rgb( 240, 20, 20 )\n",
       "        }  \n",
       "\n",
       "</style>\n",
       "\n",
       "<script>\n",
       "    MathJax.Hub.Config({\n",
       "                        TeX: {\n",
       "                           extensions: [\"AMSmath.js\"]\n",
       "                           },\n",
       "                tex2jax: {\n",
       "                    inlineMath: [ ['$','$'], [\"\\\\(\",\"\\\\)\"] ],\n",
       "                    displayMath: [ ['$$','$$'], [\"\\\\[\",\"\\\\]\"] ]\n",
       "                },\n",
       "                displayAlign: 'center', // Change this to 'center' to center equations.\n",
       "                \"HTML-CSS\": {\n",
       "                    styles: {'.MathJax_Display': {\"margin\": 4}}\n",
       "                }\n",
       "        });\n",
       "</script>\n"
      ],
      "text/plain": [
       "<IPython.core.display.HTML object>"
      ]
     },
     "execution_count": 21,
     "metadata": {},
     "output_type": "execute_result"
    }
   ],
   "source": [
    "from IPython.core.display import HTML\n",
    "def css_styling():\n",
    "    styles = open(\"./styles/custom.css\", \"r\").read()\n",
    "    return HTML(styles)\n",
    "css_styling()"
   ]
  }
 ],
 "metadata": {
  "anaconda-cloud": {},
  "celltoolbar": "Slideshow",
  "kernelspec": {
   "display_name": "Python 3",
   "language": "python",
   "name": "python3"
  },
  "language_info": {
   "codemirror_mode": {
    "name": "ipython",
    "version": 3
   },
   "file_extension": ".py",
   "mimetype": "text/x-python",
   "name": "python",
   "nbconvert_exporter": "python",
   "pygments_lexer": "ipython3",
   "version": "3.6.9"
  },
  "nav_menu": {},
  "toc": {
   "navigate_menu": true,
   "number_sections": false,
   "sideBar": true,
   "threshold": 6,
   "toc_cell": false,
   "toc_section_display": "block",
   "toc_window_display": false
  }
 },
 "nbformat": 4,
 "nbformat_minor": 1
}
